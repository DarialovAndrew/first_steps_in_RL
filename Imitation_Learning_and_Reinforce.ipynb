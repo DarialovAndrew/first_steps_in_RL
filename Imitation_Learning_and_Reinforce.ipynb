{
  "cells": [
    {
      "cell_type": "code",
      "execution_count": null,
      "metadata": {
        "id": "ClV2mlv2C0KP"
      },
      "outputs": [],
      "source": [
        "# Run this cell if output errors occur\n",
        "\n",
        "import locale\n",
        "locale.getpreferredencoding = lambda: \"UTF-8\""
      ]
    },
    {
      "cell_type": "code",
      "execution_count": null,
      "metadata": {
        "id": "u23m4OdvEg-t"
      },
      "outputs": [],
      "source": [
        "!pip3 install -U PySuperTuxKart"
      ]
    },
    {
      "cell_type": "code",
      "execution_count": null,
      "metadata": {
        "id": "jE6nQ5kbsBed"
      },
      "outputs": [],
      "source": [
        "%load_ext autoreload\n",
        "%autoreload 2"
      ]
    },
    {
      "cell_type": "markdown",
      "metadata": {
        "id": "xlO7b_wwHXon"
      },
      "source": [
        "# Create pkl training/validation files for imitation learning"
      ]
    },
    {
      "cell_type": "markdown",
      "source": [
        "# We were given some agents to compete with. Have them play 500 games with each other and record their actions. At the beginning of each game, we randomly set puck's starting velocity and location."
      ],
      "metadata": {
        "id": "Fa_wRcp3DuF_"
      }
    },
    {
      "cell_type": "code",
      "execution_count": null,
      "metadata": {
        "id": "tjkVa8K3GSbz"
      },
      "outputs": [],
      "source": [
        "from itertools import permutations\n",
        "import subprocess\n",
        "import random\n",
        "from tqdm import tqdm\n",
        "\n",
        "folders_arr = ['agent_1', 'agent_2', 'agent_3', 'agent_4', 'agent_5']\n",
        "pairs_arr = list(permutations(folders_arr, 2))\n",
        "\n",
        "for i in tqdm(range(500)):\n",
        "  index = random.randint(0, len(pairs_arr) - 1)\n",
        "  item = pairs_arr[index]\n",
        "  pos_x = random.randint(-30, 30)\n",
        "  pos_y = random.randint(-30, 30)\n",
        "  vel_x = random.randint(-20, 20)\n",
        "  vel_y = random.randint(-20, 20)\n",
        "  data_f_save_name = \"train_files/\" + item[0] + '_' + item[1] + \"_\"\\\n",
        "                       + str(pos_x) + \"_\" + str(pos_y) + \"_\" + str(vel_x) + \"_\" + str(vel_y) + '.pkl'\n",
        "  print(data_f_save_name)\n",
        "  subprocess.run([\"python3\", \"-m\", \"tournament.runner\", item[0], item[1], \"-s\", data_f_save_name,\n",
        "                  \"-f\", \"600\", \"-m\", \"2\", \"--ball_location\", str(pos_x), str(pos_y), \"--ball_velocity\", str(vel_x), str(vel_y)])\n",
        "\n",
        "for i in tqdm(range(50)):\n",
        "  index = random.randint(0, len(pairs_arr) - 1)\n",
        "  item = pairs_arr[index]\n",
        "  pos_x = random.randint(-30, 30)\n",
        "  pos_y = random.randint(-30, 30)\n",
        "  vel_x = random.randint(-20, 20)\n",
        "  vel_y = random.randint(-20, 20)\n",
        "  data_f_save_name = \"val_files/\" + item[0] + '_' + item[1] + \"_\"\\\n",
        "                       + str(pos_x) + \"_\" + str(pos_y) + \"_\" + str(vel_x) + \"_\" + str(vel_y) + '.pkl'\n",
        "  print(data_f_save_name)\n",
        "  subprocess.run([\"python3\", \"-m\", \"tournament.runner\", item[0], item[1], \"-s\", data_f_save_name,\n",
        "                  \"-f\", \"600\", \"-m\", \"2\", \"--ball_location\", str(pos_x), str(pos_y), \"--ball_velocity\", str(vel_x), str(vel_y)])"
      ]
    },
    {
      "cell_type": "code",
      "execution_count": null,
      "metadata": {
        "id": "088wouo7rXRc"
      },
      "outputs": [],
      "source": [
        "from tqdm import tqdm\n",
        "import numpy as np\n",
        "import torch.utils.tensorboard as tb\n",
        "import os\n",
        "from torch.utils.data import Dataset, DataLoader\n",
        "import torch\n",
        "import pickle"
      ]
    },
    {
      "cell_type": "markdown",
      "metadata": {
        "id": "kfuiXurEHjfN"
      },
      "source": [
        "# Code for dataset creation"
      ]
    },
    {
      "cell_type": "code",
      "execution_count": null,
      "metadata": {
        "id": "OIbnE7RMC-T5"
      },
      "outputs": [],
      "source": [
        "def limit_period(angle):\n",
        "    # turn angle into -1 to 1\n",
        "    return angle - torch.floor(angle / 2 + 0.5) * 2\n",
        "\n",
        "\n",
        "def extract_features(pstate, soccer_state, opponent_state, team_id):\n",
        "    \"\"\"This function is used to perform feature engineering.\"\"\"\n",
        "\n",
        "    # features of ego-vehicle\n",
        "    kart_front = torch.tensor(pstate['kart']['front'], dtype=torch.float32)[[0, 2]]\n",
        "    kart_center = torch.tensor(pstate['kart']['location'], dtype=torch.float32)[[0, 2]]\n",
        "    kart_direction = (kart_front-kart_center) / torch.norm(kart_front-kart_center)\n",
        "    kart_angle = torch.atan2(kart_direction[1], kart_direction[0])\n",
        "\n",
        "    kart_velocity = np.linalg.norm(pstate['kart']['velocity'])\n",
        "\n",
        "    # features of soccer\n",
        "    puck_center = torch.tensor(soccer_state['ball']['location'], dtype=torch.float32)[[0, 2]]\n",
        "    kart_to_puck_direction = (puck_center - kart_center) / torch.norm(puck_center-kart_center)\n",
        "    kart_to_puck_angle = torch.atan2(kart_to_puck_direction[1], kart_to_puck_direction[0])\n",
        "\n",
        "    kart_to_puck_angle_difference = limit_period((kart_angle - kart_to_puck_angle)/np.pi)\n",
        "\n",
        "    distance_to_puck = np.linalg.norm(kart_center - puck_center)\n",
        "\n",
        "    # features of opponents\n",
        "    opponent_center0 = torch.tensor(opponent_state[0]['kart']['location'], dtype=torch.float32)[[0, 2]]\n",
        "    opponent_center1 = torch.tensor(opponent_state[1]['kart']['location'], dtype=torch.float32)[[0, 2]]\n",
        "\n",
        "    opponent_velocity0 = np.linalg.norm(opponent_state[0]['kart']['velocity'])\n",
        "    opponent_velocity1 = np.linalg.norm(opponent_state[1]['kart']['velocity'])\n",
        "\n",
        "    opponent_distance_to_puck0 = np.linalg.norm(opponent_center0 - puck_center)\n",
        "    opponent_distance_to_puck1 = np.linalg.norm(opponent_center1 - puck_center)\n",
        "\n",
        "    kart_to_opponent0 = (opponent_center0 - kart_center) / torch.norm(opponent_center0-kart_center)\n",
        "    kart_to_opponent1 = (opponent_center1 - kart_center) / torch.norm(opponent_center1-kart_center)\n",
        "\n",
        "    kart_to_opponent0_angle = torch.atan2(kart_to_opponent0[1], kart_to_opponent0[0])\n",
        "    kart_to_opponent1_angle = torch.atan2(kart_to_opponent1[1], kart_to_opponent1[0])\n",
        "\n",
        "    kart_to_opponent0_angle_difference = limit_period((kart_angle - kart_to_opponent0_angle)/np.pi)\n",
        "    kart_to_opponent1_angle_difference = limit_period((kart_angle - kart_to_opponent1_angle)/np.pi)\n",
        "\n",
        "    # features of score-line\n",
        "    goal_line_center = torch.tensor(soccer_state['goal_line'][team_id], dtype=torch.float32)[:, [0, 2]].mean(dim=0)\n",
        "    opponent_goal_line_center = torch.tensor(soccer_state['goal_line'][np.abs(team_id - 1)], dtype=torch.float32)[:, [0, 2]].mean(dim=0)\n",
        "\n",
        "    puck_to_goal_line = (goal_line_center-puck_center) / torch.norm(goal_line_center-puck_center)\n",
        "    puck_to_goal_line_angle = torch.atan2(puck_to_goal_line[1], puck_to_goal_line[0])\n",
        "    kart_to_goal_line_angle_difference = limit_period((kart_angle - puck_to_goal_line_angle)/np.pi)\n",
        "\n",
        "    puck_distance_to_the_goal_line = np.linalg.norm(puck_center - goal_line_center)\n",
        "    puck_opponent_distance_to_goal = np.linalg.norm(puck_center - opponent_goal_line_center)\n",
        "\n",
        "    features = torch.tensor([kart_center[0], kart_center[1], kart_angle, kart_to_puck_angle, opponent_center0[0],\n",
        "        opponent_center0[1], opponent_center1[0], opponent_center1[1], kart_to_opponent0_angle, kart_to_opponent1_angle,\n",
        "        goal_line_center[0], goal_line_center[1],\n",
        "        puck_to_goal_line_angle, kart_to_puck_angle_difference,\n",
        "        kart_to_opponent0_angle_difference, kart_to_opponent1_angle_difference,\n",
        "        kart_to_goal_line_angle_difference,\n",
        "        kart_velocity, distance_to_puck, puck_center[0], puck_center[1], opponent_velocity0,\n",
        "        opponent_velocity1, puck_distance_to_the_goal_line, puck_opponent_distance_to_goal\n",
        "                             ], dtype=torch.float32)\n",
        "\n",
        "    return features\n",
        "\n",
        "\n",
        "class Final_Project_Dataset(Dataset):\n",
        "  def __init__(self, dataset_path):\n",
        "    data_files = os.listdir(dataset_path)\n",
        "    data = []\n",
        "    for file in data_files:\n",
        "      with open(dataset_path + \"/\" + file, \"rb\") as f:\n",
        "          while True:\n",
        "              try:\n",
        "                  data.append(pickle.load(f))\n",
        "              except EOFError:\n",
        "                  break\n",
        "\n",
        "    player_state_data = []\n",
        "    opponent_state_data = []\n",
        "    soccer_state_data = []\n",
        "    self.actions_data = []\n",
        "    team_id = []\n",
        "\n",
        "    for entry in (data):\n",
        "      # Add data for two players\n",
        "      player_state_data.append(entry['team1_state'][0])\n",
        "      player_state_data.append(entry['team1_state'][1])\n",
        "\n",
        "      # Add data for opponents as players\n",
        "      player_state_data.append(entry['team2_state'][0])\n",
        "      player_state_data.append(entry['team2_state'][1])\n",
        "\n",
        "      # Add data for opponents. Duplicate as we have two separate players on our side\n",
        "      opponent_state_data.append(entry['team2_state'])\n",
        "      opponent_state_data.append(entry['team2_state'])\n",
        "\n",
        "      opponent_state_data.append(entry['team1_state'])\n",
        "      opponent_state_data.append(entry['team1_state'])\n",
        "\n",
        "      # Add data for soccer\n",
        "      soccer_state_data.append(entry['soccer_state'])\n",
        "      soccer_state_data.append(entry['soccer_state'])\n",
        "      soccer_state_data.append(entry['soccer_state'])\n",
        "      soccer_state_data.append(entry['soccer_state'])\n",
        "\n",
        "      # Add actions. Duplicate as we have two separate players on our side\n",
        "      temp = entry['actions']\n",
        "      # Actions for the 1 team (players 1 and 3)\n",
        "      self.actions_data.append([temp[0]['acceleration'], temp[0]['steer'], temp[0]['brake']])\n",
        "      self.actions_data.append([temp[2]['acceleration'], temp[2]['steer'], temp[2]['brake']])\n",
        "\n",
        "      # Actions for the 2 team (players 2 and 4)\n",
        "      self.actions_data.append([temp[1]['acceleration'], temp[1]['steer'], temp[1]['brake']])\n",
        "      self.actions_data.append([temp[3]['acceleration'], temp[3]['steer'], temp[3]['brake']])\n",
        "\n",
        "      # Append team_ids\n",
        "      team_id.append(0)\n",
        "      team_id.append(0)\n",
        "      team_id.append(1)\n",
        "      team_id.append(1)\n",
        "\n",
        "    self.features = []\n",
        "    for i in tqdm(range(len(player_state_data))):\n",
        "      self.features.append(extract_features(player_state_data[i], soccer_state_data[i],\n",
        "                                      opponent_state_data[i], team_id[i]))\n",
        "    del data\n",
        "    del player_state_data\n",
        "    del soccer_state_data\n",
        "    del opponent_state_data\n",
        "    del team_id\n",
        "\n",
        "  def __len__(self):\n",
        "    return len(self.features)\n",
        "\n",
        "  def __getitem__(self, idx):\n",
        "    return self.features[idx], self.actions_data[idx]\n",
        "\n",
        "def load_data(dataset_path, num_workers=0, batch_size=128, shuffle=True):\n",
        "    dataset = Final_Project_Dataset(dataset_path)\n",
        "    return DataLoader(dataset, num_workers=num_workers, batch_size=batch_size, shuffle=shuffle, drop_last=True)\n"
      ]
    },
    {
      "cell_type": "markdown",
      "metadata": {
        "id": "kqfd9n5cQ_gf"
      },
      "source": [
        "# Define model"
      ]
    },
    {
      "cell_type": "code",
      "execution_count": null,
      "metadata": {
        "id": "Ei1Qev_ORBa9"
      },
      "outputs": [],
      "source": [
        "class State_Based_Model(torch.nn.Module):\n",
        "  def __init__(self, input_size=25, sizes=[64, 32, 32, 10]):\n",
        "    super().__init__()\n",
        "    layers = []\n",
        "    for i in range(len(sizes) - 1):\n",
        "      curr_size = sizes[i]\n",
        "      layers.append(torch.nn.Linear(input_size, curr_size))\n",
        "      layers.append(torch.nn.PReLU())\n",
        "      layers.append(torch.nn.Dropout(0.1))\n",
        "      input_size = curr_size\n",
        "\n",
        "    layers.append(torch.nn.Linear(input_size, sizes[-1]))\n",
        "    self.net = torch.nn.Sequential(*layers)\n",
        "    self.acceleration_net = torch.nn.Linear(sizes[-1], 1, bias=False)\n",
        "    self.steer_net = torch.nn.Linear(sizes[-1], 3, bias=False)\n",
        "    self.brake_net = torch.nn.Linear(sizes[-1], 1, bias=False)\n",
        "\n",
        "  def forward(self, x):\n",
        "    net_output = self.net(x)\n",
        "    acceleration, steer, brake = self.acceleration_net(net_output),\\\n",
        "          self.steer_net(net_output), self.brake_net(net_output)\n",
        "\n",
        "    acceleration = torch.clamp(acceleration, 0, 1)\n",
        "    brake = torch.clamp(brake, 0, 1)\n",
        "\n",
        "    # Set acceleration = 0 if we are braking\n",
        "    acceleration = acceleration * torch.abs((brake > 0.5).float() - 1.)\n",
        "\n",
        "    return acceleration, steer, brake\n",
        "\n",
        "def save_model(model):\n",
        "    from torch import save\n",
        "    from os import path\n",
        "    save(model.state_dict(), \"models/model.th\")\n",
        "\n",
        "\n",
        "def load_model(model_path=\"models/model.th\"):\n",
        "    from torch import load\n",
        "    from os import path\n",
        "    r = State_Based_Model()\n",
        "    r.load_state_dict(torch.load(model_path, map_location='cpu'))\n",
        "    return r"
      ]
    },
    {
      "cell_type": "code",
      "execution_count": null,
      "metadata": {
        "id": "BeD66xwvUjHG"
      },
      "outputs": [],
      "source": [
        "def get_mean_std(loader):\n",
        "  sum = 0\n",
        "  sum_of_squares = 0\n",
        "  total_samples = 0\n",
        "\n",
        "  # Iterate over the DataLoader\n",
        "  for data, _ in loader:\n",
        "      sum += torch.sum(data, dim=0)\n",
        "      sum_of_squares += torch.sum(data ** 2, dim=0)\n",
        "      total_samples += data.size(0)\n",
        "\n",
        "  # Calculate the mean and std dev\n",
        "  mean = sum / total_samples\n",
        "  std = (sum_of_squares / total_samples - mean ** 2) ** 0.5\n",
        "\n",
        "  return mean, std"
      ]
    },
    {
      "cell_type": "markdown",
      "metadata": {
        "id": "HohbAHUOUJqr"
      },
      "source": [
        "# Train our model with imitation learning"
      ]
    },
    {
      "cell_type": "code",
      "execution_count": null,
      "metadata": {
        "colab": {
          "base_uri": "https://localhost:8080/"
        },
        "id": "JXgeqY5lUvPb",
        "outputId": "6e810efa-a5ca-4250-8c83-1e3bcd59692c"
      },
      "outputs": [
        {
          "output_type": "stream",
          "name": "stderr",
          "text": [
            "100%|██████████| 2005392/2005392 [23:12<00:00, 1440.46it/s]\n",
            "100%|██████████| 208240/208240 [02:30<00:00, 1380.29it/s]\n"
          ]
        }
      ],
      "source": [
        "device = torch.device('cuda' if torch.cuda.is_available() else 'cpu')\n",
        "\n",
        "train_loader = load_data(\"train_files\", batch_size=1024, shuffle=True)\n",
        "val_loader = load_data(\"val_files\", batch_size=2048, shuffle=False)\n",
        "\n",
        "mse_loss_fn = torch.nn.MSELoss()\n",
        "bce_loss_fn = torch.nn.BCEWithLogitsLoss()\n",
        "ce_loss_fn = torch.nn.CrossEntropyLoss()"
      ]
    },
    {
      "cell_type": "code",
      "execution_count": null,
      "metadata": {
        "colab": {
          "base_uri": "https://localhost:8080/"
        },
        "id": "slXygEVXrUeM",
        "outputId": "235c7617-317c-4a88-9afc-cc62b412fc34"
      },
      "outputs": [
        {
          "output_type": "stream",
          "name": "stdout",
          "text": [
            "Epoch: 1\n"
          ]
        },
        {
          "output_type": "stream",
          "name": "stderr",
          "text": [
            "100%|██████████| 1958/1958 [00:40<00:00, 48.70it/s]\n"
          ]
        },
        {
          "output_type": "stream",
          "name": "stdout",
          "text": [
            "Train loss = 0.7116305232048035\n",
            "Acceleration loss = 0.056832075119018555\n",
            "Steer loss = 0.5694422721862793\n",
            "Brake loss = 0.08535612374544144\n",
            "Steer acc = 0.7576389332226762\n",
            "Brake acc = 0.8789376715717568\n"
          ]
        },
        {
          "output_type": "stream",
          "name": "stderr",
          "text": [
            "100%|██████████| 101/101 [00:01<00:00, 86.58it/s]\n"
          ]
        },
        {
          "output_type": "stream",
          "name": "stdout",
          "text": [
            "Val loss = 0.5171760320663452\n",
            "Acceleration loss = 0.018362050876021385\n",
            "Steer loss = 0.4603717625141144\n",
            "Brake loss = 0.03844226896762848\n",
            "Steer acc = 0.8110835009282178\n",
            "Brake acc = 0.9470964186262376\n",
            "Model saved\n",
            "Epoch: 2\n"
          ]
        },
        {
          "output_type": "stream",
          "name": "stderr",
          "text": [
            "100%|██████████| 1958/1958 [00:53<00:00, 36.59it/s]\n"
          ]
        },
        {
          "output_type": "stream",
          "name": "stdout",
          "text": [
            "Train loss = 0.546146810054779\n",
            "Acceleration loss = 0.02601715549826622\n",
            "Steer loss = 0.467780739068985\n",
            "Brake loss = 0.052348971366882324\n",
            "Steer acc = 0.8082531002617467\n",
            "Brake acc = 0.9295039581205311\n"
          ]
        },
        {
          "output_type": "stream",
          "name": "stderr",
          "text": [
            "100%|██████████| 101/101 [00:01<00:00, 79.01it/s]\n"
          ]
        },
        {
          "output_type": "stream",
          "name": "stdout",
          "text": [
            "Val loss = 0.5088879466056824\n",
            "Acceleration loss = 0.01778518781065941\n",
            "Steer loss = 0.4548942744731903\n",
            "Brake loss = 0.036208491772413254\n",
            "Steer acc = 0.8104936958539604\n",
            "Brake acc = 0.951239557549505\n",
            "Model saved\n",
            "Epoch: 3\n"
          ]
        },
        {
          "output_type": "stream",
          "name": "stderr",
          "text": [
            "100%|██████████| 1958/1958 [00:43<00:00, 44.83it/s]\n"
          ]
        },
        {
          "output_type": "stream",
          "name": "stdout",
          "text": [
            "Train loss = 0.514247715473175\n",
            "Acceleration loss = 0.023728499189019203\n",
            "Steer loss = 0.4412396252155304\n",
            "Brake loss = 0.04927952215075493\n",
            "Steer acc = 0.8200027730783963\n",
            "Brake acc = 0.9339503599016854\n"
          ]
        },
        {
          "output_type": "stream",
          "name": "stderr",
          "text": [
            "100%|██████████| 101/101 [00:01<00:00, 77.38it/s]\n"
          ]
        },
        {
          "output_type": "stream",
          "name": "stdout",
          "text": [
            "Val loss = 0.4726211130619049\n",
            "Acceleration loss = 0.01732630655169487\n",
            "Steer loss = 0.4194371700286865\n",
            "Brake loss = 0.03585762903094292\n",
            "Steer acc = 0.8321472772277227\n",
            "Brake acc = 0.9501614712252475\n",
            "Model saved\n",
            "LR_Scheduler step\n",
            "[0.0015]\n",
            "Epoch: 4\n"
          ]
        },
        {
          "output_type": "stream",
          "name": "stderr",
          "text": [
            "100%|██████████| 1958/1958 [00:42<00:00, 46.02it/s]\n"
          ]
        },
        {
          "output_type": "stream",
          "name": "stdout",
          "text": [
            "Train loss = 0.47032925486564636\n",
            "Acceleration loss = 0.02146211639046669\n",
            "Steer loss = 0.40303948521614075\n",
            "Brake loss = 0.045827653259038925\n",
            "Steer acc = 0.8397998595505618\n",
            "Brake acc = 0.9388705790347294\n"
          ]
        },
        {
          "output_type": "stream",
          "name": "stderr",
          "text": [
            "100%|██████████| 101/101 [00:01<00:00, 76.17it/s]\n"
          ]
        },
        {
          "output_type": "stream",
          "name": "stdout",
          "text": [
            "Val loss = 0.43447086215019226\n",
            "Acceleration loss = 0.01648823358118534\n",
            "Steer loss = 0.38167160749435425\n",
            "Brake loss = 0.03631108999252319\n",
            "Steer acc = 0.8485747988861386\n",
            "Brake acc = 0.9493734529702971\n",
            "Model saved\n",
            "Epoch: 5\n"
          ]
        },
        {
          "output_type": "stream",
          "name": "stderr",
          "text": [
            "100%|██████████| 1958/1958 [00:43<00:00, 44.94it/s]\n"
          ]
        },
        {
          "output_type": "stream",
          "name": "stdout",
          "text": [
            "Train loss = 0.4605969786643982\n",
            "Acceleration loss = 0.021269474178552628\n",
            "Steer loss = 0.39416274428367615\n",
            "Brake loss = 0.04516473785042763\n",
            "Steer acc = 0.8454148445480082\n",
            "Brake acc = 0.9399468925561798\n"
          ]
        },
        {
          "output_type": "stream",
          "name": "stderr",
          "text": [
            "100%|██████████| 101/101 [00:01<00:00, 78.25it/s]\n"
          ]
        },
        {
          "output_type": "stream",
          "name": "stdout",
          "text": [
            "Val loss = 0.42545026540756226\n",
            "Acceleration loss = 0.016419492661952972\n",
            "Steer loss = 0.37145909667015076\n",
            "Brake loss = 0.03757169097661972\n",
            "Steer acc = 0.8545356977103961\n",
            "Brake acc = 0.9484355662128713\n",
            "Model saved\n",
            "Epoch: 6\n"
          ]
        },
        {
          "output_type": "stream",
          "name": "stderr",
          "text": [
            "100%|██████████| 1958/1958 [00:44<00:00, 44.18it/s]\n"
          ]
        },
        {
          "output_type": "stream",
          "name": "stdout",
          "text": [
            "Train loss = 0.45418041944503784\n",
            "Acceleration loss = 0.021220456808805466\n",
            "Steer loss = 0.3877814710140228\n",
            "Brake loss = 0.04517851397395134\n",
            "Steer acc = 0.8491355576481103\n",
            "Brake acc = 0.9400825539453525\n"
          ]
        },
        {
          "output_type": "stream",
          "name": "stderr",
          "text": [
            "100%|██████████| 101/101 [00:01<00:00, 77.04it/s]\n"
          ]
        },
        {
          "output_type": "stream",
          "name": "stdout",
          "text": [
            "Val loss = 0.4268920421600342\n",
            "Acceleration loss = 0.01693766936659813\n",
            "Steer loss = 0.3727426826953888\n",
            "Brake loss = 0.03721175342798233\n",
            "Steer acc = 0.8516350170173267\n",
            "Brake acc = 0.9485709313118812\n",
            "LR_Scheduler step\n",
            "[0.00075]\n",
            "Epoch: 7\n"
          ]
        },
        {
          "output_type": "stream",
          "name": "stderr",
          "text": [
            "100%|██████████| 1958/1958 [00:42<00:00, 45.65it/s]\n"
          ]
        },
        {
          "output_type": "stream",
          "name": "stdout",
          "text": [
            "Train loss = 0.43026506900787354\n",
            "Acceleration loss = 0.02029387839138508\n",
            "Steer loss = 0.3662623167037964\n",
            "Brake loss = 0.04370887950062752\n",
            "Steer acc = 0.86110667773238\n",
            "Brake acc = 0.9420735843335035\n"
          ]
        },
        {
          "output_type": "stream",
          "name": "stderr",
          "text": [
            "100%|██████████| 101/101 [00:01<00:00, 78.48it/s]\n"
          ]
        },
        {
          "output_type": "stream",
          "name": "stdout",
          "text": [
            "Val loss = 0.3981814384460449\n",
            "Acceleration loss = 0.016107501462101936\n",
            "Steer loss = 0.34539365768432617\n",
            "Brake loss = 0.03668032959103584\n",
            "Steer acc = 0.8703540764232673\n",
            "Brake acc = 0.9482518564356436\n",
            "Model saved\n",
            "Epoch: 8\n"
          ]
        },
        {
          "output_type": "stream",
          "name": "stderr",
          "text": [
            "100%|██████████| 1958/1958 [00:43<00:00, 45.09it/s]\n"
          ]
        },
        {
          "output_type": "stream",
          "name": "stdout",
          "text": [
            "Train loss = 0.42605188488960266\n",
            "Acceleration loss = 0.020160671323537827\n",
            "Steer loss = 0.36255648732185364\n",
            "Brake loss = 0.04333476349711418\n",
            "Steer acc = 0.8630977081205311\n",
            "Brake acc = 0.9427947842185904\n"
          ]
        },
        {
          "output_type": "stream",
          "name": "stderr",
          "text": [
            "100%|██████████| 101/101 [00:01<00:00, 75.92it/s]\n"
          ]
        },
        {
          "output_type": "stream",
          "name": "stdout",
          "text": [
            "Val loss = 0.3942980170249939\n",
            "Acceleration loss = 0.01522624772042036\n",
            "Steer loss = 0.3441507816314697\n",
            "Brake loss = 0.03492104262113571\n",
            "Steer acc = 0.8700301670792079\n",
            "Brake acc = 0.9517036664603961\n",
            "Model saved\n",
            "Epoch: 9\n"
          ]
        },
        {
          "output_type": "stream",
          "name": "stderr",
          "text": [
            "100%|██████████| 1958/1958 [00:43<00:00, 44.94it/s]\n"
          ]
        },
        {
          "output_type": "stream",
          "name": "stdout",
          "text": [
            "Train loss = 0.4228508770465851\n",
            "Acceleration loss = 0.019992010667920113\n",
            "Steer loss = 0.35978373885154724\n",
            "Brake loss = 0.04307512938976288\n",
            "Steer acc = 0.8641650440500511\n",
            "Brake acc = 0.943096531058478\n"
          ]
        },
        {
          "output_type": "stream",
          "name": "stderr",
          "text": [
            "100%|██████████| 101/101 [00:01<00:00, 77.94it/s]\n"
          ]
        },
        {
          "output_type": "stream",
          "name": "stdout",
          "text": [
            "Val loss = 0.3876701593399048\n",
            "Acceleration loss = 0.015867799520492554\n",
            "Steer loss = 0.33634018898010254\n",
            "Brake loss = 0.03546212613582611\n",
            "Steer acc = 0.8735593285891089\n",
            "Brake acc = 0.9509833307549505\n",
            "Model saved\n",
            "LR_Scheduler step\n",
            "[0.000375]\n",
            "Epoch: 10\n"
          ]
        },
        {
          "output_type": "stream",
          "name": "stderr",
          "text": [
            "100%|██████████| 1958/1958 [00:43<00:00, 45.20it/s]\n"
          ]
        },
        {
          "output_type": "stream",
          "name": "stdout",
          "text": [
            "Train loss = 0.4091288447380066\n",
            "Acceleration loss = 0.019600050523877144\n",
            "Steer loss = 0.34708741307258606\n",
            "Brake loss = 0.042441368103027344\n",
            "Steer acc = 0.8705401318309499\n",
            "Brake acc = 0.9441583806818182\n"
          ]
        },
        {
          "output_type": "stream",
          "name": "stderr",
          "text": [
            "100%|██████████| 101/101 [00:01<00:00, 77.63it/s]\n"
          ]
        },
        {
          "output_type": "stream",
          "name": "stdout",
          "text": [
            "Val loss = 0.38121509552001953\n",
            "Acceleration loss = 0.01603551395237446\n",
            "Steer loss = 0.3289576470851898\n",
            "Brake loss = 0.03622190281748772\n",
            "Steer acc = 0.8758460318688119\n",
            "Brake acc = 0.9496296797648515\n",
            "Model saved\n",
            "Epoch: 11\n"
          ]
        },
        {
          "output_type": "stream",
          "name": "stderr",
          "text": [
            "100%|██████████| 1958/1958 [00:55<00:00, 35.53it/s]\n"
          ]
        },
        {
          "output_type": "stream",
          "name": "stdout",
          "text": [
            "Train loss = 0.406605988740921\n",
            "Acceleration loss = 0.019532212987542152\n",
            "Steer loss = 0.34484606981277466\n",
            "Brake loss = 0.04222770035266876\n",
            "Steer acc = 0.8713620802477018\n",
            "Brake acc = 0.944337932520429\n"
          ]
        },
        {
          "output_type": "stream",
          "name": "stderr",
          "text": [
            "100%|██████████| 101/101 [00:01<00:00, 77.97it/s]\n"
          ]
        },
        {
          "output_type": "stream",
          "name": "stdout",
          "text": [
            "Val loss = 0.3760831356048584\n",
            "Acceleration loss = 0.015471115708351135\n",
            "Steer loss = 0.32458364963531494\n",
            "Brake loss = 0.036028407514095306\n",
            "Steer acc = 0.8790996287128713\n",
            "Brake acc = 0.9494943146658416\n",
            "Model saved\n",
            "Epoch: 12\n"
          ]
        },
        {
          "output_type": "stream",
          "name": "stderr",
          "text": [
            "100%|██████████| 1958/1958 [00:44<00:00, 44.04it/s]\n"
          ]
        },
        {
          "output_type": "stream",
          "name": "stdout",
          "text": [
            "Train loss = 0.4056597054004669\n",
            "Acceleration loss = 0.019496222957968712\n",
            "Steer loss = 0.3440786898136139\n",
            "Brake loss = 0.04208480566740036\n",
            "Steer acc = 0.8715615822906027\n",
            "Brake acc = 0.9446356893194586\n"
          ]
        },
        {
          "output_type": "stream",
          "name": "stderr",
          "text": [
            "100%|██████████| 101/101 [00:01<00:00, 76.87it/s]\n"
          ]
        },
        {
          "output_type": "stream",
          "name": "stdout",
          "text": [
            "Val loss = 0.3843347132205963\n",
            "Acceleration loss = 0.015676068142056465\n",
            "Steer loss = 0.3327934443950653\n",
            "Brake loss = 0.03586520627140999\n",
            "Steer acc = 0.8735641630569307\n",
            "Brake acc = 0.9503790222772277\n",
            "LR_Scheduler step\n",
            "[0.0001875]\n",
            "Epoch: 13\n"
          ]
        },
        {
          "output_type": "stream",
          "name": "stderr",
          "text": [
            "100%|██████████| 1958/1958 [00:44<00:00, 43.87it/s]\n"
          ]
        },
        {
          "output_type": "stream",
          "name": "stdout",
          "text": [
            "Train loss = 0.39709174633026123\n",
            "Acceleration loss = 0.01925511285662651\n",
            "Steer loss = 0.33610761165618896\n",
            "Brake loss = 0.04172902926802635\n",
            "Steer acc = 0.8755216978421859\n",
            "Brake acc = 0.9452341954481613\n"
          ]
        },
        {
          "output_type": "stream",
          "name": "stderr",
          "text": [
            "100%|██████████| 101/101 [00:01<00:00, 73.06it/s]\n"
          ]
        },
        {
          "output_type": "stream",
          "name": "stdout",
          "text": [
            "Val loss = 0.3723260760307312\n",
            "Acceleration loss = 0.015123332850635052\n",
            "Steer loss = 0.3217964470386505\n",
            "Brake loss = 0.035406388342380524\n",
            "Steer acc = 0.8781037283415841\n",
            "Brake acc = 0.9503161741955446\n",
            "Model saved\n",
            "Epoch: 14\n"
          ]
        },
        {
          "output_type": "stream",
          "name": "stderr",
          "text": [
            "100%|██████████| 1958/1958 [00:44<00:00, 44.44it/s]\n"
          ]
        },
        {
          "output_type": "stream",
          "name": "stdout",
          "text": [
            "Train loss = 0.39536887407302856\n",
            "Acceleration loss = 0.019181907176971436\n",
            "Steer loss = 0.3345939815044403\n",
            "Brake loss = 0.041592977941036224\n",
            "Steer acc = 0.8762044935840143\n",
            "Brake acc = 0.9453139962653218\n"
          ]
        },
        {
          "output_type": "stream",
          "name": "stderr",
          "text": [
            "100%|██████████| 101/101 [00:01<00:00, 76.13it/s]\n"
          ]
        },
        {
          "output_type": "stream",
          "name": "stdout",
          "text": [
            "Val loss = 0.3702290654182434\n",
            "Acceleration loss = 0.015595570206642151\n",
            "Steer loss = 0.31862586736679077\n",
            "Brake loss = 0.036007631570100784\n",
            "Steer acc = 0.8806128171410891\n",
            "Brake acc = 0.9497650448638614\n",
            "Model saved\n",
            "Epoch: 15\n"
          ]
        },
        {
          "output_type": "stream",
          "name": "stderr",
          "text": [
            "100%|██████████| 1958/1958 [00:44<00:00, 43.74it/s]\n"
          ]
        },
        {
          "output_type": "stream",
          "name": "stdout",
          "text": [
            "Train loss = 0.39525479078292847\n",
            "Acceleration loss = 0.01925850473344326\n",
            "Steer loss = 0.3343307673931122\n",
            "Brake loss = 0.04166553542017937\n",
            "Steer acc = 0.8761850421348315\n",
            "Brake acc = 0.9451932975293666\n"
          ]
        },
        {
          "output_type": "stream",
          "name": "stderr",
          "text": [
            "100%|██████████| 101/101 [00:01<00:00, 76.61it/s]\n"
          ]
        },
        {
          "output_type": "stream",
          "name": "stdout",
          "text": [
            "Val loss = 0.36958760023117065\n",
            "Acceleration loss = 0.015586362220346928\n",
            "Steer loss = 0.31813886761665344\n",
            "Brake loss = 0.03586233779788017\n",
            "Steer acc = 0.8806756652227723\n",
            "Brake acc = 0.9499922648514851\n",
            "Model saved\n",
            "LR_Scheduler step\n",
            "[9.375e-05]\n",
            "Epoch: 16\n"
          ]
        },
        {
          "output_type": "stream",
          "name": "stderr",
          "text": [
            "100%|██████████| 1958/1958 [00:45<00:00, 42.60it/s]\n"
          ]
        },
        {
          "output_type": "stream",
          "name": "stdout",
          "text": [
            "Train loss = 0.3904668986797333\n",
            "Acceleration loss = 0.019159633666276932\n",
            "Steer loss = 0.3298189043998718\n",
            "Brake loss = 0.04148836061358452\n",
            "Steer acc = 0.8785710865679265\n",
            "Brake acc = 0.9455134983082226\n"
          ]
        },
        {
          "output_type": "stream",
          "name": "stderr",
          "text": [
            "100%|██████████| 101/101 [00:01<00:00, 77.59it/s]\n"
          ]
        },
        {
          "output_type": "stream",
          "name": "stdout",
          "text": [
            "Val loss = 0.3670901656150818\n",
            "Acceleration loss = 0.015277968719601631\n",
            "Steer loss = 0.3166359066963196\n",
            "Brake loss = 0.03517627716064453\n",
            "Steer acc = 0.8804774520420792\n",
            "Brake acc = 0.9508286277846535\n",
            "Model saved\n",
            "Epoch: 17\n"
          ]
        },
        {
          "output_type": "stream",
          "name": "stderr",
          "text": [
            "100%|██████████| 1958/1958 [00:43<00:00, 44.90it/s]\n"
          ]
        },
        {
          "output_type": "stream",
          "name": "stdout",
          "text": [
            "Train loss = 0.38999849557876587\n",
            "Acceleration loss = 0.019101401790976524\n",
            "Steer loss = 0.3295292556285858\n",
            "Brake loss = 0.04136785492300987\n",
            "Steer acc = 0.8785456500574566\n",
            "Brake acc = 0.945733449310521\n"
          ]
        },
        {
          "output_type": "stream",
          "name": "stderr",
          "text": [
            "100%|██████████| 101/101 [00:01<00:00, 78.82it/s]\n"
          ]
        },
        {
          "output_type": "stream",
          "name": "stdout",
          "text": [
            "Val loss = 0.36784523725509644\n",
            "Acceleration loss = 0.015361749567091465\n",
            "Steer loss = 0.31746071577072144\n",
            "Brake loss = 0.03502276539802551\n",
            "Steer acc = 0.8796072478341584\n",
            "Brake acc = 0.9513604192450495\n",
            "Epoch: 18\n"
          ]
        },
        {
          "output_type": "stream",
          "name": "stderr",
          "text": [
            "100%|██████████| 1958/1958 [00:43<00:00, 44.53it/s]\n"
          ]
        },
        {
          "output_type": "stream",
          "name": "stdout",
          "text": [
            "Train loss = 0.389305979013443\n",
            "Acceleration loss = 0.019071538001298904\n",
            "Steer loss = 0.32889458537101746\n",
            "Brake loss = 0.04133987799286842\n",
            "Steer acc = 0.8788813122446374\n",
            "Brake acc = 0.9459174899450971\n"
          ]
        },
        {
          "output_type": "stream",
          "name": "stderr",
          "text": [
            "100%|██████████| 101/101 [00:01<00:00, 79.00it/s]\n"
          ]
        },
        {
          "output_type": "stream",
          "name": "stdout",
          "text": [
            "Val loss = 0.36446747183799744\n",
            "Acceleration loss = 0.01526151318103075\n",
            "Steer loss = 0.31414681673049927\n",
            "Brake loss = 0.03505909815430641\n",
            "Steer acc = 0.8827689897896039\n",
            "Brake acc = 0.9515441290222773\n",
            "Model saved\n",
            "LR_Scheduler step\n",
            "[4.6875e-05]\n",
            "Epoch: 19\n"
          ]
        },
        {
          "output_type": "stream",
          "name": "stderr",
          "text": [
            "100%|██████████| 1958/1958 [00:56<00:00, 34.44it/s]\n"
          ]
        },
        {
          "output_type": "stream",
          "name": "stdout",
          "text": [
            "Train loss = 0.3866676986217499\n",
            "Acceleration loss = 0.019074546173214912\n",
            "Steer loss = 0.3262971341609955\n",
            "Brake loss = 0.04129597917199135\n",
            "Steer acc = 0.8800523892364658\n",
            "Brake acc = 0.9457733497191011\n"
          ]
        },
        {
          "output_type": "stream",
          "name": "stderr",
          "text": [
            "100%|██████████| 101/101 [00:01<00:00, 76.10it/s]\n"
          ]
        },
        {
          "output_type": "stream",
          "name": "stdout",
          "text": [
            "Val loss = 0.366819828748703\n",
            "Acceleration loss = 0.015606509521603584\n",
            "Steer loss = 0.31547367572784424\n",
            "Brake loss = 0.03573963791131973\n",
            "Steer acc = 0.8800955290841584\n",
            "Brake acc = 0.9499825959158416\n",
            "Epoch: 20\n"
          ]
        },
        {
          "output_type": "stream",
          "name": "stderr",
          "text": [
            "100%|██████████| 1958/1958 [00:46<00:00, 42.44it/s]\n"
          ]
        },
        {
          "output_type": "stream",
          "name": "stdout",
          "text": [
            "Train loss = 0.3861130177974701\n",
            "Acceleration loss = 0.01904960535466671\n",
            "Steer loss = 0.3258484899997711\n",
            "Brake loss = 0.041214894503355026\n",
            "Steer acc = 0.8801885493807456\n",
            "Brake acc = 0.9460017795582226\n"
          ]
        },
        {
          "output_type": "stream",
          "name": "stderr",
          "text": [
            "100%|██████████| 101/101 [00:01<00:00, 74.87it/s]\n"
          ]
        },
        {
          "output_type": "stream",
          "name": "stdout",
          "text": [
            "Val loss = 0.3629797101020813\n",
            "Acceleration loss = 0.015363489277660847\n",
            "Steer loss = 0.31248369812965393\n",
            "Brake loss = 0.0351325087249279\n",
            "Steer acc = 0.8819713025990099\n",
            "Brake acc = 0.951104192450495\n",
            "Model saved\n",
            "Epoch: 21\n"
          ]
        },
        {
          "output_type": "stream",
          "name": "stderr",
          "text": [
            "100%|██████████| 1958/1958 [00:45<00:00, 42.60it/s]\n"
          ]
        },
        {
          "output_type": "stream",
          "name": "stdout",
          "text": [
            "Train loss = 0.38611117005348206\n",
            "Acceleration loss = 0.01903950423002243\n",
            "Steer loss = 0.32585614919662476\n",
            "Brake loss = 0.04121548682451248\n",
            "Steer acc = 0.8804124904239019\n",
            "Brake acc = 0.946038188681052\n"
          ]
        },
        {
          "output_type": "stream",
          "name": "stderr",
          "text": [
            "100%|██████████| 101/101 [00:01<00:00, 75.71it/s]\n"
          ]
        },
        {
          "output_type": "stream",
          "name": "stdout",
          "text": [
            "Val loss = 0.3622697591781616\n",
            "Acceleration loss = 0.015469126403331757\n",
            "Steer loss = 0.31125038862228394\n",
            "Brake loss = 0.035550229251384735\n",
            "Steer acc = 0.8833056157178217\n",
            "Brake acc = 0.950461208230198\n",
            "Model saved\n",
            "LR_Scheduler step\n",
            "[2.34375e-05]\n",
            "Epoch: 22\n"
          ]
        },
        {
          "output_type": "stream",
          "name": "stderr",
          "text": [
            "100%|██████████| 1958/1958 [00:45<00:00, 42.78it/s]\n"
          ]
        },
        {
          "output_type": "stream",
          "name": "stdout",
          "text": [
            "Train loss = 0.38452160358428955\n",
            "Acceleration loss = 0.01898668333888054\n",
            "Steer loss = 0.3243725597858429\n",
            "Brake loss = 0.04116235300898552\n",
            "Steer acc = 0.8810858098186926\n",
            "Brake acc = 0.9460671164772727\n"
          ]
        },
        {
          "output_type": "stream",
          "name": "stderr",
          "text": [
            "100%|██████████| 101/101 [00:01<00:00, 76.13it/s]\n"
          ]
        },
        {
          "output_type": "stream",
          "name": "stdout",
          "text": [
            "Val loss = 0.36164724826812744\n",
            "Acceleration loss = 0.015453183092176914\n",
            "Steer loss = 0.31109610199928284\n",
            "Brake loss = 0.03509791940450668\n",
            "Steer acc = 0.8833539603960396\n",
            "Brake acc = 0.9512202196782178\n",
            "Model saved\n",
            "Epoch: 23\n"
          ]
        },
        {
          "output_type": "stream",
          "name": "stderr",
          "text": [
            "100%|██████████| 1958/1958 [00:45<00:00, 42.83it/s]\n"
          ]
        },
        {
          "output_type": "stream",
          "name": "stdout",
          "text": [
            "Train loss = 0.3845539689064026\n",
            "Acceleration loss = 0.018969785422086716\n",
            "Steer loss = 0.3244667649269104\n",
            "Brake loss = 0.04111744463443756\n",
            "Steer acc = 0.8808932903472931\n",
            "Brake acc = 0.9460765928243106\n"
          ]
        },
        {
          "output_type": "stream",
          "name": "stderr",
          "text": [
            "100%|██████████| 101/101 [00:01<00:00, 75.42it/s]\n"
          ]
        },
        {
          "output_type": "stream",
          "name": "stdout",
          "text": [
            "Val loss = 0.3614243268966675\n",
            "Acceleration loss = 0.015567595139145851\n",
            "Steer loss = 0.31079769134521484\n",
            "Brake loss = 0.03505907580256462\n",
            "Steer acc = 0.8836730352722773\n",
            "Brake acc = 0.9510993579826733\n",
            "Model saved\n",
            "Epoch: 24\n"
          ]
        },
        {
          "output_type": "stream",
          "name": "stderr",
          "text": [
            "100%|██████████| 1958/1958 [00:45<00:00, 42.73it/s]\n"
          ]
        },
        {
          "output_type": "stream",
          "name": "stdout",
          "text": [
            "Train loss = 0.3842177987098694\n",
            "Acceleration loss = 0.01898401416838169\n",
            "Steer loss = 0.32407107949256897\n",
            "Brake loss = 0.04116269573569298\n",
            "Steer acc = 0.8810897998595506\n",
            "Brake acc = 0.9460621289262002\n"
          ]
        },
        {
          "output_type": "stream",
          "name": "stderr",
          "text": [
            "100%|██████████| 101/101 [00:01<00:00, 73.51it/s]\n"
          ]
        },
        {
          "output_type": "stream",
          "name": "stdout",
          "text": [
            "Val loss = 0.3622977137565613\n",
            "Acceleration loss = 0.015696588903665543\n",
            "Steer loss = 0.31098437309265137\n",
            "Brake loss = 0.03561679273843765\n",
            "Steer acc = 0.8826674659653465\n",
            "Brake acc = 0.950306505259901\n",
            "LR_Scheduler step\n",
            "[1.171875e-05]\n",
            "Epoch: 25\n"
          ]
        },
        {
          "output_type": "stream",
          "name": "stderr",
          "text": [
            "100%|██████████| 1958/1958 [00:46<00:00, 41.69it/s]\n"
          ]
        },
        {
          "output_type": "stream",
          "name": "stdout",
          "text": [
            "Train loss = 0.38367760181427\n",
            "Acceleration loss = 0.01897849701344967\n",
            "Steer loss = 0.32359057664871216\n",
            "Brake loss = 0.04110855609178543\n",
            "Steer acc = 0.8812773317798774\n",
            "Brake acc = 0.946118987008427\n"
          ]
        },
        {
          "output_type": "stream",
          "name": "stderr",
          "text": [
            "100%|██████████| 101/101 [00:01<00:00, 74.55it/s]\n"
          ]
        },
        {
          "output_type": "stream",
          "name": "stdout",
          "text": [
            "Val loss = 0.36138907074928284\n",
            "Acceleration loss = 0.015542794950306416\n",
            "Steer loss = 0.31050512194633484\n",
            "Brake loss = 0.035341180860996246\n",
            "Steer acc = 0.8832911123143564\n",
            "Brake acc = 0.9505240563118812\n",
            "Model saved\n",
            "Epoch: 26\n"
          ]
        },
        {
          "output_type": "stream",
          "name": "stderr",
          "text": [
            "100%|██████████| 1958/1958 [00:47<00:00, 41.61it/s]\n"
          ]
        },
        {
          "output_type": "stream",
          "name": "stdout",
          "text": [
            "Train loss = 0.38338208198547363\n",
            "Acceleration loss = 0.018972555175423622\n",
            "Steer loss = 0.32334157824516296\n",
            "Brake loss = 0.04106791689991951\n",
            "Steer acc = 0.8815102504149642\n",
            "Brake acc = 0.9463040251532175\n"
          ]
        },
        {
          "output_type": "stream",
          "name": "stderr",
          "text": [
            "100%|██████████| 101/101 [00:01<00:00, 75.06it/s]\n"
          ]
        },
        {
          "output_type": "stream",
          "name": "stdout",
          "text": [
            "Val loss = 0.36089983582496643\n",
            "Acceleration loss = 0.015535969287157059\n",
            "Steer loss = 0.3100981116294861\n",
            "Brake loss = 0.03526570275425911\n",
            "Steer acc = 0.8841081373762376\n",
            "Brake acc = 0.9506545869430693\n",
            "Model saved\n",
            "Epoch: 27\n"
          ]
        },
        {
          "output_type": "stream",
          "name": "stderr",
          "text": [
            "100%|██████████| 1958/1958 [00:46<00:00, 42.35it/s]\n"
          ]
        },
        {
          "output_type": "stream",
          "name": "stdout",
          "text": [
            "Train loss = 0.3831985890865326\n",
            "Acceleration loss = 0.018923811614513397\n",
            "Steer loss = 0.3231857717037201\n",
            "Brake loss = 0.041089046746492386\n",
            "Steer acc = 0.8814823201289581\n",
            "Brake acc = 0.9462282143769152\n"
          ]
        },
        {
          "output_type": "stream",
          "name": "stderr",
          "text": [
            "100%|██████████| 101/101 [00:01<00:00, 74.83it/s]\n"
          ]
        },
        {
          "output_type": "stream",
          "name": "stdout",
          "text": [
            "Val loss = 0.3609634339809418\n",
            "Acceleration loss = 0.015459821559488773\n",
            "Steer loss = 0.3102588653564453\n",
            "Brake loss = 0.035244762897491455\n",
            "Steer acc = 0.8832717744430693\n",
            "Brake acc = 0.9506545869430693\n",
            "LR_Scheduler step\n",
            "[5.859375e-06]\n",
            "Epoch: 28\n"
          ]
        },
        {
          "output_type": "stream",
          "name": "stderr",
          "text": [
            "100%|██████████| 1958/1958 [00:57<00:00, 33.94it/s]\n"
          ]
        },
        {
          "output_type": "stream",
          "name": "stdout",
          "text": [
            "Train loss = 0.38301658630371094\n",
            "Acceleration loss = 0.018939392641186714\n",
            "Steer loss = 0.3230056166648865\n",
            "Brake loss = 0.04107155650854111\n",
            "Steer acc = 0.8815306993743616\n",
            "Brake acc = 0.9462292118871297\n"
          ]
        },
        {
          "output_type": "stream",
          "name": "stderr",
          "text": [
            "100%|██████████| 101/101 [00:01<00:00, 75.71it/s]\n"
          ]
        },
        {
          "output_type": "stream",
          "name": "stdout",
          "text": [
            "Val loss = 0.36163246631622314\n",
            "Acceleration loss = 0.015489479526877403\n",
            "Steer loss = 0.3108453154563904\n",
            "Brake loss = 0.035297635942697525\n",
            "Steer acc = 0.8827738242574258\n",
            "Brake acc = 0.9507754486386139\n",
            "Epoch: 29\n"
          ]
        },
        {
          "output_type": "stream",
          "name": "stderr",
          "text": [
            "100%|██████████| 1958/1958 [00:46<00:00, 42.27it/s]\n"
          ]
        },
        {
          "output_type": "stream",
          "name": "stdout",
          "text": [
            "Train loss = 0.38312065601348877\n",
            "Acceleration loss = 0.01894860900938511\n",
            "Steer loss = 0.32310035824775696\n",
            "Brake loss = 0.04107171297073364\n",
            "Steer acc = 0.8815371831907559\n",
            "Brake acc = 0.9461773413559755\n"
          ]
        },
        {
          "output_type": "stream",
          "name": "stderr",
          "text": [
            "100%|██████████| 101/101 [00:01<00:00, 74.61it/s]"
          ]
        },
        {
          "output_type": "stream",
          "name": "stdout",
          "text": [
            "Val loss = 0.3603377342224121\n",
            "Acceleration loss = 0.015444085001945496\n",
            "Steer loss = 0.30967944860458374\n",
            "Brake loss = 0.03521424159407616\n",
            "Steer acc = 0.8842289990717822\n",
            "Brake acc = 0.9510268409653465\n",
            "Model saved\n"
          ]
        },
        {
          "output_type": "stream",
          "name": "stderr",
          "text": [
            "\n"
          ]
        }
      ],
      "source": [
        "train_logger = tb.SummaryWriter(\"logs/train\")\n",
        "val_logger = tb.SummaryWriter(\"logs/val\")\n",
        "\n",
        "best_val_loss = 2\n",
        "best_train_loss = 2\n",
        "\n",
        "global_step = 0\n",
        "\n",
        "model = State_Based_Model(25, [64, 32, 32, 10])\n",
        "\n",
        "optimizer = torch.optim.Adam(model.parameters(), lr=3e-3)\n",
        "lr_scheduler = torch.optim.lr_scheduler.ExponentialLR(optimizer, gamma=0.5)\n",
        "\n",
        "model.to(device)\n",
        "\n",
        "for epoch in range(1, 30):\n",
        "  print(f\"Epoch: {epoch}\")\n",
        "\n",
        "  model.train()\n",
        "\n",
        "  loss_arr = []\n",
        "  acceleration_loss_arr = []\n",
        "  steer_loss_arr = []\n",
        "  brake_loss_arr = []\n",
        "\n",
        "  steer_acc_arr = []\n",
        "  brake_acc_arr = []\n",
        "\n",
        "  for x_batch, y_batch in tqdm(train_loader):\n",
        "    x_batch = x_batch.to(device)\n",
        "\n",
        "    acceleration_true = y_batch[0].to(device).to(torch.float)\n",
        "    # Our steering actions are encoded as -1, 0, 1. Convert them to 0, 1, 2\n",
        "    steer_true = y_batch[1].to(device).to(torch.long).squeeze(dim=1) + 1\n",
        "    brake_true = y_batch[2].to(device).to(torch.float)\n",
        "\n",
        "    # Get predictions\n",
        "    acceleration_pred, steer_pred, brake_pred = model(x_batch)\n",
        "\n",
        "    # Compute loss\n",
        "    acceleration_loss = mse_loss_fn(acceleration_pred, acceleration_true)\n",
        "    steer_loss = ce_loss_fn(steer_pred, steer_true)\n",
        "    brake_loss = mse_loss_fn(brake_pred, brake_true)\n",
        "    loss = acceleration_loss + steer_loss + brake_loss\n",
        "\n",
        "    # log to tensorboard\n",
        "    train_logger.add_scalar('acceleration_loss', acceleration_loss, global_step=global_step)\n",
        "    train_logger.add_scalar('steer_loss', steer_loss, global_step=global_step)\n",
        "    train_logger.add_scalar('brake_loss', brake_loss, global_step=global_step)\n",
        "    train_logger.add_scalar('loss', loss, global_step=global_step)\n",
        "\n",
        "    # Backward step\n",
        "    optimizer.zero_grad()\n",
        "    loss.backward()\n",
        "    torch.nn.utils.clip_grad_norm_(model.parameters(), max_norm=0.01)\n",
        "    optimizer.step()\n",
        "    global_step += 1\n",
        "\n",
        "\n",
        "    acceleration_loss_arr.append(acceleration_loss.detach().cpu())\n",
        "    steer_loss_arr.append(steer_loss.detach().cpu())\n",
        "    brake_loss_arr.append(brake_loss.detach().cpu())\n",
        "    loss_arr.append(loss.detach().cpu())\n",
        "\n",
        "    steer_acc_arr.append(((torch.nn.functional.softmax(steer_pred, dim=1).argmax(dim=1)) == steer_true).cpu())\n",
        "    brake_acc_arr.append(((brake_pred > 0.5).float() == brake_true).cpu())\n",
        "\n",
        "\n",
        "  train_loss = np.mean(loss_arr)\n",
        "  print(f\"Train loss = {train_loss}\")\n",
        "\n",
        "  acceleration_loss = np.mean(acceleration_loss_arr)\n",
        "  print(f\"Acceleration loss = {acceleration_loss}\")\n",
        "\n",
        "  steer_loss = np.mean(steer_loss_arr)\n",
        "  print(f\"Steer loss = {steer_loss}\")\n",
        "\n",
        "  brake_loss = np.mean(brake_loss_arr)\n",
        "  print(f\"Brake loss = {brake_loss}\")\n",
        "\n",
        "  steer_acc = np.mean(steer_acc_arr)\n",
        "  print(f\"Steer acc = {steer_acc}\")\n",
        "\n",
        "  brake_acc = np.mean(brake_acc_arr)\n",
        "  print(f\"Brake acc = {brake_acc}\")\n",
        "\n",
        "\n",
        "  # Perform validation\n",
        "  model.eval()\n",
        "\n",
        "  loss_arr = []\n",
        "  acceleration_loss_arr = []\n",
        "  steer_loss_arr = []\n",
        "  brake_loss_arr = []\n",
        "\n",
        "  steer_acc_arr = []\n",
        "  brake_acc_arr = []\n",
        "\n",
        "  for x_batch, y_batch in tqdm(val_loader):\n",
        "    x_batch = x_batch.to(device)\n",
        "\n",
        "    acceleration_true = y_batch[0].to(device).to(torch.float)\n",
        "    # Our steering actions are encoded as -1, 0, 1. Convert them to 0, 1, 2\n",
        "    steer_true = y_batch[1].to(device).to(torch.long).squeeze(dim=1) + 1\n",
        "    brake_true = y_batch[2].to(device).to(torch.float)\n",
        "\n",
        "    acceleration_pred, steer_pred, brake_pred = model(x_batch)\n",
        "\n",
        "    acceleration_loss = mse_loss_fn(acceleration_pred, acceleration_true)\n",
        "    steer_loss = ce_loss_fn(steer_pred, steer_true)\n",
        "    brake_loss = mse_loss_fn(brake_pred, brake_true)\n",
        "    loss = acceleration_loss + steer_loss + brake_loss\n",
        "\n",
        "    val_logger.add_scalar('acceleration_loss', acceleration_loss, global_step=global_step)\n",
        "    val_logger.add_scalar('steer_loss', steer_loss, global_step=global_step)\n",
        "    val_logger.add_scalar('brake_loss', brake_loss, global_step=global_step)\n",
        "    val_logger.add_scalar('loss', loss, global_step=global_step)\n",
        "\n",
        "    acceleration_loss_arr.append(acceleration_loss.detach().cpu())\n",
        "    steer_loss_arr.append(steer_loss.detach().cpu())\n",
        "    brake_loss_arr.append(brake_loss.detach().cpu())\n",
        "    loss_arr.append(loss.detach().cpu())\n",
        "\n",
        "    steer_acc_arr.append(((torch.nn.functional.softmax(steer_pred, dim=1).argmax(dim=1)) == steer_true).cpu())\n",
        "    brake_acc_arr.append(((brake_pred > 0.5).float() == brake_true).cpu())\n",
        "\n",
        "  val_loss = np.mean(loss_arr)\n",
        "  print(f\"Val loss = {val_loss}\")\n",
        "\n",
        "  acceleration_loss = np.mean(acceleration_loss_arr)\n",
        "  print(f\"Acceleration loss = {acceleration_loss}\")\n",
        "\n",
        "  steer_loss = np.mean(steer_loss_arr)\n",
        "  print(f\"Steer loss = {steer_loss}\")\n",
        "\n",
        "  brake_loss = np.mean(brake_loss_arr)\n",
        "  print(f\"Brake loss = {brake_loss}\")\n",
        "\n",
        "  steer_acc = np.mean(steer_acc_arr)\n",
        "  print(f\"Steer acc = {steer_acc}\")\n",
        "\n",
        "  brake_acc = np.mean(brake_acc_arr)\n",
        "  print(f\"Brake acc = {brake_acc}\")\n",
        "\n",
        "\n",
        "  # Save Model if the chosen metric is better\n",
        "  if val_loss < best_val_loss:\n",
        "    save_model(model)\n",
        "    print(\"Model saved\")\n",
        "    best_val_loss = val_loss\n",
        "\n",
        "\n",
        "  # LR scheduler step\n",
        "  if epoch % 3 == 0:\n",
        "    print(\"LR_Scheduler step\")\n",
        "    lr_scheduler.step()\n",
        "    print(lr_scheduler.get_last_lr())\n"
      ]
    },
    {
      "cell_type": "code",
      "execution_count": null,
      "metadata": {
        "colab": {
          "base_uri": "https://localhost:8080/"
        },
        "id": "HRSR_AQWCS7i",
        "outputId": "4ab4638b-f447-4080-88e0-8b797887e45f"
      },
      "outputs": [
        {
          "name": "stdout",
          "output_type": "stream",
          "text": [
            "rm: cannot remove 'training_files/.ipynb_checkpoints/': No such file or directory\n"
          ]
        }
      ],
      "source": [
        "# !rm -r training_files/.ipynb_checkpoints/"
      ]
    },
    {
      "cell_type": "code",
      "execution_count": null,
      "metadata": {
        "id": "0cusQXP7dMvK"
      },
      "outputs": [],
      "source": [
        "# !rm -r logs"
      ]
    },
    {
      "cell_type": "code",
      "execution_count": null,
      "metadata": {
        "id": "XXanw2Yl9mzv"
      },
      "outputs": [],
      "source": [
        "%load_ext tensorboard"
      ]
    },
    {
      "cell_type": "code",
      "execution_count": null,
      "metadata": {
        "id": "G5K-0Enx9m2Z"
      },
      "outputs": [],
      "source": [
        "import torch.utils.tensorboard as tb\n",
        "\n",
        "%tensorboard --logdir {'logs'}"
      ]
    },
    {
      "cell_type": "markdown",
      "metadata": {
        "id": "pacR7SNNaSko"
      },
      "source": [
        "# Use REINFORCE to imporve our model"
      ]
    },
    {
      "cell_type": "code",
      "execution_count": null,
      "metadata": {
        "id": "e6qjRVSfDFtZ"
      },
      "outputs": [],
      "source": [
        "import copy\n",
        "import subprocess\n",
        "import random\n",
        "from tqdm import tqdm\n",
        "import pickle\n",
        "from torch.distributions import Bernoulli, Categorical"
      ]
    },
    {
      "cell_type": "code",
      "execution_count": null,
      "metadata": {
        "id": "mNPZjx3vogXh"
      },
      "outputs": [],
      "source": [
        "!cp scripts/model.pt state_agent/model.pt"
      ]
    },
    {
      "cell_type": "code",
      "execution_count": null,
      "metadata": {
        "id": "chdu_WlgHDUe"
      },
      "outputs": [],
      "source": [
        "model = load_model('/models/model.th')"
      ]
    },
    {
      "cell_type": "code",
      "source": [
        "average_return_logger = tb.SummaryWriter(\"logs/average_return\")"
      ],
      "metadata": {
        "id": "nb4jI8gMYr32"
      },
      "execution_count": null,
      "outputs": []
    },
    {
      "cell_type": "code",
      "execution_count": null,
      "metadata": {
        "id": "TWRbG8WXaR49"
      },
      "outputs": [],
      "source": [
        "folders_arr = ['agent_1', 'agent_2', 'agent_3', 'agent_4', 'agent_5']\n",
        "\n",
        "batch_size = 512\n",
        "\n",
        "optimizer = torch.optim.Adam(model.parameters(), lr=1e-4)\n",
        "\n",
        "global_step = 0\n",
        "\n",
        "for epoch in tqdm(range(20)):\n",
        "  print(f\"Epoch = {epoch}\")\n",
        "\n",
        "  # Clear the directory used from any files from previous runs\n",
        "  subprocess.run([\"rm\", \"-r\", \"reinforce_files/\"])\n",
        "  subprocess.run(['mkdir', 'reinforce_files'])\n",
        "\n",
        "  # Have our agent play 40 random games\n",
        "  for i in range(40):\n",
        "    index = random.randint(0, len(folders_arr) - 1)\n",
        "    player_1 = \"state_agent\"\n",
        "    player_2 = folders_arr[index]\n",
        "\n",
        "    # This variable defines the side of our player in the game (red or blue)\n",
        "    player_1_pos = random.randint(0, 1)\n",
        "\n",
        "    pos_x = random.randint(-30, 30)\n",
        "    pos_y = random.randint(-30, 30)\n",
        "    vel_x = random.randint(-20, 20)\n",
        "    vel_y = random.randint(-20, 20)\n",
        "\n",
        "    if player_1_pos == 0:\n",
        "      data_f_save_name = \"reinforce_files/\" + player_1 + '_' + player_2 + \"_\"\\\n",
        "                    + str(pos_x) + \"_\" + str(pos_y) + \"_\" + str(vel_x) + \"_\" \\\n",
        "                    + str(vel_y) + '.pkl'\n",
        "      subprocess.run([\"python3\", \"-m\", \"tournament.runner\", player_1, player_2, \"-s\", data_f_save_name,\n",
        "                      \"-f\", \"600\", \"-m\", \"2\", \"--ball_location\", str(pos_x), str(pos_y), \"--ball_velocity\", str(vel_x), str(vel_y)])\n",
        "    else:\n",
        "      data_f_save_name = \"reinforce_files/\" + player_2 + '_' + player_1 + \"_\"\\\n",
        "              + str(pos_x) + \"_\" + str(pos_y) + \"_\" + str(vel_x) + \"_\" \\\n",
        "              + str(vel_y) + '.pkl'\n",
        "      subprocess.run([\"python3\", \"-m\", \"tournament.runner\", player_2, player_1, \"-s\", data_f_save_name,\n",
        "                  \"-f\", \"600\", \"-m\", \"2\", \"--ball_location\", str(pos_x), str(pos_y), \"--ball_velocity\", str(vel_x), str(vel_y)])\n",
        "\n",
        "\n",
        "  data_files = os.listdir(\"final/reinforce_files/\")\n",
        "  data = []\n",
        "  for file in data_files:\n",
        "    with open(\"reinforce_files\" + \"/\" + file, \"rb\") as f:\n",
        "        while True:\n",
        "            try:\n",
        "                data.append(pickle.load(f))\n",
        "            except EOFError:\n",
        "                break\n",
        "\n",
        "  player_state_data = []\n",
        "  opponent_state_data = []\n",
        "  soccer_state_data = []\n",
        "  actions_data = []\n",
        "  player_pos_arr = []\n",
        "\n",
        "  for entry in data:\n",
        "    # Add player/opponent data depending on the position of our agents in the game\n",
        "\n",
        "    if 'drift' in entry['actions'][0].keys():\n",
        "      player_pos = 0\n",
        "    else:\n",
        "      player_pos = 1\n",
        "\n",
        "    player_pos_arr.append(player_pos)\n",
        "\n",
        "    if player_pos == 0:\n",
        "      player_state_data.append(entry['team1_state'])\n",
        "      opponent_state_data.append(entry['team2_state'])\n",
        "    else:\n",
        "      player_state_data.append(entry['team2_state'])\n",
        "      opponent_state_data.append(entry['team1_state'])\n",
        "\n",
        "    soccer_state_data.append(entry['soccer_state'])\n",
        "    actions_data.append(entry['actions'])\n",
        "\n",
        "  features = []\n",
        "  returns = []\n",
        "  actions = []\n",
        "\n",
        "  # Get initial features for our first and second players\n",
        "  initial_features_1 = extract_features(player_state_data[0][0],\n",
        "                                             soccer_state_data[0], opponent_state_data[0], player_pos_arr[0])\n",
        "  initial_features_2 = extract_features(player_state_data[0][1],\n",
        "                                             soccer_state_data[0], opponent_state_data[0], player_pos_arr[0])\n",
        "\n",
        "  prev_puck_goal_distance_1 = initial_features_1[-2]\n",
        "  prev_puck_player_distance_1 = initial_features_1[-7]\n",
        "  prev_puck_goal_distance_2 = initial_features_2[-2]\n",
        "  prev_puck_player_distance_2 = initial_features_2[-7]\n",
        "\n",
        "  player_state_data = player_state_data[1:]\n",
        "  opponent_state_data = opponent_state_data[1:]\n",
        "  soccer_state_data = soccer_state_data[1:]\n",
        "  actions_data = actions_data[1:]\n",
        "  player_pos_arr = player_pos_arr[1:]\n",
        "\n",
        "  for i in range(len(player_state_data)):\n",
        "    player_pos = player_pos_arr[i]\n",
        "    curr_features_1 = extract_features(player_state_data[i][0],\n",
        "                                             soccer_state_data[i], opponent_state_data[i], player_pos)\n",
        "    curr_features_2 = extract_features(player_state_data[i][1],\n",
        "                                             soccer_state_data[i], opponent_state_data[i], player_pos)\n",
        "    curr_puck_goal_distance_1 = curr_features_1[-2]\n",
        "    curr_puck_player_distance_1 = curr_features_1[-7]\n",
        "\n",
        "    curr_puck_goal_distance_2 = curr_features_1[-2]\n",
        "    curr_puck_player_distance_2 = curr_features_1[-7]\n",
        "\n",
        "    # Experiment with the rewards given to our agents\n",
        "    reward_1 = (prev_puck_goal_distance_1 - curr_puck_goal_distance_1) # + (prev_puck_player_distance_1 - curr_puck_player_distance_1)\n",
        "    reward_2 = (prev_puck_goal_distance_2 - curr_puck_goal_distance_2) # + (prev_puck_player_distance_2 - curr_puck_player_distance_2)\n",
        "\n",
        "    if reward_1 != 0:\n",
        "      returns.append(reward_1)\n",
        "      features.append(curr_features_1)\n",
        "      actions.append(((actions_data[i][player_pos]['acceleration'] > 0.5).float(),\n",
        "                (actions_data[i][player_pos]['steer'] + 1.),\n",
        "                (actions_data[i][player_pos]['brake'] > 0.5).float()))\n",
        "\n",
        "    if reward_2 != 0:\n",
        "      returns.append(reward_2)\n",
        "      features.append(curr_features_2)\n",
        "      actions.append(((actions_data[i][player_pos+2]['acceleration'] > 0.5).float(),\n",
        "                (actions_data[i][player_pos+2]['steer'] + 1.),\n",
        "                (actions_data[i][player_pos+2]['brake'] > 0.5).float()))\n",
        "\n",
        "\n",
        "    prev_puck_goal_distance_1 = curr_puck_goal_distance_1\n",
        "    prev_puck_player_distance_1 = curr_puck_player_distance_1\n",
        "    prev_puck_goal_distance_2 = curr_puck_goal_distance_2\n",
        "    prev_puck_player_distance_2 = curr_puck_player_distance_2\n",
        "\n",
        "\n",
        "\n",
        "  number_of_iterations_to_train = int(len(features) / batch_size)\n",
        "  print(f\"We are going to train for {number_of_iterations_to_train} iterations\")\n",
        "\n",
        "  returns = torch.as_tensor(returns, dtype=torch.float32).cuda()\n",
        "  actions = torch.as_tensor(actions).cuda()\n",
        "  features = torch.stack(features).cuda()\n",
        "\n",
        "  returns = (returns - returns.mean()) / returns.std()\n",
        "  # returns = returns / returns.std()\n",
        "\n",
        "  model.train().cuda()\n",
        "  avg_expected_log_return = []\n",
        "  for i in range(number_of_iterations_to_train):\n",
        "    batch_ids = torch.randint(0, len(returns), (batch_size, )).cuda()\n",
        "\n",
        "    batch_returns = returns[batch_ids]\n",
        "    batch_actions = actions[batch_ids]\n",
        "    batch_features = features[batch_ids]\n",
        "\n",
        "    acceleration, steer, brake = model(batch_features)\n",
        "\n",
        "    pi_acceleration = Bernoulli(logits=acceleration[:, 0])\n",
        "    pi_steer = Categorical(logits=steer)\n",
        "    pi_brake = Bernoulli(logits=brake[:, 0])\n",
        "\n",
        "    expected_log_return = ((pi_acceleration.log_prob(batch_actions[:, 0]) * batch_returns).mean() +\n",
        "                          (pi_steer.log_prob(batch_actions[:, 1]) * batch_returns).mean() +\n",
        "                          (pi_brake.log_prob(batch_actions[:, 2]) * batch_returns).mean()) / 3\n",
        "\n",
        "    optimizer.zero_grad()\n",
        "    (-expected_log_return).backward()\n",
        "    torch.nn.utils.clip_grad_norm_(model.parameters(), max_norm=0.01)\n",
        "    optimizer.step()\n",
        "    avg_expected_log_return.append(float(expected_log_return))\n",
        "\n",
        "    average_return_logger.add_scalar('average_return', float(expected_log_return), global_step=global_step)\n",
        "    global_step += 1\n",
        "\n",
        "  print(f\"Average expected log return {np.mean(avg_expected_log_return)}\")\n",
        "\n",
        "  model.eval()\n",
        "  model.cpu()\n",
        "  batch_features = batch_features.to('cpu')\n",
        "\n",
        "  traced_script_module = torch.jit.trace(model, batch_features)\n",
        "  traced_script_module.save(\"model.pt\")"
      ]
    },
    {
      "cell_type": "markdown",
      "metadata": {
        "id": "JsELJM2xjzx7"
      },
      "source": [
        "# Get torch jit script"
      ]
    },
    {
      "cell_type": "code",
      "execution_count": null,
      "metadata": {
        "id": "6Z8Ib4QBIugX"
      },
      "outputs": [],
      "source": [
        "model = load_model()\n",
        "model.eval()\n",
        "x_batch = x_batch.to('cpu')\n",
        "\n",
        "traced_script_module = torch.jit.trace(model, x_batch)\n",
        "traced_script_module.save(\"model.pt\")"
      ]
    },
    {
      "cell_type": "code",
      "execution_count": null,
      "metadata": {
        "id": "8wGw3wMNsC9o"
      },
      "outputs": [],
      "source": [
        "!cp scripts/model.pt state_agent/"
      ]
    },
    {
      "cell_type": "markdown",
      "metadata": {
        "id": "Z8rHWWlMkcLg"
      },
      "source": [
        "# Test new agent"
      ]
    },
    {
      "cell_type": "code",
      "execution_count": null,
      "metadata": {
        "colab": {
          "base_uri": "https://localhost:8080/",
          "height": 534
        },
        "id": "I64r2bLeBi78",
        "outputId": "ed4db340-f082-4bcc-ad14-7f96cd7d82ff"
      },
      "outputs": [
        {
          "data": {
            "text/html": [
              "<div align=middle><video src='data:video/mp4;base64,AAAAIGZ0eXBpc29tAAACAGlzb21pc28yYXZjMW1wNDEAAAAIZnJlZQAAz4JtZGF0AAACrgYF//+q3EXpvebZSLeWLNgg2SPu73gyNjQgLSBjb3JlIDE1OSByMjk5MSAxNzcxYjU1IC0gSC4yNjQvTVBFRy00IEFWQyBjb2RlYyAtIENvcHlsZWZ0IDIwMDMtMjAxOSAtIGh0dHA6Ly93d3cudmlkZW9sYW4ub3JnL3gyNjQuaHRtbCAtIG9wdGlvbnM6IGNhYmFjPTEgcmVmPTMgZGVibG9jaz0xOjA6MCBhbmFseXNlPTB4MzoweDExMyBtZT1oZXggc3VibWU9NyBwc3k9MSBwc3lfcmQ9MS4wMDowLjAwIG1peGVkX3JlZj0xIG1lX3JhbmdlPTE2IGNocm9tYV9tZT0xIHRyZWxsaXM9MSA4eDhkY3Q9MSBjcW09MCBkZWFkem9uZT0yMSwxMSBmYXN0X3Bza2lwPTEgY2hyb21hX3FwX29mZnNldD0tMiB0aHJlYWRzPTMgbG9va2FoZWFkX3RocmVhZHM9MSBzbGljZWRfdGhyZWFkcz0wIG5yPTAgZGVjaW1hdGU9MSBpbnRlcmxhY2VkPTAgYmx1cmF5X2NvbXBhdD0wIGNvbnN0cmFpbmVkX2ludHJhPTAgYmZyYW1lcz0zIGJfcHlyYW1pZD0yIGJfYWRhcHQ9MSBiX2JpYXM9MCBkaXJlY3Q9MSB3ZWlnaHRiPTEgb3Blbl9nb3A9MCB3ZWlnaHRwPTIga2V5aW50PTI1MCBrZXlpbnRfbWluPTIwIHNjZW5lY3V0PTQwIGludHJhX3JlZnJlc2g9MCByY19sb29rYWhlYWQ9NDAgcmM9Y3JmIG1idHJlZT0xIGNyZj0yMy4wIHFjb21wPTAuNjAgcXBtaW49MCBxcG1heD02OSBxcHN0ZXA9NCBpcF9yYXRpbz0xLjQwIGFxPTE6MS4wMACAAAADuGWIhAA7//7jq/gU2McSd/WgOU84C7rm76aFx3/wQT8/M5OsACfuebrBRisuVAD2TC5kXTlkkTVs9av2zjRHMkJcEf3a1xfsVYsrh1aC3OmdsWfjqXFea5zN263UzdjUbBWPfolPkggv688GDdT0AAADAAADAD8iqgdblua5lsp71qHpPAToGIyluck73nijAdnyokaagTzeVR0muZnrLCcoT27QABDwPlv/l9JnbeMbdhBVnTR8S3JO8exOTHkGqGkXrabkDh8aLIPuJgbwy7OqcFyEYnx17TGQzRyeIL7rhJB8UVFzZQvwm4IAJBib0musg+naa13rE/nnGOiyWoC88e/h2JzfgBtVjXjM+RzFtCQm7XSurOHMgUFbaaeUYQhci+6ywpE4mzHlZ4DUdn3kq0iIjQHhYVf9/WN3SoJ5A9KLLPvjEGxilDhVawlXCVSJqeoful1VJ1GyT/4FEjBjEp8vNMGFRm/1YomEf3+hCuClzu3F79of0w8GUvvt2vBMjkNFjsHe0UL+kILwrjZONE2MnjqCeyWnCb8/YsFYMddgpG7uMCNiQhcar5jZrKaWj8BbcfXm/E6hntT3FaqUkGCEGsvPnbcsd7syX672go6iN3Xk2mTiFPQ9nFgE1yU6wEqtUNHFI6A1/CyGNtiTsbQnHAikslm9nmAOI58dbcWF/BtaZJ83H3fgLUKxutrMEMiwQHebxFGV74vHIzgP0GEdxcoO18nrVw2Xf267Hp/neHUAbUTS/Oh1fYeRm2dwZg7C/8OQV4S+vMA2qhzQSeD11Mvha/5O/MwBggAAAwAAAwAAAwAAAwAADG9A0vB3EN+/VvHLU8UJYnyQ9qlDRw6Yb1H0eAtFYktgQtU1yLWymFMVsb+nmpvyJ060fhUeEPbq6iFOUnm1X9Dm6ZuhtukMtv2Zz1JjWY4TNNyB5elOIVLntN23UHo4R7hkfefw6mJThTQoZcGF++Vx6gyf+H/uQrLBsIp3S77lqU5dqFu6xxC73nWXnDFYlWrWoYBf9EaTdGnx1//qOJaAmKoaJa94g0tnovhnjo7v5I71LbLrSJbXpPmgKwBMjr8O9I3boRMTMbXyqyU1B/+ygZRkUXU7sVtVQpgi57o0+e79EEX0Rowg7rxKaiibi4d/fpVnJnC+WIZADZGl7cbzqpbgqvKsEgPQxXgpU7mGCC/Z8OXNmsz5JzZ4toX8H/1p32l+VuJv9CbZalNvT0AoHHUlRApAl3o/A00aB+50Fk1ayWLQ6lDK8rEAAADGQZokbEO//qmWAjFx8i6XZsoYLQANlC9R2cNIi8NEZGV2BkzqSuMMaLKaVI2hnpjtlDDrAH36z4Su7tSZ1QhfRtl2fMzGBKofuwscLVnp3eVvMMvxepUg/YBurk7AYQY2HpYb74P2cxH4riwHH8zRBGT+NHpwtQJS6DcCMlz0anJoSTyulxr8jmZRRT8WgklOzJ1oM8fNdJAxM14DfN9A0lY41+hO0sO73KPAnYR7TIP9lrG0CbdwNb8eJisRhfnqydAN/o4xAAAAJUGeQniGfwECqce2YrcvSgtubPB+YAABh6uT9Z+gjDn1fFL32gUAAABBAZ5hdEK/Ad58jL1FV4APnX6ZRc+mdJVeab7kfhM6QbLVwBaGcIVgAAChNjXs3GR3UjTy2Bt+4otK7qZvZYnI68AAAAA9AZ5jakK/AdimRa5CRpACFMv+z5ROUULLd9CUf7oAACgn9LpY6golBTPYvBrP84/FbISCN28kRrOKgkFmsQAAAHBBmmdJqEFomUwId//+qZYAgBYnsCBgBCnqmP1lCShvtKi0Xu7837sU4bXdz8HHqrdL7KAAAEETETg+m6H05i4Mc4cPHDfWzJWh3bD+GucAAlCrb7le7+kKj205/y3rWzmd4f7W1IWb5vL0wb2mf8KPAAAAN0GehUURLC//AWDc62HBGaADrEKK8TshpevnHRv3eG4P31yqOyAABgSEej6PEVEdm1o4iQ31t/0AAABUAZ6makK/Ad8c+c1kFaUAD97g0xuST4Rb6X43AJibbRm4CMFomfY/AAAOeZSX8vbV7Gi56oSaRA5rEax2lkFkmdNOPaD/65DdQCWs0/+A09qy7W3BAAAAeEGaqkmoQWyZTAhv//6nhAD98J5oX5WEwEyAB2hgIcKKNvWR9p0FfH+7sV5Z2wUJbmKiiJ3FMuZY4sQ1cEgTMrpfKqR7tiznk8420V+74oiK0FwAAGA7GDc5+rKABdqL+N6b/0gD3AswU4l1DWNraTmmXCnXKmcjQAAAAFxBnshFFSwv/wFliLwTiGO3X68BjNYASk0HhjCmOU8UOCgG5QXnFlKcmi4/3U0RcChKOZB2jZXpwfAAAOyMsPWRBrDWGgLUw61/7zs0X33+pmPB9PNQPamiSGt4XwAAAF4BnulqQr8B3x0dpGz8rjXoAQp53dz2CqNeu7kiJ3cgAAYvbPpx5k579ASoxQUTZx3yKRoHhp0L4PnQ07bHxHYQoKbUI6n+JuiTsrBW2yUKmxLLullL9ygMcE+VBB1xAAAAhUGa7EmoQWyZTBRMN//+p4QAcRIFlCRZObhaFBaNXQAPie98wxkOx1JdZ+gfghROJPtWl75a0gAAZzCo8m1aaxI+F+/mwxPqDKfetUxmIE/5LL59cZduUgR1aVP2CrrwFseCvOswvxCq82/tTcdlAcdxlUE1hfNW73mLR8SjSQ5A7u/l7KAAAABYAZ8LakK/AF0jOgYgBCncaPgokzts68kK+dcABIGB+7/PjRIyop22cGtDx7ffffo5/aIi9CyvLA4uGnFk8AAN0ENppB9aFT6s5+Baf+7lt7Ac8uovLreF4AAAAI5Bmw1J4QpSZTAhv/6nhABxv78A71kaXBkCPHuo7gyQMkD3tjSxLtX4MLpz1QSVZVCm9N0h27VilkMWxqCNP3YkYAdqop+WPg8QKFXIhKetvjLNMaTGkb1h2H+Zhg+eVH3iTWvgrlYTgr98aefSVCPzq2VFRX8s0vz6EiFa9RFhR4ZVPzSFCvWD+tsgipntAAAAeEGbLknhDomUwIb//qeEADIvQPcjQAEQeYar6nbLKbLYOn1jGKBRg3zlJ0vMgcTS4kMBz2D0Mn0J7BGSu9PRJbYDFNcx9yS4ABOJz5iNf5bi0yBY+2MhnXwuWiYo9ktew4d2efLEYeD2YuPQsyBN9jLPEsiag7OpzwAAAJBBm1BJ4Q8mUwURPDf//qeEADJ/1VB3k7lI1k7iCuAFnbCrmeCBcDq236Nlc3ghfqQvec3+C7bww1lSV0lzc4nFYDGwoFawFEHoFfbH3zXXaxCkI4T8JaCNP0BJcBjZapvKua1Qd1z96GCS17U8tchSJMK8cfVbmW7tXLyE0sV4RfzC3xcHucpdOqCf+1P2NsEAAABcAZ9vakK/ACj4MZoiAE1TyDsQbQiyWtZxUel+G1OZUWOA9SQoADK6+DWFrfWgeJKwACyybFpYpOP2Wj3TDvn4Gtd2Hvak/O3fa8Z475f/Y2PmY+jCKzip0+ZEQZwAAABrQZtxSeEPJlMCG//+p4QAFiDoM7fufh7PcADOLK3anx1UYkPm+06yF9QJqmOP6mOhPziS1giedlxEd6HKk18jaURHOPh5caIHfEg+HIuyrrTz1uUGc4vJHvQ6eNTvvSZprwyu8Ql2qPZWFuAAAABsQZuTSeEPJlMFETw3//6nhAAWPmXaOb2qYFlNkDQAX17WZbdNL7kIesRJTCiZrBX3YXWiWPDl2dcjkrvoaDbqYtGXuqzFwAM9Cd488BIPj3UPps0Cu15hEJVaGJP6ydMJXpGWCkbg9YlqicFxAAAASAGfsmpCvwAR21M6ogBbx2u7IgisYxZdGgDfEYuFeL0Z8WwdtuI/uADEBbwiqfCqQWPJSWoy+B5XSwONblXEZyeiENubrrRL4AAAAGxBm7RJ4Q8mUwIb//6nhAAJqssbXtkFk1SAGX59E6u4nmsRthbjlfJqdFvN3952etU3OHxpVlS4AgEckGT3Zg7ZoI9+gptGaoBhT56Kdbeu9aj4tKACnTfdF+5ELmJzpK4bu/2qNAJqEgPqSqAAAACPQZvVSeEPJlMCG//+p4QACakSdPaqlLGIvQAJXn3Swjx53kKNN+abzt5Imblwi7oYKOuaIR2DrwpA2G+6IaDIcKAtnW3uId74ledml8ZfQAblk7CuVVKV88TeoqUSePuLvKwI+M38dH5bKhJqQ6YCKgFmUXeQU/T+5icjRw6dXITUrdJLyeQyFjjutbtDVUEAAABpQZv2SeEPJlMCG//+p4QACbdN7Rze1TAshCGwANk1wo+LWaxZaSZxcZ0dxDoT8dbUrJAbbaPVss9AD3tNYB1tf9TTUt3kYzuPRgVgwisr8MEMlr4J0xKsX+Fwq1GfaNC0PZaZVWgLFyQgAAAAhkGaF0nhDyZTAhv//qeEAAQ0/9w/bmXBgBWahXh6NS2UmqUAMyf4Xcb2zGFYhzmm9jj8G7WN5GZNTdE5StljCu64dC2z4BbALEoNd/4oslUr3GOYgpNDXyXnEgsPphh8D1ch+ZjHmUmUPzPUY9dV8E9ZrfgGEHWvk6nlzp7LCPDvVjYcQmJBAAAAjEGaOEnhDyZTAhv//qeEAAQ7pvaOb2qYFkbFsIYy8r3IAQNVmvWs6+8rkt+amHvBhJUco26q+pHhMIGuaX3Pc2SZjQMK5NKLZu7k7nCMi9POEhprf+KpgVn7CdArtDbSYcR279Q/9Zg5Sy6ykEVsaf5Dm+4hhPx/fXVKRrJZY9VZODpZapZyZkZ1B4N9AAAAk0GaWUnhDyZTAhv//qeEAAHaOJS3UBJ+yGXACaa1XS5sPd6WE/lSAVzlaBSARG1+DDVFd5wIt4ZQxLKJsNqNdG7IMF9BS28ZCbvosxPDIL36TEsJjWxIvLVM4irgpeTbK9fbkY26RIAZk2zBe6PLPYp+SMf/sg2K9cL8+2nfdyp6AqjMEwxwoPaJF5E9281EISK2gAAAAIRBmnpJ4Q8mUwIb//6nhAAB3PZTgesQMXCnZ3k2JkmR7jHABkACH15KJzyM6ONl6jFftEHkez/F+9Srd7J+erF6UdOHE+IDgqDkXBs4ChFngjQfvlJC4+a26upJztr/KLkishHpBFjiZGgpOjAX42LE7sioxtDHSCTK4Veoh0jfD0jaxB0AAABwQZqbSeEPJlMCG//+p4QAANPwnkzbMl8TMADaUAw0cYWrrTTHQeH6yrGWpXEZ+21O4nefUD+9b6kiITQf1yr6ZrG6vS6Q7JUr2AU7orrl+oSwB36JXzX48WnBUHsyuzzy0U89ApkoZCrks3kIQVYmIAAAAHlBmrxJ4Q8mUwIb//6nhAAAzv9H06fllAUXQFkwWGQOtXJf1thnQ2ZtwabMRSoP7ii1zO/eewtV1xtUydyd5pAkMP7HyUfqkbwE7L++X0TgdmuhA8AzSINXUpNGtdJyS37YsgWav1WGQ+2Lk8guuKX8xfWRsqPDX8LjAAAAjUGa3UnhDyZTAhv//qeEAABawCsJejQAEQepx7IKffDUFIYhnQanaB3mX+r648+od0BOqZA1lHMk/qrGjoSDpGQozdJUGUG8a5OX0wn7VMJpSTyzVVdXfKdgSmO1K+bbf0DW5YKv8nn3WXGTmNso3EV6bfxWsbuc1ZY85gRIMC8683O1hzA8WpcUTPzj/QAAAFtBmv5J4Q8mUwIb//6nhAAAWz+ayMWrqgQbNYHp3u2o7/eoUPxgql7zOVst0WFsgq7T/9A/14Z3gsEZ9AJOURLee2HsiTEybI/jv6QFRXm3ITeY1UQDWoCNsK2AAAAAckGbH0nhDyZTAhv//qeEAAAnvoUY0ABEHvLQ1+ILwP5tNKKV7MhJ7a7HZ7PWRwKuVwUEwXpvSTmb5aKWAKocgPu+CEtxbiIbmK0B1wqe7jUSObna6xh2LwMBnQXa7hx5PJKn/vbjjWzkNjQMz/9cJ5qB0wAAAIpBmyBJ4Q8mUwIb//6nhAAAJ//R9GK3wcSf3qFHl4QvDapC7lxgm2dsDnPxnYFuNYsmHbDIGm/k9ruW1ZsC+6dVKdwBeQipCMAlSGssweevGHizl/3nX/z0oqM4R2PG92SCqUK00gnehCYih/YM0z2XbWDgvSIW+6SHefpsd/IkosluWuo0yK+Xh98AAABeQZtBSeEPJlMCHf/+qZYAAAjBYnzbGgApCPU4y6//L19emk/NrU+GxQ3aDNXoL04iVlVmNxD8erDLEYwOSlfUtO+t9U7iblTbp4uoFTZq3Um8DpGixgJz/oDXuXQVwgAAAHVBm2JJ4Q8mUwId//6plgAACMLUjaPNXGGIPjusAy7uQLnn8IAIw0190LfSRbh6Pafd8AyVhl51Wp97+E7yb0DVSqtsSKAs5IalMU9G7XOhiUFtwxUwpKONYDYWD1YLJl1KYbyfmUPM8QhgFdFF8ypqfVLAf4EAAAEKQZuGSeEPJlMCG//+p4QAAAef2VEE6Qv3rD4XGwaLIOkEADUyOqm3uBS2GCxiQ/+4wvh7Id7a+MymZI86eju6whcUDwriVeKzgHtiIH5aT0m2X/HqTAl84rvpUfHkYfYo2JiLgMljuAhQgF3R2T24LzNgIuq1Ubd0tQoCkrd3iD/PnNetXq/emQPLL89JlfC2pN1vKEkq90SZ4kmIK4ycl4BV3MjewsjadehTvlFXbPDr6MGoZmph3MAD9NvmTs/EAbFU+IYUSB2HtKcAZGgCUast2p4+08tg4o0fHUjjHtdbUIxtRODULvmvHsiKiYjRIHPMS+O8KCJ1EfzBbPfzxsPdFmkgfjVAKqAAAACMQZ+kRRE8M/8AAAMDX/Fm7twU/mY5WAANGzi1w0sBGN9TT2J5LeZdG0ErXxInK5Ask/QKbFVSImIbAbz3kij6qqoeI+IZiwxmmfAyIrRd6OX7zd4GNbSvirsEIPe30bxythDxgs29OW41LbEEczeK5sClSazPdbHs9hPCn4ZImFmN6VsIdx0tUVwA0YEAAACkAZ/DdEK/AAAGSfzRaaIATVwSDCeaMvG/mC6tqLaOjhrDacFz+Twm0Lc3C/RIqfJJExXDyDIKOEYU+mYZqPAEqpzDasdr+/1lA1HURxACHPNhwHK2LS6hLHUsSgEDI2WTR9zcX8O4bdyNDws/lARmcNWEp3bqmm7iXO/1bJVTiWFESl/0bKafbER37gbGpcjcdnhqRSEWAaLrHnzSbDDEH5RAJeEAAACkAZ/FakK/AAADAsSvNYIRACasxfAGi5buZywKhYva7HJAj222QZ99wO01UKZ93JcVf/DqV3FnCGtzPDzoHt8Rkf69r9NqRGRYGRc7NvQr7LLPOk/UCnoF76rLAHmoIkJO4+4IVKCZonb6NoJmSKKkUyL/W9x/pCcKDFov2er00l0eFVDXyH2DTOeA5g/EvwTAD7vcLWl3kNYbgKwAq637lQUgEXEAAADxQZvHSahBaJlMCG///qeEAAADAX8kmYW1VAASfPx1x05wsj7R5V8XGYi8RK4XWd8rU616regYjQ/6dJcJYjj6wFRXLq6KtB6HZD8KpERS6t73o3iKm/ir8SGjBzxbdpcmXA0F1xpLwXkyK/w76lMFA20znHwTeE2iJPpiMAKFd4QpMIA7fs+rBPoi6xTITCi6dlmCSMt241K8+epwak1wKfrj02sFch5uPEt31NPXnPSUNeW1yBmTZtH46RPvTvQrSc5FG9x9fvmBKiG1rhlSaaPuvtBLBPTkjS4Pc7ugXlp+inefE7l3l2ZN8gY/gxlbYQAAAK5Bm+hJ4QpSZTAh3/6plgAAAwDBJ8B0jDQAX15vG1aGBzteg1mzhnddr9FFwvq2DvCaTvBfmeFnng0xtVii8IpxW2yjpc6UfxexyUPlc0HUH/8sBe4Gw2k4Dzr13FI0ChzJAiiphcOh4MNIvDq/SRFXGThcD+y5npetg1vwTWH+wWm1yADIFpL7oQu/aqbz6U9OhL4Rx+0/8gE2kV/O1vrKgk8TynE2wLXv/VJEAXcAAAC5QZoKSeEOiZTBTRMO//6plgAAAwG09c2YpILRnGEAC9dT7LjKKyouRASLkYiwpxERvGh1bZkIWVyYJYyKIO+16afnocnA9PBSYZ0q0A+Z9R91LUpuq+keon9PJoovt6DAdSVZMxq+81wCAkaP9GnBGy/22MObgP6OMb/QpyT4fFagK9c9XkXOVxwvvm4aEi+QhbXw9adLRL1jXkYzcqqBBx+aPVNTf1rt+iOCzKEI1J7XYMa+WiwgoUAAAAB0AZ4pakK/AAADATGsSktQFgAlT4n2LfdpXpI99ICfHoI1IliOspDyVbBCwili818MDLqtLhKo0ykoJOiCSR4R/OwJKwk85iXtJ5SQGxxBZU8x1uaGKhD75VBn+vsKpc9jqOCIoUfTanayQa6898l72CFIA1sAAADTQZosSeEPJlMFPDv//qmWAAADAMEEYd9nBqgAnI7cjDLPxUd+2hKot+pZXvWRvz2FKpIj+K3HyWwtXF0xl7JbfB+9b6WPOENds/Lf8BwxTEYq7/jlwykelHn4/notgTD6xdacyfT5ERulagdmstPmTuD4sMpacRvwiqsjiZkNolfeFauCo/qLMn77FBZTbIuGnT3mWS7UKobEoM4bWWkdPiVqnS2NiD+AVKloZc36vU7/3+i5Zv9rGbcQlXHczF9Brnbu8JHwPwToWiiS0wr6R69mIAAAAGABnktqQr8AAAMBNX+mGowAmrurmvU4d+FvmW+NgVZfcKEQyzRbdZfqYBN90S2mmJ34DqZ+tyr7hqyTV5KjhIFWvdcZueFXnjYHo3Avta4frNWehdNGnShMTpcKt7bIAZkAAADnQZpOSeEPJlMFPDv//qmWAAADAMBaYI5OzAC2hxk3vvtnQOn/oa1MBh9c9BvAO0YUsw/HQ/SbapaEtyhN65NHBTLAU/lHQ93GynTQ2YoAJWqd48YQ4uHakXF7cfSEweiiDQP5vqHMrBpPHgNMPTRbdSBF2gc5uQ8/Mjt6lHR8P+bFg4mXBvTtKFZriybgcJpGbKmLM1eQhCYCi/yaK8qJd4tNpSUdjgzSSwckb961p8jWTVtDZhfMKng3LVu3nK2yn35SmJonn4YX0Sq2jEj9QcbyoL+640OE2gXct2x09LTcFWkZgCkhAAAAawGebWpCvwAAAwE1fwIgAVrclZ9gAyjBFVi7oHMV2QAcCc8ZSCw+EkDfFuN9FMnlGJFaZuPPgoji21Uv1xefZ4jC3qc0RqDpHTwELs8TYb2Tmz5Qxfy9nHGqgA3pCeJbvNC/j7nJTUo8gCghAAAA60GacEnhDyZTBTw3//6nhAAAAwF+Yg5GDgDgHNLMd5RpgrzHdnZvzjz9aUDWphPagoYLYV3s9gwI0nPRmABQ8XUTUXJyK10g6Pwp5BKdBVm4VlED0i2/b3kvpdZhTadh1kOXc87IYgzk8Mu4vHFlbjLdfDtdMhwbp7LXgnIf7UlTwCFaqTs61oL785rBl4axQGEFv/rliMnSyj33MasHkJ26pUTgWij+zG/k4wsQZkYwkJD+NA/4mGnAamIqa3c3AFkqhS/m1Ri9MWh+s2OLugXFc30rrXFx1ocJyzwziUFxLvXUcC/qH3KCp9UAAABVAZ6PakK/AAADATXPzfqa9JHYgAiBINwquwp6Zo3jZ/cEtSddNdVP7VdeQG7jGj2HpkHcIe5DaNffgaMMHWOrLH+rQIDmAV9L0CmR2whkuV460gD0gAAAAL5BmpJJ4Q8mUwU8N//+p4QAAAMBfxRsfVVOyuJwAMs1caVZCd1abRgosuaMLeKbhg+dPYHD5k2xqgUJWZb8UoCNw59w9q44Euot0wfZwHiv4+M4YGFk30TDjiICAcDhwvAxNj2rXM5yXCWnz2P2N/JGffxNZGsTXR8nSttNFRYxbFEOqhdCpmxez91SJYK+N/aR3vcP42lkrJHdnql5QhZEGUokdOlrxrw6fei1S0H0I5rIxiyJmLANZBhKvCZAAAAAYAGesWpCvwAAAwE1eucs1B9Sh/+tbAAaM6cduqklAUyRkpq/MxZA0RREL5jrTE6i/qgZIYG45AtavgDaTGiZkxY4diTE1Z7JdOVKxdFBFBL9Qgm2iPXVPRt1SIUC/gAXkQAAAL5BmrRJ4Q8mUwU8N//+p4QAAAMBfxRsfXmbBAa+ACodlWKPNVfwO73DP4wwp8YE7tcc/MPxsUbMbXMNYgjrRZtph3MstCNdM80yPQnJyUvLQJZZYf2rJdFwQTQVbF0puJghB/XCQuY7dzXtfAx/baCMBsTXYQws+ieQgQHxwKq1vfnH1kPjebSGg6eTnG2RdFj890Xky1ZamU6MYODDgLsgd6BxJTuqTRj5q/P2A/zbcXj2g4B/1jev5EScsl5FAAAAfAGe02pCvwAAAwE11WNB2yosTkD3YgAiDu26V5rK0jJ1UuNXyQaZw+xjjizl8qZ5uqpyPPHlCTwCeKWWjNeCm0ayzP0hRJK2yFAcE+xKCndDi0h9UIuURQOs+5zjvhqonNWS9qotdxhRIDIg9zUhTd6k9c2tvd695/QAKCAAAACjQZrVSeEPJlMCG//+p4QAAAMDT/AWEDsiu9zAARgG3+RTneHbDGpfQfipAwpd61vjHtsHyZ0ED4CYrIXcZGP9cjW3nXblE6vXowDMw2btakGulv305Zcfw8q7YWwJLHjlX0E172YTTF5iv6OXjon+vyyQPidjIe4GO2DfTjiYlImGcOIwvqi1HzxhNHfaEbspQk65EVSvADgpsBRjagw8aYf8VQAAAMhBmvZJ4Q8mUwIb//6nhAAAAwF9eg2qKfFWUgAnWtZr/trc3SgAVLG+WvgoS24jHB+zQvBxGIaV2bTbPtZ4XaPUQJRaSMHvUTNg+TdrJqQTgo46nDo3mpEa7Gyfu5PyrlEW3kCfOV+7yjA8oVeD3S6CoKhqkLseHuYfh1p0XEyviI0ct4oq2UVU7H/pED9zHuk8WtUUZGKkjJLrvYTa0970Dqs4686x2e7vT+IVu68QbBGj+tvvBlTS+dkzroV5yWPbLizwLHo2JwAAAJlBmxdJ4Q8mUwIb//6nhAAAAwF/4TyR13c0Qi4STFkAG0ydoU1g/ULVdhW6JYIWezHmWofDEGsosADbK3yjqX+oUO7eh5JdraTbKucR7lTlFbtdtk5eiywQ1ZXjUlRR7INb2flgOvU6/uZ5xuICABOPguV9LR1dUVEWg/Ralvddt807ZEy8qNLTeXSlQDfipLlr2h0+nGZtesEAAADMQZs4SeEPJlMCG//+p4QAAAMBf+E8oZShKUCKAC+velCmwZ/CrURslRGYXu4SgDQSgyUXy5dVgY6JGRukIgQ6/0S0ekyol655otz8y7GMBufZMDjcBSBAqDcT4a2Zu/FImuslxT/jL2TroEPYxtSka5hInZ0sFAOpIUGpG6K/Sr/Yp0u3llC/dQLD+V8JGjgkFo02X1cm5pQ4OcnEONsjHReOfHmqBjg2O840hi8ToNDC1fnH0wGmyZy391lI3M05FQyjESxzJi45ItuLAAAAsUGbWUnhDyZTAhv//qeEAAADAXRVTu/tsuADm91L9+RvyyYniEsyLTAwbSoOZRQiPUJJKf4uy/in2V8bKA8VkwuvbSeKiqniqVHK5ztR7xwOy2h9h7VG/3puiXIdecQVbrCKEK53022OR4wJXTFQDKZ8+O3v9XoxejhLgDWfXmwqixrGi0nAlV+IONV7tO5MuWOdmg5rYtqAx7P+wV+QwfnVjg57sAK64/8cvgCHv5uQkAAAANhBm3pJ4Q8mUwIb//6nhAAAAwF0VU0Fj7D4AHQcu6r2+Tqeg+hb71isMMls/TrSsSdQvGC7UuiCkTlRJmu4+n20L0IfX6B1aMdhuDo4U4dgtWfyyWJ8VX574eML1Zv7y5lTytrjkED1CE90dBEr60zClNmwjN0lwB1ysz7cHVqXSO8jj/7wAnjtvpdxL3j6jGAXPkSld52CMMpB/qnHL7/2KFr45o3s2p7g7TmyGdSyDSbcLsvW1S2phUp/857zrtR1Z5H1OSa/ez/KCGzVl/3ZmRbLbfLwCPkAAADPQZubSeEPJlMCG//+p4QAAAMDT/352TVX8/m3/y9q35QSRByJ+NAABM4byW8DlDgZYMLnIIOJsJseF32nMrgFPsLNFyf4QcIhQk36lwpf1wDhL/SKnGLNpdAR1noxmE5etfbe9EQxL9RygQ3i+ep1IGiUu0PPJD4zcHY+j0rDEvn6kEEaXmOjuOfqff8AyXj6SGGTdZ38i6S0SApIuKIDyYkIF/629horsVkmElcODvJxrBk/jPMJuCfQqt+LRjo5JVytYuFBbAXrh9KpAl9xAAAA4EGbvEnhDyZTAhv//qeEAAADA0521w+jXVItPprnjVUIrzGBxI6M0FGSautbkgdLZj/RIHMH7XPovuxsfQmeCrs3/7q5CvqF+THkTAZsbE3Dm/lnZBKNiAUFc6TzeKNiZsTTAZykB9U/VB/sedWErMjSPqETo2LXurathLQP39mq4dHytkjhd280jRUKGieQYMgNYXjj39FsCUafFwLzwqLDxsThxDhdcC/2Dz5QR8qFgDyBTvfpIK/uDa7u3WdW2knHKbI2nUmPxhxC0IR0pfV//GLRhHj1UkbJJF1WcowRAAAAsEGb3UnhDyZTAhv//qeEAAADA0rs4fRqmF0rT/UVp/m4AIXqCkDs7SCLiO751cNoT8n0O8edyNfdrokkMgmMreDBontNaZ9K8aU/rI3W24Tz7ljsgr88ULSx8pA72WB1YNs8ccRU+ulO+lyrfJzzdMbwgjLjLyGVdxTPuxUT3SUEuO0wShh8OYVEVHmdODtFqf5DtAzHwu9rNdp73vY48DlgxFAfBgFV//h1CKuDaEUpAAAAvEGb/knhDyZTAhv//qeEAAADA0rs4fPn3H4QAXRmfa/qCvIgwktN4LtSvPQ3QLiJfVOS+7Syi6p/7a4AHFw0O2RfMjH58ccvfK4wcpDAgZxin7MRXQgyW+bdmnU907rag0Ncf1Opl9LSjqDC1muMD4ZgF2+HLocb13jaycoBLJc904nUeXr74Jgz3SPyf821QrtnOqXrQaWV7dr87lV4lwOTgWTvIpswqEQAWakduFtPaIhBV0CxBcemmGgUAAAAlUGaH0nhDyZTAhv//qeEAAADA0rs5aY1wRzS4AP2NumHtTKbbDXZVsD/MWidcL5uM6X+Ps2+qLvE14hSjftnR4XrEWfR/zlLPRmlmKVeM1jNeNdXDWFPM/2C0LPrKkukfw53K/u0wx1Caso4enVIzef1zZ1nKk8TU6rMo/TbtrcWuQVvZVOXa5MQJ2m6dcoBcj4rj7ycAAAArkGaIUnhDyZTBRE8N//+p4QAAAMDT8J5M1ViHomAA7NAZyfK5/dSdKhN/e69rHJWWeR8izDBpNDARppCtw0xB1tuZCbChEdP/Z1Blu3caGZNjch380Oh+H6tEGYbXr0pQ2nDHj/qizesMkrez6T1MyMNHscinFJAAtI9+ed//y1yXS08M+cwbtjIF3ICWCLK7H3b6hpLE1UV8b64C/ArEan3Th9PEurHPdCsEuB0gQAAAGYBnkBqQr8AAAMCss+dzY0C64XgA/Df0jMy8Qzwg3agnjR4FEJX7PkIlu1Wq18a+w0XR/9T4Q8drXevpu0Ar0k+Dkh/Sir2OtGcxAQ5jfAy7wgqeWbXcvy5EgElqx7/ICRH/4ywAP8AAAChQZpCSeEPJlMCG//+p4QAAAMDT8J5KW8Od4AEQa4ZhNtYd79UABL0j+Opv0sYALNApP/s9tIuBgwfxe7aMPCHbIkuTvS2wtCmxiP2CHGGepqZ+x/rAqICN8GBp/Mnkq//d/MRa2DdkWmiAGZkF7obUvh6BRy99KibcVVD4CBuGpKKGhkuk2Jsc8KePEUeyHGwjUbm9bucPObk5fd9WaGYSUEAAACjQZpjSeEPJlMCG//+p4QAAAMDNm/IOCREQsUoAB2HEO+gD4tyal9GgNY89E4OfOY+Mdi4P3MT1r7696sULr+vw6mlKwDH3xJqi2j/RoM2D51qc03vb6z7r1btADo8MKa1V2ym1jogvFlVS+EsoWIt96dmSrSPozMXymUX3tQH8W2qsc5gvL1fOxcdqIwRXhau4Xr0vvAkFpYdoWO57AvOv5vu8AAAAKlBmoRJ4Q8mUwIb//6nhAAAAwM25WbSroM0S4ANpAX3WOjfpe8fekxhzExwhtcDY3shd8CWFXyhZb83iGM8+hgSQ1VjkckA0uHMLzUwnhkQce57qwPBmvLz6zYkp2G1sCu+7uzO7hJVK/643RlJaGTTaSKm1l67Rf3Qq7UwN3M2eNYf6Zb6klc+pTIskKG8CtTlqxs8+Gpj+0c6xHllh1leGZaggHQPRQPRAAAAvEGapUnhDyZTAhv//qeEAAADAzoAT+xQBcIifgdsJYAHZoDOI5lGgs0K/kznaqPmFXhZ1WRqzy5kSpaWanu4TeBakqaF7uovMngsaTNA/GNZBsWLArLUKWrByYyx4g8YijkFwIej+D3onj2Oirqr3kuzO/nFL+KskWuv09JCeLF4jZ3V+3bK/zhb3kg1+QkHEdf8pdXtAjEqYOnUUxSnzhaR4gAr3xvgJI8Y2837e3sfVZyN9Io0bQP7S5jBAAAAqUGaxknhDyZTAhv//qeEAAAHETcE4oH+uBTScTb2UBR4oMZ/iI7NQYsGLreKCRaGiKJbs4p322vWC+UlEQDKiLOr63CRi9NQT7+A4PqvaZLseitpC+Zc/aMNyyhOTymAqpDeBNmdsORDcqcqIcIeN7PKpVh7q5Vk/5d/pZR0u+q3ieMeCDjdZxFRipm/0R/AAduW8QqaVSs2hAtGSB/j67h/BszWNonsvPsAAAC7QZrnSeEPJlMCG//+p4QAAAcQF1XoHAFb9BQJj7LYX/rPv5KUB1r9SKfcyrE7+i8QhG7RhPfyHvTbhzP/8QyAOGgzMA8WZxN8EQITm1gMulOQzlLHQEYmkSPCijvPOj5SfPvgo9WPEnFFHH27CQoHCsWHTO9IW5FVb87zSZolc2cZp/pJ+uaUrZ3nARRC5vdsvrC89mfTumRfqRpmRx+dzqiAKcz4Z5zNTGssUkFQg1Tq7vJGGP4T7+m8MQAAAKVBmwlJ4Q8mUwURPDf//qeEAAAHG4TydU3D81QAXSebxoB+7ZLyCikhIjmbGUiL7J8TZfceIYjtf9jHVUvV7IwCgKBsNo84xLxGZYrRAc//HQez8mG5IY8UPiNzB7XQOV2GDN6RgmXCnZsb/aHC2riBb7iYpAR+uNqpLJBAkweaYng30gIKhWxnGgADbPG4wjjAmeFaMX6881vSU07GKEGEAjZ7kfIAAABaAZ8oakK/AAAF0o2R70nmnB+kgA2CYOTVBoEU+4RrNjVmDb6VcM3Rp4cQ2Y+ro5sFpPjFpgZi0yfT3lbzW8pIY/GXE6ZyYuNL5nPRdSv8DU+d7VqImG37QAKSAAAAoUGbKknhDyZTAhv//qeEAAAG6AEPnrIwADuR/QyNq0PX1KMt+8X/Hvfmxnzj05orof9hHCbjIw3r4Sjya/y6cYlKjDFo1Set3w+qDfq7zuE8gGWsbVvvc42eO29YlqzHmV/MMuYPMDUEfd7WWj3S3SieCMBN6FFNwxrN61ANHgh/KcjcarrC1/sC7WAOQTCAfDXU9EbCiQmzhkzdV5+FuWSbAAAAgEGbS0nhDyZTAhv//qeEAAAG5dAoeCr0giHbG+to6wAOgzuj8wyWnQZKHU2+RtntEHwAAdfauGI5+a3cXGYh343qIQPMa4lJRZpQPyu5GNKdZNfs6HTTa+qGkVCEsYz1SJ8tXJ1sfvmxGMw7UkWOGSJBIVpnba+0OJbH6VbffvVQAAAAmUGbbEnhDyZTAhv//qeEAAAG7/ociFJN7mdmV1AkH782BEAIcRM4niVLLJW8cj5tKorx+hToWooywEWHM9SS2NT9C9DSKPH9+oI6c924JHBUL0g8R0MXuAy/LvUMx0jbhO7p8ZZZt6X6kgZ3M7eKiZuZRWJiqMONjW7Cp3wK6xBfpa5yDHBTewhMdSbCBK7x9IqtJlQzUwD5gAAAALdBm41J4Q8mUwIb//6nhAAABu/ZPSbNeFlDik4/KIPlrvABq5Yny4ELq5bALJsNjGxnSEOXICftZQvJKKdWY+1cg/qyDqC2RcKbf/6qSwwn4rvzThrOZHAf158vTGXws2P+OEEbEcgnW4TIQSm4mX0gjlEQWAhfmRNGupuPtWyVhJDMKBUgYD6Tkfpxa10kuJ3WYcKa4m+FMkttOBf7RwDWgXZM4OXJOYseWTsjvSKKM7x6IzGo7MsAAACzQZuuSeEPJlMCG//+p4QAAAa90EOTnja/e/+WkTUiP2pYADm1qCSiX0v0hSaXSSf4pVYXAWRJ3KfBMss1QrvqWCvK2CJNlZ9m4bxBleHYzQ34NLcO2nAaByiPPx7USjXwFvtGkpUE3ULCIeQ9uyzXo9NeZfGZnU0P3zrXlpfBz/aAlYnQ0iX1M7/z8s9b9Nim2vXZJ/7bpxE030Xh6olE8Ziqv2dfkBYtFq72mcl9HAhvG4sAAADwQZvPSeEPJlMCHf/+qZYAAAMDaf0SW7kvJ0FtCp3pNsbbMJ5/CANB94TJgMVgAy7htpDd/4EdYzHjXW5rWscNTUZSFB9ZV993fXmkvP2R663gvsh79MNROpaw2zJc7paQOsL+j1NS0rLYsnYjZEXwOT1V2jU+GHEl7SNkBxpUn3hiCXP4PdevreefMTcGNoByYrNso6f1eOOODcFl3izTZDzOhLRY/lG1iSycOESjuzOgEQ8hBhho1oR5XNN15iFf2o0Wr9lWrfSBEUdjqjnnaiLkfKQ8zEZJ1/FCmrxEFQqJsa1wBAS1Q36vOyuN5/KBAAABk0Gb80nhDyZTAhv//qeEAAAGx9lPw0PNzTd/QRACF/cb9/Sykhu6drVxmz2cqUKevL7kpZSqwdwD+qWbVBrlog2FLXxnnLRhZ6Azldpv0ngin20Hn4oPWvd+G+07WJFTRCuNqKjOWpWRw4dNkVAY/G6oH/MCIKR5NgPEOV3Cv0qqoybJqsPbAxWZdsb5wo9Jz90a32W+MLsyGK+rB8V4XNAXWdEynW9j1FZSE0Hmf1C7mvO66FZva6sVZ/iPXovzmqUYBYfqOW2xaGGhWTYL/9XEVYwOBS3GI+7LIwbBt2mW3X/jdlJuoLUWtG23eGXE4EEPbWflaIH4d1Scwg5m2xwscccuxWJkme0RROznkLvXV/TJHf9CWTXNjWz/RTuLB9+SXMODQvv6L24aY4wdxv+8ygz7pHYO6bc9uhutE/x6oEo95NjE3npnA9qN+uZsgCSJxk/gWzhJlR0maDJN5tgNh3sR0x5V9fDPBtlBSf6aJ8jKe0vQBD2pXZsVMqoIWFx2y+/TFQYt3P7occj9pxXxFCAAAADRQZ4RRRE8M/8AAAMC6hVJ5zyByRIROYg/zORp0h2WMXQ9gAFYPV4uNa6UbKtDaFeCfFNLTE2j4+s6d7NtvUvelX5SZr0gXOmw3QBpGiU81379rv7ovFjZ/ISScJAE0pkAu0dqv6WU7O3iKav/uXele9pquNftUWt6zrGmKFvvOyVPHub9Mp4/tuRYMnqo3EZ9dkZbPaiU3g+XS2z+DJTuKjNnLizurDv7f4265E2ACFLzywJH95o44eyFdr47SUyYIbXprIsLDAaxVVvO4DCSAi4AAACMAZ4wdEK/AAAFQyTstjpf19Z21KsoP17tn2/mIAIg7FCEzVq9FO3SgbaZNDgkHqaQgy9VwFdO2y+Zwc+M874l6sHea/ucve8rBbwID5WPTwJviYZCArrjLxe8ZcK6Vcc/xajd58cGBIjzi8vQ/Up95Jk7UUoaI/B+r3pQvxnBIvdbcuflrQ+9gRrQEHEAAAChAZ4yakK/AAAFQago270KOUb4AAbD5wa0S4TeIAOi9pEErWVLULcyhwddz1Gehs+Xj3R/iA/dqrZUeCAk0nJkR6sGmP5qHZob7aqOzUK4bsUPnVMG7dJ4bnS6uTksTy1f4YahcInK0wu+5G8NIxO2GAnuVJ/q5edDZNVVbzcn3G05ZKMr7YImdR0Uxp3oyY6LT8zC2rOM1bdhlzj82wxrATcAAAD0QZo0SahBaJlMCG///qeEAAADAuvMuvitudL4ePgk2xABfNDETUR817dpgHofQKHd/zLooguaWFy6QUlzvmgvU9tLhUKWDqfB+8bJqcU1cUoSKLpu3O8JQlcKXnbXtm3O40hpisoH/i1Hq9fLnbxiW47ttRU/5rQn73Xei2FeZMbGJlRK/b9+x5BlUN1khuXb83inIzSLGnrYYdypx1jeB7YSBrLtzhIb6g/VZYHb2MROJWyjXUMb8F6mym3uIOb3akQGblwW7SaComG7rJpg2dGnvks1sN7bI1FeoLh+/4kVpRekZ58h36YK5sMhvt4vdIgDagAAAO9BmlVJ4QpSZTAhv/6nhAAAAwLViKxI18NaEXlrABpHmzcIOgyBXDP3RoaxeP6BhY77bGTh/eVTGIpdkqCZCavRVcdxn0kM58pGql51xTlU7Qfp+ias6A1eH+fv6XAGS3oHSsmOVGoM+/rXods3wcP9OLOjecNj2P+40s17OvPggZwwR//u7jsnfIqhcx1w7c75/18DqUTKBAT0isvvl5JuZf11pOT1niDngN2PczYAzKZ0qUwJcDF6N+AzCllcYOW2ciP2xxeu/kj9huIWZ2QdKSlcYHSIPBA/VfAF/deh1hTz2Up1EZa1UcxgW2R6gQAAAMpBmnZJ4Q6JlMCG//6nhAAABc/PLX5EtmB2vcoY+8EG6ABD9azXhc2QFbv4r06IvWNop2RMd6qgqGsncMQV4nxhJR4L853Tlbm/Or7eH0zGsBrKuRj/2G2wF5qnpFUunTO8+ZvrnvmoroQTRI2GG3jLK4S4ZVQhU+PJEg7m5oeyb20U/u/K0RwwtvY5j9ESa2/Ckynn7KeKOofGFvjQNBa2ou44cSWF9Ey/Pm4fiZlnEG3Tie8w2DQnmjr3ymznMd5BHhzmmoNb8St9AAAA3EGal0nhDyZTAh3//qmWAAADAu3xbevj1c/xpfWFzGSP/y6Lru+a7/Q3P9QQc/byNv978nAGUwQHrwgf+NW8bGi6Rbask0KJ/26Z0P24vyzLpPaS8Kquq2fo9Al65pJSvZiyJRgrwG5luAg6MruEogZyRcZtlF7PbIkose37O9ENQ8DiuxnSLzt/8+z7k2sDlDtpaVTJ/kYaWEAc3OE7Qv3hU+FXP6AnooL4niidF43p8Z/yy5MX2ildTff9IZ6+H3i4I2P87WX0PXKCYzKUyel0PHOE0lFhr5jQA3sAAAFbQZq6SeEPJlMCHf/+qZYAAAaiGR8eikO9e+ZM8vvyOfAU41uXlw46fqGgAl1+jd3CXQQefzAYwQmJjSh6ME6NXmuyZ6J8zuPCri+ZjTslcurNctjHlP4oohiuUl80mG54lQ6bISM5GrAi+r7t5lKbbSnyVoH6ZSwacMThNzlk47754YgdQU0yJNUO3M8uckDkVcahAJ/tTzj/B84UgTwk85Wf0Mg+AjEvukJ1cJ/j/MMoaQek5V7R15RogRBVZeLzPqzLcv/CwVjMxJ47wM4Iinw/zj2T8Sa+YnsQPcHDmWvWX8hOgMAYLJI2GhZTySJ6xf+LQci0acRatrAb/OLLNMaZFPF5+qpzgd2btUt6DPpp/jfxMubJQcYFvOy4MzQXsqUqzsggrKHZiT4tG8zjyRA/h0kVfk2yw+4veyXTnmyis3O0iPLpJmTtMRm2EReRzR4BqJN0ZnmsI1EAAACKQZ7YRRE8L/8AAAfFL4einUwgAC+vUoP9Zhlk8SNDlKxEmZFZzTFSmP0xyB15h/bvEslO9zLB+tefcFsVvi2pRrgNA8zyMfGrwZ9THHHUUsyJfQ1i/tmZYfMCasT/1V982+Frk2hz2BihpApxidLjTEQ9RcN1qQFQN3yQuG/6GTTif0cdsmM3gDpgAAAAVgGe+WpCvwAACs17l7Cb6V1mU6E3x54RACA/NzxA/SyvQqzs8gfWqDLhYa7BrpHNoQ/TJVvO1RRFkeE8XwlH+v0DUPPhgKim7NPW63XYA6DJkIF1AAm5AAAAmkGa+0moQWiZTAh3//6plgAABqKidV8eYETfkANkOD6/6+3Mbcw03umTiutNc2k6qj5skhaZcAgPMlkAdWK59g4VDQO/tY6Ey19fn3whTkzkOFSPXoB8XvatUlXwm2ajONffoCNFnK5lmF97wNmO1we2gz9IydG/0hqYEnyywwquSGJib9+7V04cyIlJYVWGesqVpwyI8wAAWcAAAADQQZscSeEKUmUwIf/+qZYAAAaipNQGkXAqg2NADjLM8/IfYu7zm6xzCubyWMGmC32+FmTUpp2JRTNR5m4Tjr6Lu9SX+Zb1kIdNvNta4BN9HkqCwpg7ene1qoe05wcrGwdUwCXCSCt/hN34nZ1K4g3Xgq+33XSGC+5ZSXU4H+GEbKsymbdK1tuFBifN42rRv1CbzwKZorDCPailrR222qTVHDpQ5EWZ6f4y30QUM56ks6ZOIqLoqPf0UW9bzisoVCeI7YfrdkqQDHPus+MglYBKwQAAAWFBmyBJ4Q6JlMCH//6plgAADupn9Zmbheg5qN/wOwkAOPdlIXLmj12lCHDLjWUl63gA/JLUshz5P4xYdKEktxbq94wBdGyFDMc6/2QwBRLdk5P22NksTgDRiBJvqO4n17K+71ciSrZ+fKl8/K6cTOAhjBsT2o6dZXGCBSVuSwTqYyI1qvHeC0ye3aD7x1OGfu6etHhQ0eQIvlwoy+9JwZIgVqifTwkljoC9L3czhdX/nIXrSz310dhAx4db30GdK4H7rJxnV6EC9Zf4rGg/vVXnQXQEeK945YldrV1xQfV0ifPy08PelV6FEJg3jVjdDpXt0gyYY1QC7xUSglDI0KEj6TO+9lFMQ9SXM+f1lxTEkXYXfmjiSWhzJSnD10Bs9oVDxBG5AxA3KnYfrlerI5RrHCsC7Fmj0fkyXPmibgM1ti8MTWldbtZX685pd7iimTXvGx4a4UnXeyAxuWFGF4AGzQAAAKhBn15FETwz/wAADSoP9GO2DLeT/nvAA4fKedYI0i5+o88gAJ0hiUwgbvfnLQfOiJtA6KPIhJDpUDXFia2bXB5J1UwaZXh/FO+uqyVRSAs+V8AYAifaDPScVoDvUKxY+t+9bkGo99Ecc2+GXObbZpYSzmaFl5BfzmBLtfiBrO+wLkYPn8ldIE/1IIXTpX333XAnIGwc17GkqcOgkw6lqujVEhaJTajQA0IAAABTAZ99dEK/AAAYiOyHjxtUeQUHadVh+d/CJD/jImwsACWRapmH1LCYLPrlkNT9skIMsZFHVXhHvQi2YJYxWuaf9fbUYm82B5LpQGXIXm/cXI4wBHwAAABoAZ9/akK/AAAYhKB4nmeFI0OIEoA2mIoAH7qiJts3uwTcB7bFrorzOkmt4Yjq34kqsmXZouMRQbwf7utBXcactnv2PT7f9+EwRdeVQ9wJ7cn9algVQQKhQk2yWyI18Bg54Y/P97sQBlUAAADyQZtkSahBaJlMCH///qmWAAAiFbdgmIqYYjhTnZ92TcJAAha+SzusafrDIhHB9PF+9tYxIo0TQjhaAiXwDNo5SFxe4GGbAOmhEJXGEO4n0SVijcFgGJaG7vJ1crH5Vg5w24tmZiZ9OJEEmZuPwVvRQWAs/WynLXuMXLbL9sq0VY/lbCKtZCC5KjRJD3MnyU2BP64Kj+gAo3AqH0djI9MSz0N0wlBLv0myX5GtkxYKW3TSLNYioP5cs7TFKzHfy8mYUSis6ZG43vRNKJl2+MUDhjX7N7SOyYmxGVx/TXA/r7TvjlMST4z18KqS/PXcNmVGVJgAAACSQZ+CRREsM/8AAB2yvarkTxALnPvL1cE4/g2E4dhGOAC6Sb+CUD6J+vR6PsvHRtHs8pKiRL6CSxNcRxjX/xzAp5KsPaG/NjaXzw7V7sEO0L1c/tnlExzDIXcQVYBbITH1fnm6j30dzWYKjZPQY/TjM7j/WgNyrbzNQVn0uxUbm2xDHL5Uir71T10YtsJWGE7gBF0AAABPAZ+hdEK/AAAYixaydmcmT9QfxoILybIAQKOJqKMJPY1LS7qAN9FQJ++WBu+P9YGPZZpKzsI+sqyt2zhCN+004nQnFrdZLQ3APn4uqACqgAAAADwBn6NqQr8AADcz/DpTqhE3cuuDwQziGNvmnXvXS5AB/19/Fq5nO6R5aiJvv8ZRdo1O2RfIMySUMN5gDekAAADwQZuoSahBbJlMCHf//qmWAAAiCinw9iMgBqO/iU1YgbqmLwSjJmTZvJPNoXt+aI4x+YZxkoemNVdGBqdh5RsYNgIGNLhKjKxtOC3kaXPbjCpdB7QY4sSABbHJMUPi4+eT7a4zmkosaffQo6veKZQvkRH4xaSnK448vad8ZAGZhmPFmXCdEu2xeyVqz6DjJTnZvUL6I2R2praDPxBYXQE4XaJyluRg5wFiZv69gRxqwacPdqNyORcZtS4xs1hEyVQhhcdbBs/nzdTYPK2CaHvRKPxBuH9XJ8DLGLTO0P2fSv+fruOta8antFF5w3pGVsUxAAAAWkGfxkUVLDP/AAAdsJb5ZTELnk+PUdjpvl44v87APkFp3+ffdFp1RUfV7X2nM4FsT8x1uJULpEdZjE1rluryz+mNQNFFBtDDRMPCJpij7sHeclf0gdS1r4gDKwAAAF0Bn+V0Qr8AADdC2EwcmvhliGYwYDEAJq7qhwhItkLouiAQ+U21j9XXiEnWUC/wx5aBLGQexqvkKvqoEEbysJJQ5/KKwKzufC7OuntXySUR+p50rif9exVg6jwAVUEAAABXAZ/nakK/AAA3STBi9UD58SVH3TpjAsUgAnbaVGayxI5aeqD1TUywvXoznk4IBgDLhYks1z4NgOfwHO8VP8JNDROl9dR2ReEcbyRuqCP324cJQ4VCAH+AAAABMkGb7EmoQWyZTAh3//6plgAAThFcfSbf6CxbHHlB6z3U4RIyNNLsgA5Ip1wtk+2E94cmEwexiSoc+EsfqRgTHImMWSSUhKnQ5p8jh/ERh1OkzNujrMYlHcj/0Q27QDK4hPm4C7hjUxLjJIR6yFK0e6oVtXBcxmuDtOc3jn8FeZsmD26xlOVdY+IqJ9QAm9SXcwaOZPLzJoU8nCoR8DwJ4ObTEBpq3yyswploveDbExtls33VFil+0dqA9ru6ggSyk59tJDSvd0hFOoPHDzOjdLKe/13VMPyqabcAmffoqTECTcIgrNblAW3Eo8RpwEKDafJCz6BWNQ72xRK4TRU8PknwLSj/hu1pLYBw2IA+lmyL8ScgsOoFKLK5PQLhO+JkG84cFyHEES9ZgaPPuhKMTgAnYAAAAKhBngpFFSwz/wAAQ2kjoGhyVrSHvfknA6fLIW4J8B4HcXQRi8lDAV5t8QhIH6BoWlGuQQoYSj4oos2bfxLbyJLNY68wYq/1A97zhJJ6lXDREisesqIYcUdWNFVdbd9QzYpdN7L7yg6nTb0cBsR/2OmdbfHfut5VXB3vGMJfEEFDosBZykblp8tw7dbD1H2h7fhRqyDptBoMx5WOJgvlA3PQmTfH6cesAb0AAABpAZ4pdEK/AAB8bGg4ZAz55SP6lwZcK4rZPjjZe4AJpV3MTyuHPfaC+GKnTZXYErvADi08roygL5J2YTEvon/PFdoVrDWd9vmJLsWm+MlRKncD5gO06Kd/kqcrGTNlwP6YFAqSsBgyAE3AAAAAbQGeK2pCvwAAfE1iipM8KVb53NQ9GtiTkgBMRVzMLzobhQZAJrr7kjtvWRCQBs63ck1no+fzc01hMjTLPWZL0BIsDWM8cekPTA4fsqnlzTtJ3iE9NHkbUJejqW1HQzlb63obgTKIfI2t53pABDwAAACoQZouSahBbJlMFEw3//6nhAAAmp/Wyipfa12JmW7VWOTQAXSGLN7bHaZbbuCaemPA4yH7k3q8Hoow8Ax0b2meaIZRDsAdGbfZlbsjUJ9yDCp113hJEONBbf0J1s1rNbfzn7N8n/r2j5wlbXmLdTJ0ghX2sKeqyltbNzDS9kD2ZEX7fofe1LUdM7o4t/t22Ju4QAAKpWn5KjF4suc4o4CBZATxYD8tABQxAAAAUwGeTWpCvwAAfE1iipO3DhIsv/rlCD0kO+0AANhSpPKEV9yo4yy8RJCtzOEhTCp291u8nUjmA2rd2Jhbtf3K0V9dwJWSVLU8SksrKmEhkCpMAH+BAAAA1UGaUEnhClJlMFLDf/6nhAABYnnvDp7WtGIREIymAGQFjpfjfcegQ6NCRG3NkODuEDTtF8AJJixJ7vORHYnOPvPq5maAYI8YzI3ciCBpqVpd+6BzmMIi5gOCZdVWmH65SGJ9gEW+RNysvsQ7gBeLUt8mMgYeTXJOhqx6eUJhgQPifTpmg8XglHUUGEDI6D5/AWj4SMC724OiElKcwJ/7CPIdrRAk4UMfKE4DPOK6NURdFeePCV4A+rJxuXDcMtCQK0D4niPIbmSmfn6C1hWr4+fuLPZ1LQAAAFABnm9qQr8AAR3X6lRlhbEN9mO+pisMvtvDyXqfDYN27AC3e8n3RFABW0OBBPE/qvlltW7/NSTeuSKTRxDa+0AH91uVcdJV+AxiTcLxRwAm4AAAAKpBmnFJ4Q6JlMCHf/6plgAAsoLNm2gkRTEjcP1UKGoAbqRMvv/H45+hYFsvIETFFq6zPiNqv/JHHmr/sFfVotmi4FYMHQoy5CbVp4v6rq/cW46DeGKyqWoWL2nhuoiKeyeBo1Jo4JNzSQErq6eDCy5zI0izBajy0nyA8b6xCM1KrnDeXC2sgtU356BjBJMXM53gUu1N3YDzbY+FfBjklm91u6O/E9Z1rIA5oAAAANpBmpNJ4Q8mUwUVPDf//qeEAAFh830NrXfdkkd1S/Ark4p52dCYo9oAQdr6yAFhskJswp0c6CMm+sd96X536F0pKOBk2vd1gqb91Ua2jGc9FoIke+xDTOxEjI9lqfYLA27Usw1quCZ53Zb3JDLeBf2g12nBukuQtZX7FWkwEbR7JV7zyDIPD1OME65CIzyyDlM+6bHPZIscy7NhtAefLqeHsevBmdu5V/cYPiBnCWRxngDuQlcfaXf89QmJMAu0ntUycbT/hKYPzKxpqq8S5wRFyyeSD9MtBAC8gQAAAEwBnrJqQr8AAR23i/CJtIULrMpImTgmIAH8zAj7x7cP2J2ER2Z3JPS4pAkTI+Wv6jVOiWlljFVPkHuzpyjJlzDageqwGKfw+8tigAfMAAAAp0GatEnhDyZTAh3//qmWAAC26vJvkX5GIHXsbXw8wR7LFi7N5CAXgAy2unqnkH/HH8wQmlJtoikmNasB6op+f03FQ7KVXci1j9GkMAZ/PtNux78M9byLRbU4x/maD+E724ohL+uqLSrbnlDeLk41YzqNBSwPbP/3H0NdqFi9c0OPb5+lwUt5DrEjHGJrTnl5g94IdG2dcfH+jTce5Vm3gug4VCnIQAVUAAAA0UGa10nhDyZTAhv//qeEAAFq88rrtKHCNfXL/PJl7qgAuqffK3xRJLJnUeP32njDxLrtMqix+dmJzWdqXs665we/mDHHVGzwh6i4SyRqsyQjQeaecXtxafs1PIT7HPumR/gcDlRsxMA1/8r5C2G2iQfrPwL0Ic7sG9fxh2XvFS5YVqYheNovrlX2VXNj+gor16c7nqsghDPzL5P+6ds8aGuQv6TgeoFfA0qBtjrhm7MHRqnqDF+j19ZpEFakrMP8s8jdRvQHK15Gva2G7l3oABBxAAAAZkGe9UURPC//AADYM1Z0jlgiYn+xABEHjS0Tl8nvkwiP1pkFiH/6jT1OWDgPfQs15S0eXjYZsPQF4lHRpAvnpfUMXlAomZUDFyMz56M/Ru7egDM6vOt34my88ZS8Mf3Z16eGZgA2YAAAAGABnxZqQr8AASW2EXoyclVlTWNMhYhmIAQJhVr5hInkulcav9KFOO7sI12yQDn3z0/0pjjWMJNNmWzdpQTR4EwotaRFbIG1gZLyVsIffaVUZElCAEJl61TxxM3hQEAwAbMAAACNQZsZSahBaJlMFPDf/qeEAAMjR/2vms8nT5tdOj+BU14AWmtRR75bM/rFViZ8tz9kW8L5h/AQEbYemn6kzfVQzO3rxADgNlnOftjcHodrdnY9Y/dnJpzA0Ya9nQIkRSoOCeLJoYnwgWp45+MO35Adpejz62ZXIw7anmu23d7ur/BrwgP6Gk8/Y312MAS9AAAAZgGfOGpCvwACj2AGb8+SI1JnTAIbhGhrcdUAAa65Rhbq7MMyhK5+2wC3TT8g4zkrecN0GtQbBGl1Z1yFg2OARrKuMaY3rKlYT3e6+pVO+fmWqLxUJMACdboQVxoTelCmnxBFQAApIAAAAKZBmzpJ4QpSZTAhv/6nhAADN0gkdfXCQhLv0igS6qADjHFiBeLr5PyPVKY+MEWAvn/NcFwvpOEtyk3KC8kRcmkxk+AI+tPCVlkioIuWRB3JvEVEzrdjFrTdYoZ3U0EtGZ4edKjsI7cKotHGAIT7HtY/DQyi8uFd5XfHfEhBcU2kOT/y3kBjDG4O1OpKvXjOoIbgaQZy5PKtER+W0icjiZfkN1WRMAEvAAAArEGbXEnhDomUwU0TDf/+p4QABxDi3kOBrvu6Cf4KgeDNQAOEOcZI3B6unfgQT8AF+UHZYQTkn1HDMNwIgW/8ZnQZjLyI+2/ki5uUBtgpXy0W/9dHrF9Suve/CYD22C62UquxO3sMy0LMty8F7S6e//12lgPkcDxwA5s+aAjz73S0Th2g4mJ7y9XQKcIJyE5UgXyb5wvv8vYPBrQ42lEMrd/S3ddFJpgWk/PfO4AAAAA9AZ97akK/AAXSvcwXDv0VsyoTWV6wTOob/AwARBvVJ+9KtnaBCJnsY7OY7J912aQNfN7mg/6VQFn9gACmgQAAAM5Bm31J4Q8mUwIb//6nhAAHPOH669y0hCYT9J4AS1SBndVLfkut+pKZffH95SrAlZH5EfVmiyHnhFd9fzTAw0zyxK3MclIDK10VSNcPbWhoZkvG9vFVkq69nZSl1+zmDAK/f8V73Uvj0vaYAQotP45BjZrKwDRqxDqCXXqDdkufuT/3SFxwkcc7IQa7qeV87akosuNT2GTSW6PaSFOw9VkCNgDVELULhSCA+3aW6A7s8AapVb0T3vGIlAI7pihn22mLVTWGjKGSH/Fc9CA1gQAAAHxBm55J4Q8mUwId//6plgADpJhteNiTxACVY2aw16Ruos+2FWmYuLvS9jifF9xgDHbr/z8koKi/Fznas1PALuFpbgc9IsZLmVI9GJlZWpFJOS2GS5r79nHke/ztacfM0iwxiIb/tNDrrYA9w05e9hmYSdXR0bqrzDj2rX9AAAAAvUGboEnhDyZTBRE8O//+qZYACEIrv4TR1VOOkzWGXXv6gA2kZgOCa0clvPcvNuNf4imA/k+/itTSGXhkXfg7c8GKJPFlWGajnQMqcg2BbsJdY4ZtXq4tzD0UFyD6gXUUzVkPkJWx7lHpY9uZ34GqO5FdpSC5FDbG9uVeeeuwd4iI5Sbeg+ZWFUr93MCPbwIrzsM+eeZR5U+peaNeiEDoVGXqiPsLcYY8LVKHfzSpDrG8QdrTk96JpgA9lKABowAAAFABn99qQr8ADYOh6145tJCimZuxFbCkx9BXlRTQANp7eAA25NjmXelDqL2TEHlosoeOOxY5/rd3FfPuHS7Cxhmj1HZjRfiqXeefsidtZwAPSQAAAKVBm8JJ4Q8mUwU8O//+qZYAEoUU+LNLk5cpdXkWTl9y1k6oARBr/r12Pfk6rF4dLKi6ZY7F7b7pmayDXdD5HWnQqhYOhd2rjhOvXHEm8AKfaFmBXmWzgOfnnyD6t92xMstBz1eMkA7qgPKtiFdl8Ii0jGB4QvHq2DHVKo6mbMnC4bvuNxTesNikF6C9/Hf21RI/tO43HyS/t3NXMh+6pKS4TkQjVNMAAABkAZ/hakK/AB22SVh2A0xrThyWNTkIc3rVAydh3yoRMAEQVo9bRUgmBV7sXlCLP+FwANxzftYTI+02jPObBYMNisPasmZGGFFdiVr50lOolv2Rly8FN/8lwSkT09yv1hZckgAb0QAAALtBm+RJ4Q8mUwU8N//+p4QAJaP9iXDce7KHMAAl9AOz/v0kXUyV0EzffP2IhWgMRJL5Y1zLxovxMcioLU55x8mE/7OLr7abcxszg1DmaSNDPHbhF7o43zZiZa1Mxx2GPE0l8oenhHIfKO6LjmCoFAfwF8yt71jHfytHM+BKJsTbmk/bHRon5JR+T/uflSLUhCmblk6aRGKUOBV1exPHyyy6VvKH2VjiB9X38bpQh5sBxd38f1ctYEUv688fAAAAWAGeA2pCvwAeZ9pYU9k14hjxLJo4Y1eHQAG0M7BlK3XU2JCPsCK3EsjRwuPD5C1XZLTROZmhX41wCqJbsb4NZkFfvCeB5hWQhwbqwTv4f+m+fVO28jAAwIEAAADFQZoGSeEPJlMFPDf//qeEAFYxE1PsJGBVnkNbTIxOqACdsBHwGpqCL16GJVsKpfrbJuCt5wwd+t8jpDELMUE8Z/YpaUwrWR1I51K3h/TMH7nkuFt6RI9kKbkGwnnrRZrwiruSpoY+WoXAgeGFbVAI915zurmmpW8r5J7mwqtRU1Nh7rJGQstuhL0uPCdD7lnmH5RqyipmQaJeUf5UDYfkZeBYhtcfaQz5R35Z4cBxrOliWhUVWAQtuT0gxcBe8N0C+rAAwoEAAABzAZ4lakK/AEV13L0BoRrV54mhsAsXxaQAgddn6YPteUAIciN8il5EkAb+5VhOJGhCpj3kbho3OixmhBXdsF3hlQyvPH2xjhdb+YBLa6N/Vai3N6qJsOKQh/CFpQwf7tY0z5xx18VOdpYGxtOzYUN1GAAesQAAAJ5BmihJ4Q8mUwU8N//+p4QAWHEktluax0XRs9Pgh4+AD+BFqBS8Lb36H38yUo7YeFoOPfsr4wuDOFfaSCDBwXmiNi92aZL0mf5jbiVCDMt/ltO0d4Mn3hD/hg4rxs/wmZefdPZpnK9vVlwbik5nPbFqkCvUihm6DqmTi1oXlooJh4coNTLM50rX1pulDspP2qZNk3kChYytVFimDQAG9QAAAFQBnkdqQr8AR3XPFP4rETtzC4wACAlDclXDY907yerQYBKVqwY8yHXdXiY2PCU3h9jPVdyx/JbRAtuiw1gA+xqmD/f4GJar7EoNQcEB4sVtyXYAA2oAAADNQZpJSeEPJlMCG//+p4QAWHEB8rT8k9hZ/z1AB3E0H8V3iRXQoXWUzLcNZAJdE++Y2JtXRMukw3Q1DGGfNVgmAYMJR/ErSambXf+y3Vv0d40h6JauaCQ8PXkuBBri2LunFjFP4eqwMhsPTK1IsaoYGLEKUZ563yumjdwAzDhTb4m3PEjjIfyu5fcFzpZo8Nvep5M0CkjafmJgesgu0Pmdg2LarLQTB1t6Hy+9Ep0RIbAREWVxL8JF+48ZS4PKPjOPJrKhOvhH/TdCbAAH3AAAANRBmmpJ4Q8mUwIb//6nhADHudKVnMfgZ2IxtzaLtmiwATNT2fbNCrTxEYwu7fiw0/0O4wN3W/LF4VRW+2f6MudffYgbEpVRtZADjZkp+ljw/JhISdMiP4bNN70taVYUbpEkzGHKC8rB4zh2K1QcGgkVQf2oBcmp2y1dBM3gDLK2zBI9u53BoXPIACEroyIwygm29dunjE/m2hiQ1kxdG2dPLcWYnGrNorPzoQTx8G1nhjDVuc5MmdYiwuKqRFHjwi+q8F6r+rJ1F2TUKL3ZrIWK7AAJWQAAALlBmotJ4Q8mUwIb//6nhADHudKFhvDDWgAXRWj81K1Zsc5Vf4sDGUbRrNPzY7jYOcLjYcRcrn0oRNeH0eyhIaqgdLs/uvrFug7fYX1C4a2ZqGDU7rjr+R/9ExdLLsR6pI1Kc3rRoMrG8xMN6mW/Bs4HbRlYcQx52/HjBZ6Xfg+IOcf5S5EJdTHb237IaKngj5V0lTOwy1zKUtSLmajdZWSpDoQNNUlM3wl8/ZdRmgz4jI4rxWCrauX6QAAAAM9BmqxJ4Q8mUwIb//6nhADMudKVobnlDXg8maIAgA16YK25s3q/4OaOQ9svZLPFU4A/KDPbaRO5dI+yqRCi//Xex64o6mmeJWUST4KgBH2mKF2ZoDFO9Y0OGofgNmiTBZQH20/HJBZ+3yn5mahOzN0xPUCR1nNxBn3GlWWl79bUsW8rDeX5vLL9hiJucx0ICYH2+EgJDetGAMxAkPHDw52YfyGN/hvcBDXVQZuYPYs65WOmwNXj6OEMKT4jnThlYgJHGpvK6SJFEPqBe9zFZmgAAAC+QZrOSeEPJlMFETw3//6nhAJBFAlbdCqD8pyMWbTWtdb4En/nX8wAbpJhVNZ6HA67BNOf7fBkQJoH3NlwT0ve6caS7QT7hZOKCtcu7RM5dW+oGKqnBPm5VlT8sItV4/4WyFFDlq3LxY/GKgP4pJ2w7QJGxw/rzhpJGlECG/Pys+x0v09777CiUbrbPcaTJ3wTogKhHM6/qi7VMBaHPhdOo1kpF5rai26OzOMlMyVywtDtZgYl1yWMtktbQgACHwAAAIsBnu1qQr8Bf2WdiVszKbDO4Uuq6qExolxTqZkgBKw6deTPJVX4AYOyPGRHSH4iHgRLwVxwG4Y/qgSHr3iYnlai4s0eY+J1RuNjdyGZp2Hj2Cb0Q8nOq0n4VnKT7WuLQNW93dwHIGeDd5xUXrP+T42aS/h1Yli5TQz2cbIFIn/OZUuLolyNaoEQAApJAAAA3kGa8EnhDyZTBTw3//6nhAJhFAlbc2QA/EbGPLjIgDcuIgAiDobhnQHToxddnBVQuMNHJml95rHpNg7DzmqFSJ5egLvbBmj2o+e7x1Q/2eOlBrTnMHXg3WQ0DhW21LhCSf2tr2OrDkJhZX9+R/Wufuhw2XVegwdmYGL7/En3ogYxO7Cj8dQ0qqoLY53GNwE5oY+aVwTPjePgTcLBJy6y7oNHEJKGpqUHrnn7Lfw7fZOnleVAAyqJ8vuWmWTBdB8mt/3MGDCV22Iq93Rk1U6ouwVsvh+mUcGFZjWY3VzygQAAAGwBnw9qQr8BiWWdiWQyfKUXtKsTNw/CS8DJE1juAi8qc9xGPWaACGwrLKxVt1eu9RchTiPm60iAwkDrW7wTi/dIti68INddEucxHb4SX9VjXf/u5/wWtoQXgN5Q+uuh8HCNSDTU4h3jkoAAfMAAAADVQZsRSeEPJlMCG//+p4UUa5Thlcc4lTgd0mJWQxQTEACG/Aa3ZLTCEflQ9yUNaVWLe8ZRIzbaSnH7dPjlosYlu97xfKz5qIhwtrtPz3O971cyini9psB4BPo5MszSztwc2cxFUocahG5n4vsiJId9tD14zCB2oT5gUaoLWHBPqlgJiB0ImK8rAqPjV+IiBpgrCGqipLHCoCLpvDdmyfyhcLZqohEvZ2KgBU7+XkNjh1ykdhywKGSiHuBW8JIEFf+W1cdn+s8BfzTbH8F+fR3XyYt/YjUQAAAAj0GbMknhDyZTAhv//qeFFGuU4ZifvZ2LguO+6XkhCB2sqvFIALpNWUKYlfCwDh2EA6OAPiFgi1/9wnrvLgFWKGrOgr/Td9M21U70kCGqlUjWh7BBr0zjT4ASSgylpzSHvOFQ+97q7a3AlxVLyVSdAge11K6U6uvEb2CRNJL1b9oAm3oenUXaK/W64XlzH2+/AAAAxEGbU0nhDyZTAhv//qeFfEksR+auXEzM9twsCOuR6hGIGxwJevBl8jmKvABnBq2fE0Y8iX7B+1QIEH/4ivH9b/qOgi9/B1qofxyP3Ks088NnldcuSRFhClsk3yZkcrZezreN+ZoKW4aLoOUc8E9vDiF3e+6lxinzi5myTItTTj3jGb4Z5HuSbFeVPjuVl5ud+zOueTR+XnmRpDc8uFK29sI/G9NK7JjhKzlGyCVkZYQzaKuf7YMncmPQW+q84XYcZbIN2EwAAADTQZt0SeEPJlMCG//+p4V4aTMOYkcIh+5AA66Hr+uOOj2XRIqkUBUgTHTO7MDbhW1eQF36YSFWAtT+TeoBU+SuZdKSpNCR5uNuxAthBgD3s7qRVQJb8w7470m7lulm9N8FtAoVWYVOAp834wRNK+WVf6fkvUMC8mTr26zopzkqNFuXsy1iJAZcFU7D36vlW/EH3WMPcIXtCoDkK+M1g/HG3BicuK/c9PmTUlfUx8ToZ97s6pPbxJc8+Hzy9vCzjhCVbg5uWQ8y5GtC9MFKtBGW26cjjAAAAK9Bm5VJ4Q8mUwIb//6nhhXkDyy/lle0Q1ACEETN+Qf0NrEpoKU1dtl75ANjItkYDLB6RqmSWOuJDgCl613Ffg+6pd9/bnEVyhMLwQJP0OEfBaS7cuFTVs7cWwn/VAJb1BqV7cgOeDKyjmWteG7Zyb0WVavWKuQ3Lo1Mi+tHrV1Bnt77sZjIMrtaP6PzfkrbE5bhOrxE3kRTwrrkLyWMpIgRcK8bemgcf2f5W5Zgkj4RAAAAqUGbtknhDyZTAhv//qeGGq0flDQ+tEGkHeGimUAFyS9uxDRk2nFp3+YOl9hAoPj/4FWorSPZNWGYOsg0LDwnk2jluoSFBUUlQSj/jUYLpM9IDdLpjWzLu9GzeM+92vZF+nWuPjxQ90bYW7m5g9VzyNOqfEZO8dqb6tG62MWg0iSf/i2bpHItLmNKVDfZfsY+C92E7TN3YndMTKPVNRG9FxjSkfImnc8R65EAAAEoQZvYSeEPJlMFETw3//6nhw65PK8VDgBCdazX/w4G+mV681GU0BmMlGZgLIQe6EsEdQYn2fGXteZvVO38fC0j3TvbzQF6Y+RZYXHykuRg6b4yhwD6Ss+AyC6zteeMt4WEToOgWccCcEycPJpbORLUNqTMsmqf9nYGdUtfmVTQeHF0cpWeZR6iqT2HQ8wbB8UiSx7AY30xOeTIiZb3Y7xQ4mRkyx49rgmN7YsdasbdPZKf/nBhT8RQ/xJJ7rN7cKzr8qvxpZXjA/mve7Zfs1HI8iLbWhCs9cwfdZ9t+jfKS42rtkk3/dFlrbLnnxPkAAI129uSIP2ZRekG2ocFFb5nqhLvqkoKPXaYWyBBVKZ9srZK79RxdI19XiislrfT+bQQLAIDhJNjbpkAAACAAZ/3akK/CJGF0Am0x9NK18ALXAJWlcwe8gDsXvllRB9cO0ZRYbr1z9AlOEQfeSxyMhi9Y3V8EeMf+QHYCMQJw129WWtflWzuVFsQpr1Muw/iLcsBieuY2Md/71jRWku+enM78eEvSenqfqnB8zuKa7Vs8QXMUUSf3Md5KwAAEHEAAACmQZv5SeEPJlMCG//+p4cDxk6JEJHAH1Y3ABkE/Q5PRUPi8gwaPVesmrMbGoWfo3pk1zuxS0b84J9CidJuQ/OerO35yR/ovv1Ly61hHTRyE1b2Oa3idKnnT8bWSk/EucMvthlboYlW3C/L9xQy2VgTd2OLfe7Zuu1Tc1Kv6V1Ufh4L0ptvRjPFf7dA5Jx8y+ea2kFZdtLw+6J9KlIaheYF2S1zFzE8oAAAAKtBmhpJ4Q8mUwIb//6niprlxAv8EtAeJrQuB3f7amXVHX3tGac2QP7wkmuowwcpZm95JQnRi0FX85V9G+Yl2F8DcYkUOb0AfWPKWsoHEAjiYPXSGgAItdT7xBcT779pSh1+HFDX+nNQVqe8WG7C7HzFcLgnO0FUHXqayEwAE0yA07/ojO3u2olRhG2quCzgmk+/D80LPLco4gaJu4sUv8slI/75LAXQrW+U/fkAAADQQZo7SeEPJlMCG//+p4hT09kC4+kAHOXFNGskSRHkg6flgZHIZ2TDZO5iE3WRnk8kBAc3xt/XIJzgSGp/QTWCHYDUONJbRTBt/wDAlbHf2TJY6aMgIBB8POXIZz3EXZVI8hqaCk2oI2ykYUekAlYijZ3H1wapp44LFQAI6ci2pE5i6KnV3IR3Fo34uUyzMOjDPC+/cawV9Q+9e+7WRc753yDlfvVrKUfkPUtWMUtU83m+CHIR4RS00iLwUGOL3fgDrUIpXuniEXMvWSUuqeeP6gAAANdBmlxJ4Q8mUwIb//6niprlxEKMvFzNOpKhqcbo5Jnahj06mtDrqvihbgtbzy9Gtr++l0EK/2gWlSGLT1zFVBZzhg9CsQhGi1Y5/9sXXKnjqmStekTap4W4bhi6SPqb6fyF8UJtlZrQrLgd6ycBK3FX3woYZ1xjBcI9AE9eIwFKNjByNdF3IANBLI921RlyKuDXf/A7HKfEmf6kGPwv/kj6nB0iiOkgYsixq/FkacAXQvCW1qRbMqtqfO2xBUF3vv10JSuSuzDZ7hB+cdshP7jr7rx/B18rwQAAANtBmn1J4Q8mUwIb//6niydDLNlmt8z3bIAHaWhFcrVyxlYEAH3Vucoi83rQfuUdLl44FwnATpOJvh36JWe4/EiPBmeGnFoluuMmtG/ezzTuHKXcDTVhPrGal337NykwPl1FlTRk6+BXv+zB/4peeW765QEASgYkXbpDVOYpOrXrmF/MUVKlpbtEe+LKyKXWe+7WoUZB97uSGATnvha5DzfVQ6WsWq6/YXpyAHLvnTukbYYbAU/+3ifxaEhN52cS5Buq6dGO/5yjyrf8ZoCgUACeaMo9YOQU6C6a/V0AAADkQZqeSeEPJlMCG//+p4snPfdEpfsq/gApRy/bYeOSD889PcEdosQDwBqAbjEM/ZRyeZyTfG75WhKaUry+H4eda5JbgzaKk+pojq2cRHIWqsdGcjhsCR+5pwdrU0S+Zcl0Md5iCMDohKILxEGl5VqMvQO6HompiVygXMBMIxuaFA+S+Abl7m/xvGaE9jD9+wsEsHDxJ0mnEUXP5i9jjI97tqICTwmLvx/fU1jKusGIlND35lvxkTlR+Cm6dplAyp+B8jCD+rbeHsT3gqQ1RaXDbNNmwBo1B8dcdZWegq6s9fMLW6BQAAAA1EGav0nhDyZTAhv//qeLJz33RDUV7wCKXVnjgAqOhpcnkvKapkqaBmjkZ1NCfWQFSMjzVOXVT2/WSM/R0LUtsmh9KfMHxABwCSRW8LhccSwNYlJmiuVtdDdjTEjZRQwHvOS3vLT9lXLzkjT6DeO/ufgsoVftoNH+Dc0skKja9sEAiPe4PVdy8dPRpPt77tqILDB1av//x7JWhwUE4cbNE3zXMRe1dFluj3nbekIG6s8l1Bcubr+JkWF2IARrv/G+ZCSYLEa0oruaTmDlh88PSDIKY4ugAAAA+0GawEnhDyZTAhv//qeOTKtIF/j7++Se8628e487YULP6dggKzEtqwG+QzP8LAONTsSEArJALLFwCXbN/BCuUPTEb25v16D3tFeJPkTko90SCVAlKWMmtfwOK7KP0U2LdxMDZP2abymEM3qoLmFsMgFIXEjyGziFpkeC5AekBsC/KWEp0tB3++hResPRccNFbPmAASIZM/O8pNHs8DGICHC9/cQUtzMwyJl6Mwp7RyVa1o4ccUwa7M5Pj46M0e+7WleYE0EGL11DXV43/D6ViyTd+4lW4OVGn4LMI7Jw4erl73HNjNfkgkpNTUamXw1mpg43zpwkiHCNEXAdAAABB0Ga4UnhDyZTAhv//qeLIr9PHV+QALsHx99RsB7Haub7lrIP4qcAI9olo2ZJn3IYyENUPeVpVU7C2aR2q1CWc31FxV4ctfnlJkyGAiQDBF/RMsYx/AuCfSOOKawe4WfCHeQL4/MQDohC2+9AWgIlYfr1AcGKBWWeIAAWBe5rDn1jfPS1y2wBInH6eZmR9IEEtf8vfW2aJRQOGx8vXAmR5pg9DvPPGTlB12orAtU9IifsxAsGHu+xO2MAg22XWnj5JulpLni48OVnJuoJKL3Ug3gc992tKyGH/NDCv6YtjFjVqU6SViCP2tdziTvbPqQIo0PX/5/rIxZbOXno6HObJESF+cVWzGDAAAABDkGbAknhDyZTAhv//qeUcVaQHlYoZPgy6hWbIzlcPLJ4ZdeUZiQsEMiggy2jjx6hhgCDBczw6wB18lQUgiaMpZbtxKXNetxd5F2dBZaMU02WDNWJ8TKwO56AzSZzu0P0KucsG8J6IzVBCOOP/TDkh4N02pDkXYhzlVPvrugABa8OdOoH4mpKWB4tI7JuuPATindEN8VXk3zBPtvsrT3OSLa+Mu39l4/kOZzOmhvdbABEmSblLDL6ueWDcrrNXdtqEu46HRC7mkNUjBAQRJ+RfkjqGlAXWfouJO1BnHOtuT0uKRtl2IpObe8O+5HSTX09t+p24q40bhiKouluYdNRDEncgEmh2sJr0pkejxxobwAAAQdBmyNJ4Q8mUwIb//6njwmZ47ZngAqT3mb8KpZDjf/Py9jL6joV9txslYfo+X7hhfMlR/KBTaVgJXwPHww+mTciVuTY49hizxjncGAGFs3/Y4Z0m1jW3A4B5rxEDWpPMvDk9iFryQDicwW1VSuuD4rZi4A3Q7Xvc8AaIh/AZnC6FsOcdKsoFPk++UbGNe52Fno7WuxcEJ0qw6LtMEVY68+mgkMHNlxYtEihnqbbL0ZL/t+n6NIAJSJ+IjqG5PTFrn1RODMuIMiYeh21wvgwyNt2G3XbMCwp3+DXz1Pn+Dtbbvp1RAM0dZI3jKcPL1kaNyr1NaRHWxFzK0yOnGey6eqRZajFHsKFsAAAAPRBm0RJ4Q8mUwIb//6njhv6LdzO33sbiACl/QANHRr13+wdRnMqOSgVPD1e7S1hM8AQy2aHmXVnkT/8wDBYWfJwt+VUNa/C4U3oh0Bn5AqKWcQ6pxtj3b/CKRMO1vvsuzJtbyGO4k40tCZrT0IE0bV/iVz6a4Y9gxFEx0wQAY3cHr0OR0BZH1Hh+F/GOSvIY+73ROCuQvCxvzmB+LERewRSKzIHxs07Pdj3ttBP7Lpr6YkC3KNUEzdawsB9nKvNFjuqUdYBBrtqi38a2yc11ElFz+LQfG7yq1oB41OOSc9cGhvcno3ynSqwoQ5ff9SHKPDpi9GTAAAA40GbZUnhDyZTAhv//qeUkE80EBXM98IeNzeK1mv707umPDgcHbQhdROS+C+yxw1Gin0IrmWA2pWBVHJv1fBdSGggoQ3Nup56KPrOdTiVT8p0Tg/HSeSwIOzXTeEgA4oOTwgurIigt21gtqmgzsf7CdGyWxoPVwMRECD19uflSk3fFKNxuOcU3gviMKubh1+A954r3yP4R3SJ8CMNyuQaYEiN2bC2fskEVhx6q/BdR9RY3Pa+8qRl7LViZGYqdMWk0IQUDono4XG8tXB41rewWS2xg3Jb2qVyKaMTVaw2B7ldj1hXAAAAvkGbhknhDyZTAh3//qmmb84AJ+4gToyvCRxS+TRCaHAe233+aoEnCwV1KFDDXFzAhY6WcpUyhS2Fq/uKZxaH7Xw/QiJTkorbbd4ej/AXov2D7eB8pBiL+r0X6xMuW8RgOGUbEkdqkchH7APwczDfYge+qckazJ9Wvzg3hFH5EZMQX5K2LOL17/Q0ObBnKzLRJ3O9TGvlKxPQXnDsBW+CHL+twxs0gHATEU3jGX9SS7DxqlUSxUHH8ekP6MnyRGEAAADvQZuoSeEPJlMFETw7//6plgInHa1QSQQAMx6DAtv+ppOmXlZSH4YskiNHfSehkWXZNhO8tQGmhZCvY02U3BzOUtKmatmb1Qhf6L3jaKZoPWme7yTv3w/2t+dCQisL7zcY30tmYCfoCyVqBxo9zppf28+P1x1jlYWlDhIBLudqPwok09QhYo8qRJ+P+hVu7e63SAlggzfCKx/MLoOCVWTwW85ZlhD0rkTTt9+wXIDxTMbRZJdv+g4DBJaIvMyhKlOQa7nQvPitpHr6ZegKZf9Fum9HzG4qEFQ2uobX5K6/hxbJ4gHty53Jv64sJfoOx+kAAACbAZ/HakK/Adx9wa9NzsV3jACaB+w+DmblP3zdotoMbTrhoWD21QFDht9j06mmhwuXMPvSVyswMus6r4E8uk6vfqYim0rNeVQD8GT2NFLY6VmaPv586aAJiVeeyjW1/oqo28u5ucy+RTeHMY4GUOY9IS55kpBNGO1Xr2Bd1lBXf/xuyhLE+Co2ZiaI6pHl8Nd9rOY2AAADANxN2/AAAAExQZvMSeEPJlMCG//+p4QEStOdK6bhP4AE7e0B68nTWuoDY72U3rHP/JOYuxKXiPa9tSOKE4jJi/Cu5qwUre2etvDNr007y8u3MElKdQkqqlpg5dJLn9xci0iZ0jJjJgkEgL7puU/uyPA/S0DSWbhsIWhqo9RMPxC6Nrqn4pzu7rb3/1wfjIBKN2+XkQfICXVZb91ROwrqvwi0jq3O4jbe+Ji2sYGbN0i1L3pMhJmPIVTPM0oHkycrZP1JP39ZsgjBZco48zYgco6q/P4GD+5rfONtD4AkrTjeiDuwWZig33ucqWgME6ovxdQE01OUrT10a5yCfyUg8NEubSsUJoiymbfxr0I7+zIQ6JHo+F3hGw/2lO7o0TmldmN80K2Ju3UP/F4fmbR52hoZxbZXyOXUl4AAAACPQZ/qRRE8M/8BAlBViH4Q/7C3fMQ6F0AHLPM2duhFU4G8sqeh0gAj5ptXMDOoebrKSRXCW9WeseYc5X1VxbCxzPzxRuzegsJi2MUyPM5XD3Hw3FycqX5HXt3Ism7RqatDMPQ70NziLOkkeWkD4RonS+7cqtKtrKf47Ecl3Iho85Qvb90gq9tqNw3jMAAABlUAAACCAZ4JdEK/Ad7laaoXFZLxrAAfzvbOSsg3RvJ5044B2UtI46iaqJzmDRq8zT8Rz+UJMWjazABbcya6RTfqImCx9r+IXBmC7rEI+UW4hgcDeFFlICXKBEFvQZV26/v1Wj4ajDN7dMwlDiy8xWjf5SiGwwoafTtPFhsixvMtF63QAAAHhAAAAGsBngtqQr8B3qwnYq+rP8oP9TlCpO8NFp/KACH58lbU+YPMySs7KcQBsFnp9alx8XkT9tGgy9dhSPFxcJiBjG63+1R8t14/acZJ6G1ANbk7TEnjU/ze/qIcLj3QSmhdFbtBcOYOYR7AAAAM+AAAANNBmg5JqEFomUwU8N/+p4QD7wm7WTd9/eTjn4K82elZ7vMsABoxXO37iDDEwu2tva3AAb+mUtkkTdKnEMpHNzthJmlzTWp/sv4zgK07ttrD3cSGZdvZpHyOpXxaygKQT085r3hDnLsAdqtsqscCBDS+g4/in1t+tr2WiNsyxdYGs2JbKkvE0+4m/VtC9nR4aOILMYyPip4Y5yBGQfdZi/Jo2RCDI3b94vi63h6sqdfX9FmdLfJhMo34tfvm8WlfTqr0z6JfSFS29GUaoXf6GIRKhz6BAAAAfwGeLWpCvwHehIDxObn10t6/S7QzJmePAAaraMFXWTj7hvYmXQNoCVGdrw76VUVNF1XgAiWbIyiL6eTwfm2BB3TZtD5KWsvcwb9SBlMDCnrBu9EhNmV7EbUaB84KAuF65awH9q6tgIOT5Nt2QHDNbATEXt4qgq/axkGwAAADA38AAADBQZovSeEKUmUwIb/+p4QBBU2sCnyAYMQADODTdXz8DqD7927xhI+UsEDWJnImm+A3l9KBU/fSrvFfquymeRbAhX3M5x8RJX+gJxhRa7kE0QeM2J4JEK6I6JIb/3NFKE9uxKcziGdDYkUxui95C/fFipt1ZsW8TaItEuLfW9KFZvQXN9D5PimNrg08hCWZbuzIpbT4GH3gV+mj5gSBKK4B/xrxGU2BSFO4b2+S8KHamymKe0ZPnM58VupNB/yHe//T6QAAAMBBmlBJ4Q6JlMCHf/6plgCM9W8h8RFy0tImoAC6l1HtMxv4Nr27hbKo7oeDklrvK9KJjmTEtkTY0hj2o58zl3d3gbc9rAbiC/gygjlEn/Au/3XusoTYQp19u/p8BM5ss50W6upexeuvAGd5NggXUhJjFAIrRkU7NWqlDRGCIi3capqL/+5u9UqkS+MtS9b3ymP5X9gSXxsdm5aOqmu0jSHSE+NFV0q3B8ah7ojCP6qLCUnUp9CJQzNaLUt2f/lMd9wAAACmQZpySeEPJlMFETw7//6plgCE/I7QSiXjHav1gBCmTQsH/QIhDZ76EA8UfPwmN26TKBiLbIWfZI+l1DM3F6062yXTNfURr8kXGaqW+bzfU1j6H3NOArIzE/KjztGV/fTgvLZJdk0ckyOKRTzshTJLaCXBQBt7OPs9usgMJhQZ9WPeKOiCfYYAJscwus0+7z4SAd0e96uA8B73tVNnlmjxGAeQYfJ8HQAAAFsBnpFqQr8A3IJH4WI3GBjAFHJYqWS9oANqGJc94WgznMCtprVSQvphQLJnkeyDRrdEKQQqa89OrHYL+1aucvE6WhezC+xW3oQop6gRjGR7yTNJDuzisYAAAG9BAAAA2EGalEnhDyZTBTw7//6plgA+vF+fZFDB5wAiIAC4VeqbVEhseHeH0UvprxSSlnkxxNaMBrAMETpPoHqBXqqdQkHjg7X55kWlHSsU7COeMf/as9+NHw1iLoUHYRV0F0JAqJB3oyqei6qvTQxsY7hNlnmRYx0ePbxk7q6rBJw020VT+OXZr8ADwfRXcLiMgdW8EZZxHK5nMZ0Ji+hwitFX/1FuOczfY+nxq5uvyYkMYiURndxr06BGjd+QXtI1g+1UUC+JEd92hcaKxN1ZDoiYDTUYiBoMxikhQAAAAF4BnrNqQr8AZxmHvmLYARkdyVpyXRK4aQX7N9NLdNb/2rLjHKcL9c8/kF2VXerhz2og7xw2EKBuJb9Izk4UurUuP0dFgQnGCmGmnhlcMk5MPNLS7e1xIZngAAADAN+AAAABEkGatknhDyZTBTw3//6nhAB5/W9OPLE6+Ey9HPP9wAfvgwPTgl7tdN8+PsV34q5NmOCmT2PdN199xQ2frpK9bQELwE1EdSCufDAEFR0TLFQS+FBrIifrZMgobgIoT5+1JIVlNM2EKI/COSouJ2H3CdvatehgUcBvUw9MahcqbqMwoZTIDAF7OrWjLF/Fl1cMu+Cx/a0Kz3o7qCOGFtST988Nn1HedmE5/ucGa7ilOGb9YJmLsntSHjoqcpcGiXoNLejfOIgOPBUH4l1RfDsIUbVozSLPihCDzZALVOZx2iBA365g3BH5UKkL8JR3ng9oCxqrVPFnWDGlEEPn8VZ6CgIe3+1jd8wJ0hTkr3gs94oSxeEAAAB6AZ7VakK/AGcBI/CxG59BbWGknrodsY92gAh5gzGrWcqWg5ECBujGmtv2H/1lNUujCXOGekc0UwQF3T8b82pNkJIbcClprUb9n+BMVPX+zT0vdA5K7QHZnzr1jPrSfXevLSsjra5T/5rGVXOTnuS7vIH+h7ebVAAACBgAAADBQZrYSeEPJlMFPDf//qeEADucJ5V4q7HuwayMzla1iADmzi8YWNnaCnpKxEWqFlHuoTc8mw7xJi5aR/1Jws2inp4Hf1RR4ybcIxcUCVi7R5yRYKPV7+RMzG13puA/Pf15pDIb2jL6g1RYfkJynoSI3tXuXyd5bRo2NchiCIbgpzQEhG5Tey2i8b90D2zUNHItl0ofGXiAykK8DZOjqnzlGPylY7EBSEBIsQHnLOJemkISqM6SdbQbVkj5G9SvKdEbaQAAAG8BnvdqQr8AMQPpWjyccDkFu+pABDdahx6piZqxhS2SUBgBqL4yAxEd43H4KsIX3v342BmARUyHYrQ53ugTDFdp+Fxi+PsLgyVar3R14Z5Hrxbc7dYD1oVKM9+26xfS8KWdmaOhMFcys4UXgAAALSEAAACqQZr5SeEPJlMCG//+p4QAOj/Q5OJuN/HQLpPYYFH4Z1zSDaNVUrGejpAAOxG8dSCKDcGNNBc8tYaAOQ5NfnHFTuXDk3ayxD1xqHc24fJYeUdlgRllE8kmIupM+XhXh9PCiPyAWePMrE+WvuCUk3ZQLInN112NZdTBj/DXLJGDTaxdfshjuHqwvMFoYxVeCSxtDvgAA48bd6JY4pVVRdr+nzIFk43ddcXjwsAAAAD7QZsbSeEPJlMFETw3//6nhAA6PsqLJl4cRJxZha4TwAmrsWAywnRelerbvyjbh5F995upWkQvSYP3xC300rqOr5NGxLF5Rsrj+dUQ/OJE3K+yk9cpeQYHN6JMQipojqpQHZWpp+5+RLv4iR8w902LEJxUkXtc9uhJfJI71OaeY9x3YKQhTEkzIn7ZiFfS9aGU25afgJuXqpc4mcoqtqdYMbf2AC7TWmZA5eMUgiTf0KPMFz1h4oGN9Rmm1dqPQoVdCXa6ennLurRVrEqneIrXfOL68aPnbyQhk8VgYzN0lsB2DbeNojLCAwpMXBF/merqt/ks5JkbJBUi0MUAAAByAZ86akK/ABa6SL+YsZjJSKEsNP4umg4yyaQAQv5wbI+SKvTk8ozKl1Ceh2XSBh2L68TOBCxGM8RkRW6DmJ8Du5PeUqgHY86NeGAKnWGVeiDTVomuO0Sx0Stp1yUXi1MOlAZe5Q6lLxkHossbnIAAAAm4AAAAsEGbPEnhDyZTAhv//qeEABu+E8rUbAUzOEAG1ORaBwC3jHimJTQ4N5i9sLd4UB0xjOU/1ANhRXqb4uyuulm4zk7mAmPeqPn6c6sgMHDNHy/s5dnq/uHPp/EmJddYXt1ne1FFhehjmEq2SgbE5BoyPeJ6exDJqg8JPvM+CciFBBxl//owPkONETV9YoOTe5iUki/q85h1Khsda59h+SRZE30z2lCVKHS/GSHkYY+pqT6BAAAA1EGbXknhDyZTBRE8N//+p4QAGx/ofecCjFMwY1NTKHxkPlvDdn0lDgEA4IALvten7XZvXX+x+eQHtppRtB/8cvcvPiPD7r02VJLExmtDBNdzTvTcFQBLNVbCfwL6JPd21UV8U+ppxud5ktGBVkg922yC0a/Adl1+CPSEdRGWJW2RXuAnlzKEMfXA/e6Pkce4hztjESHSrbPzAJj+gjoZvzc7XGiMFfuP5uZFP7InvxX5FQHV7Q1eNX/Z2A4fGyu2mNwKgfH4B+GNolWzMxhJxDm7RUkJAAAAXQGffWpCvwAWH5YPuUNMJzW3XleIazbqhGgAbSCbdyKm75LW/9bciUAwatlyrqctOJsJLHY8Jn8nmcFGpTNrWmz83fcfCuIKx4eBiurPGB5dhKve1GatNolYAABgQAAAAQdBm39J4Q8mUwIb//6nhAAbHhPNGol4EogaAFunwToiqcYHscaIzQVffflXFh9EybmVgaO2qdpYkYjFAhNe6FnIyvdxc7M8m2XXFPmjB3hF5806Sko9IRhgQSosGOsWvOHnNDKiv7wvoBWL8356NRitKjrR0ebAF+uQGLtVACHrIsyabm+LcqMYW94FTY16pcQhVyYzPxE1+U8er0kSZaWXftNaW+UFfLKd0XSGerENtR9OUsJvU0BbA9pgzvx0O/ZHPMVf1JphD1DpR9vdw6Rkh/KvZIRifZn9yw5j+RAsAuCU9hVLrUl3t6EW29MlmcPW1BwExzmlaBhIcBcMIPiQo+z0ihHr3AAAARpBm4FJ4Q8mUwURPDf//qeEABu+E80ZpFkHRICAC05F/UsMKxOX8MFfmVtCbdqmIRrykLZNXFlLsNZb4w1DWhoxcN52DNfTcTwo1bxdEcMfWe5dvre9b0RoGC5TvvtkZlW/E3JZYJrJY6lgs1equtWd/YA102VUlEeYKlYPTx5tMekXjBaoq+rNcr0vdv+DUpyL+qQv8sdsjf7OgRnryIV5t4gfaNzimXVQg3WJf4hTAQl8pG2m5kuiqPHWHfmS6NWeDXpDmkBMYkgke7nN4uCU1KAREKNNNlkoasIc3xerKCm6xm5izoACemkWDTseLzdpynfA3LYbNl5C2SbJ8cjtt+8mFeM5w1XMoNbAlk0A0TVUlMlmH/CX5KEAAACVAZ+gakK/AAo+FnywATjqh5hgl1bY1Wc94eAyMpjYSIX/L2yuDD4zYhnDRWJxWCOn4Oud7Clfm8svLw0l3m/OTY/NCGpP4Xe8AKeeP1zapUEg06u30RCe5/5OMxyS3GLiGOEMveQGYH9kSdYAnhn6YOG/zc63pdpAUsUsTLgrNORo8Y9F4zqKn6btywyDU/gb7YAABwQAAAEBQZuiSeEPJlMCG//+p4QADImuqVQlBEAG1CIcrXIdrXCiTb1z+ysglOgueLhsFUxoTxfD1xMlsK7XlEBgPnH3acalJ9xpuaOLSShczRoo/ls4EHVLoTkP7QtPZziCMUZp68H23ubYaq37TkiHQkD+appktMjxpYOVGGXYdbssero0VmS3wgHaEg4/KWWrUoSBFzqGoO7fhhF89u72mitszgNsDKOxwTGrvyRjTrnAcMKjwyBuD6bD3CajLAJ5OoprXbOAc4IPSEXVs5aVfYWuJR6ymxZmFqKNYMv2jzcC5tEXC6Xogx0DWmU6MRL2lSCly6NfFuB5LC7TxDpu/6HCbe8AAADiQZvDSeEPJlMCG//+p4QADInDOT4p+uAIlPt5X9gK9SFshnNxGG8TRlWkI9ZklQzG/4dOvzLn+xCpvMl6C+wc/hRTH8CGVIg54YKO+D6sHryqO5duOc126BVdlYgcT8Grvk7R7C+vouNZMKEoaA5OZ45zdepByIp8v0iFR9NBR14uyhm4sUD92bvGCRpqG5vJTooA7UUeS8xjiSK5G9awJnoJOSyln8DNzcOa4RPvGN9QJyzAzJYBDKTxAoZvsiuvdYAj/o5mfe++vCO0rZZu0AOaA1DU+/qASCdlATDWRQEgCAAAAPJBm+RJ4Q8mUwIb//6nhAAMibkDJOKCIARMzzC18kXvmqIEp385Kiko+erQPwOrJL7oanXfBqIvJI7bt0RqEBGZGUzFsryCzRc4hzhQGFkHOZAo8ITwcBrIKVuVYf/d/eWtmuC3AEvu6nsOFHakZiyg260wSg7vyYdfqGc9Ii/scR4ucLseZPO34LRO0EsHQyR1jS+LFqUYIN0rcIv5uCJN0ndcQkv/iMdLP8yB0gIx+dBxQIRvTN4Gu+Dpf+nq6b8jOHjFuW/Q06IFeH+/Rkgtf4Jd+Rpju/duuiHhqXG5l1i4H/7gXNhtf3gL4P7pD+FTgQAAAL5BmgVJ4Q8mUwIb//6nhAAMlwVd+MEAIyqBIymkAuiAF69YmAIEwJfHyHhmv4Dg1iSiuh48Z0HvsxzP7+evzUPao6uG2b5tU1iIuBtMQ8DDLFtljvBazw2dv/H4c+FIXJpgXXSVyUIbl02Ns/UwUvq34NbPvOJP+XCWPzG/TZIv+qspRqnYo7Fwa8ZUy86MDtRtgDnFmqC2qZ/sBQvG73B0yO8lVQYDdUAh4trulFUV7Namhy19B/dJXJHUAAXtAAAAt0GaJknhDyZTAhv//qeEAAWM9YjjHUAFz+lYhoHBAjsgJWtBNr8FeL11julF8OCnAjzfCJ6l6CEq8RFSM3qnplDYzvhNZbk5f7/96jIuWcHvIXHkryafYZPjmDlzrM06Wz9Rpi1+NbsZAidd5gXQYIVNPZ2Nv5eO3Ix/Cvng8HfWgYo/jnAdWezNU4Z4gorhkVk7PX3zb0xvTIDJGMykU4FqVqfF+3WShmhhKmGevesRs7mAJczNxQAAAK9BmkdJ4Q8mUwIb//6nhAAFjPDrUTrQA31dNGZ6QoL+cRNXQx8RZUDqEyzed4va7n58xcEfOzceGM6DfZXOtrn8SYyyIUS6qyir0t0nUyH2djTQ5vHmcEt/LQLvtBIoFjCgdiWdsBO9hh0ip//B3cTzcbbx9FXTOJiEfzxUjXztNIS/K0+9fkD9bJb8TCc7fspbin35uWGV0W23W1k5gXIkW5tO/YvqMQivxRpdESOxAAAAlkGaaEnhDyZTAhv//qeEAAWM8edQnx3PmG0AOAx5PW0dv5wT0SP4iAtJB/pBlMjOVj9TwpuzIlL8j8QORWM26ZsrY+L8dz/ydYGnYS513n5Zv+v5vtW+IvHEaF41vVRosXXH2ENk5N2mh/H4XEOXWdJqQHNDY/+UE81OHb3/0T+mCqUjHsJDumEBdqkhksQvEjPAX0RskAAAANhBmolJ4Q8mUwIb//6nhAAMia5S7IggA43vM5XvcfLIRP6qBX1w0/fvM6/VGucLITr1vfZglWGT9SiTY8Z3h7lUE/crdjC2Cfjj6wIyPyolKGfCZ2KJCemWrNai5okjsLlB5lu5fRc9zU5WhI+jNtf1WL1M+4LgKnKBLvevC3gPiizhj9qmnU16Mc70FBJrjpANLJ631F6pDqlYJAx5RdAjrXVIdqJqrwhVDivmoQaO71+Fa3+rB/pTcdZnxhqza/U03VXLzIQcnenFWl0X2i4NTVAso62RcUAAAAB/QZqqSeEPJlMCG//+p4QAAmp/sJ+3BgMDMOwgfzGACVbqaes+0kiUISTuRv/QdjWw3FEkU/JAjp5EQ/DPzsTVsayKsC+24JE6is1Y+/CM5KG7CMOE1fl08ptxY/b67j6XRt+8lD+zXqIaZ2y8K57NVyzpWCFmpEYM/XCYMgCJgQAAAORBmsxJ4Q8mUwURPDf//qeEAAyQCRf1ViACDq/k19J8A5ffJKu4qh7/E3lfXj94lFgmey8EYUtydRWcZBIWC0Mg+ktPx35UC1bpXLkAkiaRhbfgtSV+/pEB1h17AWZA0D3i5zl0ijgLGsEDrYwf/XB62TDwF4cM5j7leL9dNsLMCPusNEw0SL4FUzDZlrS9zd7+42F4bAebkOyySkM0GwcVeRXKZmqsBHYlIRMDbMQHg8ohOteoBcPvAFZaTx8KfIQOnjI79W2oebhM9krGb4qJVWNQVoCdrQ/rHmheLtem9p6QAkYAAABXAZ7rakK/AAoY8SIAQfqjnIukz6e2/Kgb7CfDl8219x0b4x/g/uelaUDwQz3y0PjW934DS/a/iMwY17SXqB4y8tX8O8FSyWWycEUKV7PBwNhhSwRAIApIAAAArEGa7UnhDyZTAhv//qeEAAyRx1kqxABGGjiFrgPgdN0BaI4PNNtFxrn3HQCZS9+zOLLoknRdL14cd30B8qMJIEt7RpcLYQr9jldPWbLGk2awjS4HAM1A5iQ1GsXIpj6SidjUqF5TtJ2FLLUq1FmrQAZqsvwl7D8i7KJ7yJ+FVru1z2vluTLK4pwVQBb4opNHaH+A3QPzGWzhy1gdBM68zgF7DmL2ISc7AR4booEAAACfQZsOSeEPJlMCG//+p4QADIxS1AESl4fBT/agksZYJ5uqPcSbZThlZJYFI5B74oe3NtWU96ltRBDM4La1/RUru5JbQJUXMErnwXxOQBA+GnctlrAfeDny6/GQj6ajMP/VB/IZfhNJWOrRSlLgKaWM6BSWZm62qC2CQolcWPZiuyBXPLPdl7C2u4ZX3WJbeWdD4WbTWxQUUXPesZ/NnHYhAAAAg0GbL0nhDyZTAhv//qeEAAB0BRpAN81FRBABqYmWB0g1R2mQeafyLOU3p9wO5/Isbnxr9yS0ayWeo45BA5aT/f1q3/naik8BiROakbaVW5SqECg4waKy9w4dzOge5D87LDod1IPmgEY3FvAwRorQFEwbJa196sEYoyzajmWlcIuRtEyBAAAAoUGbUUnhDyZTBRE8N//+p4QADI0sl7WtKRPZDwArA0cS9q+KKKNxFuyK4vlJxckJnODcpur3LLeHSJJ/ObY1HlBoM+JbMhIfPThm0FLDysq5aoGEn802KjFaRh0yLdBiE2RfZFxVA707iWfdNqRE939jNSnKqP8uEDsFFRXKM+ylbGBgqkCGmb44SCnNY2tbUjDdpqHf04PBl/PuXwPc/N3oAAAAZwGfcGpCvwAKO0TxpoVf+USAEB+6AYWQckDjOCcn2Ac/kwc9FEhISHFF3b4SS5z76wVb/A97fJXhHR5GbMbKXwkaVlrG64RgdEHlhs5dGidvYbEoNq6CSfT8KBogcMVit9Xp4dHAJGAAAACQQZtzSeEPJlMFPDf//qeEAAyN1RTTT7Rkj/eAEfewRq+iglrSFp3P/oRrKzk+j8FWxAzzrg+8w0j0vjnMXxBTAog6+xnO1pq2njAY/elY4tN7dl/SIxO4SgMeYhu7bnaQzOH4LkvKXOcAlc1ghMgLnHQIqZ+bdBmr9DgtSzvbsc6hXhgwB52Jhm5Cx2Lu0O6BAAAAgwGfkmpCvwAKO0TyJFkSlACDiZn+aZ7YSSmYoLztcCrtw2VGHmbtDrcTxZ/mDdtmaqdLYtAjSzmRAVyHbmHBdsQMYj5L1zPkRHBJu4Kms91Z8mlXgNvdmGqFcudORagazUsrTO6bHNj3ygOetZojgBuQ5uC1jyi9BUnwexbWFpBxALaAAAAAn0GblEnhDyZTAhv//qeEAAyNLJKazDUBe8AJIylbuqFv0mHRZeN24nj1Dcp6f2PkRAcLiXV/kK7g3ZHf40xTAvpvVGMKb7O9b/r9mp3MYIP4k/syMqRjSKCLMZqXE5XtkBTF+iZHCSg+oLpg3qed9N7Xj1SWz5PDVJgzfnExVoqwrOjakUcCpy8UsUopIRJDQqwirQzqgLhPt8etfpgeEAAAAK9Bm7VJ4Q8mUwIb//6nhAAMjdUWGUrPh2f7e2QBfqk2UnzIWFtU1tx52YIf69VfiS3JzwTg7k1TkB8AVLAT/1+9p53mF4tvS8DslmE9rDEeld2oy//yZRcYPEw82aS+oruNwfBK0ufFaP1sQt2l+zbZS78oQub4GAv/PKmbbT2T9iz62o+c6mqkvRgg0Ef7vIwyEFhaEnhe3nLeqdQr+OpzHENoLRKM/DwAgfO+qxvhAAAAjEGb1knhDyZTAhv//qeEAAyf9H2NXEvMntpErTmigggGKGKwI8z0itUvr2zqiN30OEdOmdlMOpoEe/ML2ejAzzn7bd/N2np2rh8bVEBV6+CbfcbBOw2x2dJ3VL+X0X1C3XcRBr+0LyQoo93Fr25xzNQiDm7aFOhYW/tzaIPv4M1eK9Q6gVc7bgWChWHwAAAAqUGb+EnhDyZTBRE8N//+p4QADJ8J5oiN1N1v+AECSKh9LNh6KvrN5mtD2cuL+jxlANNUGw+A3z3Zl9Z6Ox35/bt7drsoyFHFeGtIG4BK41Np1+kmd1ugojtGDMSz5lSi4jqocjgaEqz3rRW1ciSbXTMubkIjZxaVh7dDwLC220T4TmK+GCR05Qp9ePCNdGn9Nt94Uq047WhbSKAoX5HCzGcFLa+Aewe/T18AAAB1AZ4XakK/AARzS+3+fKKXSop24EBlTkoVAuexIP/tMAE4VR2Nw4b7RpZGS+a2M6oArXoWtnVVt4igeU8xcyHi7gXKXRbYmT1Datv6tKBslA42uBvPwR5CbWXi2UGCKF12N6o1rLAAXblrbYwUZW+N45DvgCThAAAAnkGaGknhDyZTBTw3//6nhAAFiCo/3ZQAE5WlxUGbVlOXipiBjVIhGgOX/1+DpJlDRplOOZjQGsmwqhUtLO58lo2EjeMLl2QGt7sSnPLBQ9k7/LZKf2ZbPGUGS4z7a/KFO6yrVPOKb7PvO39H3L/zpioFpIm/PGeGX1n8d18XyEsMLVVwTAkfE+xH54mMl5jTqDdiUoC1G180QLH8aHBSAAAAbQGeOWpCvwAEZ8ofEbMl5N9vughYJ5JkADZejk4rBbn9SsqpuHqxC9GkBuTzfLXz9/rYtkD469KXiChVwn9Mxf5PXjqr157U5sl0OUkWmJbiOk6WNkKKmMr/QeZFfDd+3cQP3gY2irjnoPTZh7sAAACZQZo7SeEPJlMCG//+p4QABYgGSLmv8RwlaiVkPACVRhecSUpOgtsHd3Q46Wm8Bax2seusrOw19itsdItRDqvP0eoT5OYipLzvzrpOYQZjv1/0Twq7dXiYuL7yyyvsh+ItJhX2SznVXrQj4qZtiN6pYh1gifYoewb9Df46GDrdCNoMrHMEtYq4nQgCcPql2JAHJnmtKG5ZgGALAAAAxUGaXEnhDyZTAhv//qeEAAWP+j9Nf1YrLopehJjKmDyJ+0CFN8QC6oy/QN/+JIA6L5KkN4CcGLngyhifILz/b6gePYmnSazncA8sC9ks6flV8+xaGxlXzInEyHW3FI2PFGwvVDylWJMs+B2V0hyRBquf6d5Auefbswvvmf/LBJ4m5k53ik1QWEdUiRBqe4sfoa731pkZoGYLCctnZhl6G06tbok+ggJXKWxGFyRrl3+/rjtlOQl7+mPNDaECHPMFmacnAAD/AAAAyEGafUnhDyZTAhv//qeEAAWPmXahsyRFG/infAAhbJ8PD3Kr/N6G5SDfjJWdkfjJn2bt86t/vvs+PabfeD9ABkRKj5l+7GjeiVglJt1wP+P1z916jaYZUtedYzDt++iEd4yxbc1b6yrba6/bm8+iTxvzR/cfWUI2v3QHyUGGXibntuJYTlwYUMOPfhP2C22mo6E8ZJjw8y7s+RWvjw0wwPnO0z08quU23aLRAcydTUMiF+bMGeE6Nn/KM7VwY6QVj1pDWLsJdcpJAAAAo0GanknhDyZTAhv//qeEAAJqRp6rRAAuoe8ldsqCXQv27l8cWcLzamzt868zhh+B4P5+AUieepDHzn5FhuGlPTEJPbvhWL6BOIfCeumxY299klppwyfjzTCQ0kdZ4mH+YDSX8aMpHEAItYjz4v4NwsZ83ADRdcPA5pjOVB3m9yfV0xD5N5diM1AoezqbHPgn3x4lZAU7yWyQpVPtDr6fWSXVm+MAAACQQZqgSeEPJlMFETw3//6nhAACbdN7Rze1LGIzQaof+05a+AD57ClEn//D9f5prRRotNLxWN1xEhvfJfAAOxvwTNVayFVsGK4uvSSuGRHgdObbaHSXRJtERQJ79A4Z4ptNQkjdLl3+jkLdkwuDsU+oRHUWQYi/MeTel5YbRTdnDVvWz3eNZzXfw2laXnvIL4lAAAAAbgGe32pCvwAB8X26v/bXsmjKhwgAQAm9YX/fxjFqaCGpnNiJWrQFKleHoOEQMIYMUqopvdngmegi7gqHNGRiIl5dX3ZcF4UTkSeGlmH3ZMvFhNtD/IgKPVnb1Y0YnjAbKz1NQ7QazZ+mjWAXYrUhAAAAckGawknhDyZTBTw3//6nhAABDum9gXhCVcCd7UztNk5Cgv+cmulGq1+f0kkrfoMDOKgjQzdaCxTt+0zJhSDIycLSNPQi62ill2CE4vJ/1RQxT2aPOzePB5LtF9m5ESgicrXB78JteiMWCjjTeLWNxhe5sgAAAH0BnuFqQr8AAN0ONX60NGbyYgAhukRG4yu5IbZEimIH4njEmI0SgJPOkj05MQpNVsd1SqjiBKg4org5hKMe3AlHmkC1KLA0HV47nxosyLYLiwCs2WZM83NWocgRb/Dhw9hI5OQAKWTUx/QrEj2PzRVxd7P/ZVD3AjrF8XT0wQAAAIdBmuNJ4Q8mUwIb//6nhAABBum9qCdFbW28KJaHRfdR6EpCNW3VGBOj48bwueZ1ZMFlx88YjrdJAAuT2tGMY6fbVgE5TtFPWbaJJtKxuY8661nSOw9bH34tq5yHeG3nCgE0V49SWHk0PVywt0zGNgAdq5hRsv6FZIP/LwUvPo8bY4xi/byNd4wAAADVQZsFSeEPJlMFETwz//6eEAABxO3WeezPryAIkDoOTwkg9WF5Sb0soah9dtECTlSeHfHXYj58hTzA2ByQefi/JpBkax1bsXdkqtPxiCpwqyNxjwQtCjaNK8jlA3o3CNWWFytpLzx79V5NR/y9W9udcR6CqU5fgzfA2gd/G9fO+qiWyM5vJrgi23ja2+WA2rvK7AW1sNfigAehjuHaRStmb4+UDRTSTk/14u3tlPFOvBFtV1y9SPB0KzHbkgjAOaUh+a50SEoiYVMTvGPoRuD4gpbUmwsRAAAAWwGfJGpCvwAAX0sz94O1YAM3o2IaLHziRzul5vaO4zGc8KWIH6Mqj0gViFEjZqlgJM3KJxkYuTVY256voDccVbaKVA0tsVSJF/IADYarhvCB2HcheqX4m7OD4DEAAACDQZsnSeEPJlMFPCv//jhAAAbv1IufR6AspUDUSZtwDAEUoeCOtUbQnXkYPsSmj+3/mgfUpr+zaN6pem5p5fkiyJTt90zdpiVUAtRuxY/WJXh94R9FYS8vGNEo+kFHe3B1NgGQ4rVmHkiYSwvBV4T1ObpwXry/lWCpiUzMYgvGMUwFuOEAAABnAZ9GakK/AABfiECG5n4uEsLLMVDnKkoAIBnWt4ICoVaC0Skfzn0/47NqLLM9Mq78hgQ5/xX76KXQODpCpvGazYY0xoCNiPh1JY0brM4CDwek5qR3BcBd9D4VffBlZIJktiSs4v1sIQAAAIJBm0hJ4Q8mUwIV//44QAADD2eKMfd/lCCGlKdx8Wg+N3kkmaCkqkLQAP8fcX6BG6i3866phcNW0KaTUrwsmJyyET3UvBiZq8+lCvW9Qd5lpFabncW5j1sGBoGBk/CShYNvEj+RwuWuDRaOQyFi/JBluDM29F3+wR1VGrkWxYnaAMjAAAAApUGbaUnhDyZTAhf//oywAABZKvNJRuAEh97GPPw5LWlxKZ+dWEW2abBGjPSWXMX5MXDDQFtIFjmR1krRbImpIoZCNMeepdeHK9aaSC+z9Mq2tOBrVlBm3C0hRU5o0yhidJGebfLDTzK6L5pJD2kTj8r+waPkiROrM+1nHIEp4RiKirpJxEawye8AYEcsH/DxP0wn4Nt9TvCFogCosQiYhY6+47t1pAAAANFBm4tJ4Q8mUwURPCv//jhAAAFa5PsvH6h/1/lcRVJOxjkANptBF1hC+2X2iq10QchyvFDU0vuvAad7LsB/DrCJEqjnUWQOIMIwoyho3aeWzVe8zIf32nfB1olHAvN7VJwbqOwbUdQZmGkeBV/AHGW1D9fkMrybW0hJalrl65d48FZpP5esStCOqEZU51vrmqWtEVJtJviPA/c77oGeOGRWAkHJhCPnPi3FPszHQiOTBrqQXiu3Z1Vs02axc7rK/gGb+pg83OaAu52Gnzl82hvxZwAAAHsBn6pqQr8AABJZCICluabVQANASX4cDY/oMjKBDs3SJZjGtM3kvlo/3a5iQs1+rfECGp86GqDyjTgYQQqAaQSKfBXTLqR3Irb0XG/AzHnXobXEvqRkp2aeOdpU7a8HmJbkYOxxKCo4FVb//41HtqVcSpveG45KPoCK6NAAAAC3QZusSeEPJlMCFf/+OEAAAJd0TYszsSpJ49bSQ1XA05xSpJgtxE8hb7UrAEUb9FEkEG2v+SDMnFCzPGZLB09rZ3pBQe+UAIZmN3Cu3fMso2gtDa/jYHAmsi1N/WIgKp/a7WI+B2rZiaBZz4Ogp8ijuMgN1ZxoKVjaC85yS46JOnNljHDrOY0gwq7rycbwNQC4cBEladtAC53nLOiQwspcwV7lBq5IQD60mJGoPa8nU+viVEAbAFGgAAAAl0GbzUnhDyZTAhn//p4QAAAl3TekihaHQ3ngF/uLQN1TEm6+UNJ6o8z2ugHmBov9jgfGcKfHiveF/WVw/h/OhBiL53T0NPcbz1ubm8Bdwq0reL19PhxqWAT/hZMo23qU6zPG7M90VXS/HoX9kU+JpahQp3KWNrN7CTwvH9x/NcWTC/GLpYyClUKKsUYN41QKAWoLdM7cvdsAAADwQZvuSeEPJlMCGf/+nhAAABBRHcHF/IAPYj32LwVS6mQH3PwkyVK6edARXQbcr1O0PC/5HFRN3k/d1fYp200gEQEF6jItg4b8GAfEy8BZ63qbhOR92b/QOTIwlDzzLbOsqAqBRr9zzeFbEp50+s1hvvGOwoCrCdDQByBRxO9/TcMYY/j82GigYMGhWJu0LPNRvuZPfHfz9pNTwgcLUktySfhBhXEEagyeJ7e6mnndMif0UGwxg4j8dLPoAz1Wr4UVioMIKSGfWeCRwJU3NBCKvp2jTHJEy8KKXVbScdUiEZhWtLeTR5rbM2fmsuSkRck5AAAAy0GaD0nhDyZTAhX//jhAAAA/u/9I0Y/7cnOV1AB8EgsKDaNsLqbKCJcBUHLHdBNwwmB2OX42SXLcT8WfzWpDxqwLqHwL/VjcAGTf71csaMqPTcR23S8I4Wiv3ASiGlRtjDXX+T4yPiikDXmPq7nfyO9KMr/zRXLB5cToMVHa37b087kfflw3TWqOKCe69u5lMMiv6B0bjWJoMzA2oPJ061DUo0R11jIn8BfYGeoVx0x+1CfInMSd+1HzyZb7Y7z0wHEovVLmZSM8uI+BAAAAzUGaMEnhDyZTAhn//p4QAAAHPOTdqWCz1wBPUz8MOJNK/ada7wYbdf69fSPO2GP2hsc3Zi0wKUe1HIVhAfmROUS05Eyr2m4iYD7/65chfJXem9U6Df3bLvZLDE62MMSxIDRlliGvuCY+sLWPz3QNWkiCwkuXEcfcik6rcIH5HszyZCQTvLYTz/ZMGhesyXnEbzfhxsBnwQL3d0sERvThc2XxFcUYo9g7U6Mw41jLVqOI45EDOgyUr/UxvCrZLCAJMHebvzvyVT1lYQJXYPcAAADRQZpRSeEPJlMCFf/+OEAAABxt/rGpjtO3eGVNAC1Y0ZR4hjk64nhGCko/EO1e7Qinr2lrKdbrw4zggkdVzQzqw1dBmV3fWKuTwF1kPbRa8/FTYAtOsneR7JlVuMC9Jjx6sXkO2jlMepI1o9l8UvsXnjB5PkL7okMbFjMUtD+I4AEKupOoqucJgoGGHExU4+NAwjP9cdB9g8lJ4m1u3/csfQQwX/O4uL02GWsLCJ9PzC9oq0A9UFcW8iyahL4gwgDBqJQ39+fH78V60V+nXOEjdkgAAADTQZpySeEPJlMCGf/+nhAAAAMDN2rjhQZmgAVqwAAO9ZrTkBcLRx0+VWUjPZKHT6CGHX564O1qKx+JLInFca035p6H4wa3jZouzEfu2KmagvTgQtwlW3wgv5lpnmrsPQ4k1oHJTTgF+YqM/lsAmwtjiE7Jo5CZLC6HwdDL0S1Zy+XMyxYdqAtaPItsGkpJHu1z6fH7jSqDDbyTOi0yvJDVzqBVjjRAiXZBJ4RgycKo9WHS9C2cat0gY6SLVUjWOUBGqsPTngQGNmSjSAD8plseynZfoQAAAMtBmpNJ4Q8mUwIZ//6eEAAAAwM7wltgfkDzkN3sdpQBVmtJZCC/sn/LldUEs5PQInLRZP9keKd/l7BXigDbb8dNadbesiYXXcnJvATQnyLQnQMs+ZAHxPyaTkb304qfUw7m4qH+lMMQTOidlJlSw34dwLJJTZMnLbieYgag4QE3JXgAiW1/kfJjYcp5g4kRq/dOIpGZa6d6/MgClErQksH7S+fu6uLdDo9GW5KlDIwokN5I3D40jpl4uloAFKXP5ovaujRs1OGL22MmgAAAALtBmrRJ4Q8mUwIZ//6eEAAAAwFhrHAg9pACEKXSzCeaFSoHaIu1NiR0Jll/cQng35JsW0fQTfPRkvM8+BJVyW+BrN6/hb+lh0a/+9wEjNFiuWpCinE4IfBnOGsJ3P2Cc2TM/CD/JUDLq3HYeDjYW4vRLj8uF6geEXsvaJj1aMbAsohGxhbUyXjCTFCdV8wqzmDBcDTxLcHWxhzoczjbFmDjJ//QL+7QR2MUb/VOgBu53wxPhCEzVncg+hwUAAAAkEGa1UnhDyZTAhX//jhAAAAFa/0tBkK8eFucTvs6DjTK+4IkCdQRBFYODYsC+pmz6vaIYqHQlbjC1uyhjgp4iQ+GTYZH0mgB0c4CHY6D74Ywn2yeWP1X1VHNnzWXd+zxCW7Ofi8RroRYBoK3SQ4O3mTpxoWl6/KPBPQeJBvB6fwk/VJqy2ocZoLuoAt+G4DKQQAAAOtBmvZJ4Q8mUwIZ//6eEAAAAwCaodgiPx/IAPuVJ3mi2KoRhBx+Id8gS7XyDjZjXdx3SVtqf+jz7imz8b9Q+2FWXupUGkoLJ2yawH2QGD+/kRE+hJTi3IhwbQlb/itYDoUjup0gcnEaEmeBhM+QqKetT7tjlJOboglPBHjZejGiZjALOX76/YIGP8VtPENSh0Uj9/goPjtwpgJl4t3oMm0syBG3+zceesr3FusIMGbsXKO1IyTMEFIBKSnk7cFhv0AUPQUmRaeoPoYJemEBChiLJADASSvD8xa1W/6TV3K5ILFAkSY98+aWDZd+AAAAp0GbF0nhDyZTAhX//jhAAAADAl3+SCc5NbfzFQz/jac0sBOnkhEvu0WQAffTM99rUEIrFCU/dn24w2TcVpd6Oorv/2jlPyBxwyEXXrxgPsxPZqnwsKdpUyzFOV1be6hDzZoVmPgNrecQhGTy3a4Ca72mHK2CHFQWuHvwon2MUlA0UxwWqs1ZmjYd9tsG1VGvpcRl+VjPe6iIVcdkC8R3cTCSXcVmRcdpAAAA0UGbOEnhDyZTAhn//p4QAAADAWP5HAE3rOEZ/5gCSqk3bEeCzD6gAWnzuQfvKS09lAAnbVTbT2V4yjQdRNcMiBdxfHOTKY/mrTp9YcK/IJzDCGa6uvp+JCu7KJqnEbx/hJgmE1rn+3OfJmoyX7UgpUvNafCHVFZYXkINMSWr57dmpE6zfjaA1bVNTTwnCXpqI3+7w3TWkjmDc2BCQtg8kj06f9EeJhlRcCX45GkHbrCBkQVpGyTtuxvnbHUIH5YStR8ZpPolrOpcb14080CKl6KRAAAAvkGbWUnhDyZTAhX//jhAAAADAP2N5tQzIwZMw6AFu/2eamL0Q+QfSlNiDAIKW86Om1+s2iI9JndB544dvvqqTIQ1kZc6TfF9JL1TJg6tYKUu2WzE8qj01/m4LA1oBY5zQqlz5pzl4sKuf2UTI8pZ+Gi4Tj0iq7mzX6ZKYUXIreN/3OmyN8O28dMwmTvnshdK68Ksh9grZWCeol/RcCJouW9mo/8Gs59l6Q9+y1YbEQhwrrpr1utKUmlbvn0kzYAAAAN8ZYiCAA3//uED+BTXtRSL9YS5G3EpdM2fOQGI9dBhrB4Gi0ABiQdwiKP9YBXjVSuWrmMLY145YF/fi/ZiFzC6RCOZ5M+Yz59gpEbbCiEQ4oBbdnMFvBSkyrshMcRktBerE1tUoSLRqHLAe4RcNtJ9/3NLKSZrNU8nDWR7RDDLoAAIw1ZfQAS3AA5gI+CHQAAAAwAAAwAAAwAAAwAAAwAAAwAAAwAAAwAAAwAAAwACzsyjkv28OfvrepN4g+/XsiRUitjkKVmCVXOAmNhWWbMaK5HbzU1IuFfr7+H4Xmtl48YKv3MlJibqW+cqtJVLRcKB8Sh/Uggmqfg5fzSQb8ABItZwFQD6uwWFzLZnsobTyIyCX41rprXJjsX5dkN33TijhGz0CTTY/w8jxWu+QUVYmqgMHgAAAwAAAwAAAwAAAwAChCedvVINUgwRwRStqM6DXeEdW3+5TxiQHur7Fix2uN56hvL4fEhj9pNc+Oz2H0kfjhGniPVnmVkcEbYRMPyaZ1kPR6w80cSUqqRVy3+wbrnj/Gi4Ac8DyrZSH1JRiQIpOy0J+uY3HQn6E8XvlGgtGnPiyb1Ec4LxyNmNLzaH17cgZy3bscuk3u2vy8W7oeeaD/A08smEFNbpbyk9LZtEuTtdi5f3Lojk+0zPSylK8FNDuZ/j9VdZo/GkkCrEcoTfWzppinLr5GNcKAYoDiymbYLX+IJVz6DMah+j8ukUf7/CrPx1MLEXG5V+Ox1b3+1PWopG9X3mA/yPQQQI75+icpOTBGGPW9EfyB97tmDaY+VPdxxIBGFqHyPgCqQT52Jt3m8yFSDdO5jvklrks6KTO+3/y+noGLBrmC7xnh09P0PzmE+S8/pc2jmQ0XZxKGQzvxYRaJdgV47oJ8DCgurPhYsFaGwDgu/ocWy14fTwnpavgBlrfPlbaXoxBBXhI5GAk+qqo8/yv3WmucKBOBsqs6Fn/oO2gHADASF3wFUDORQf+1QBv8qONVXPTUad85Ci53V5oDzTSVHuF78M+VDaem30PadwzcOXP9d7q5m1BKERVi1hBJq8oPPyDneSUs1V3msm0zsNSUSVw9vJOzV3nsSwtdQVASvYody/4P1TZ4stn4JPaUFJ/IiMak1VzTW5TlDozruz8SRfN3J9tAMVU7nAMOpRkrVilOOYU+wf5hOAkN2hHneiv2AO2QAAAMhBmiFsQz/+nhAAAAMAHR9jW183gEJEzLc/3igAqDGYuM/A+s03mTIUieK4if/5frls7p77BH+k0/TPZJN+PvEM0misGwrKvr9iZWyl6pRjVJO97GKAePsDcWHPkwF8m/f0mUlfutf0lfGBN7U+zcDdcfSI/RV6fL6e0bbf3YR4NBLNQnGlO1HjxW8deV23rfEOJ7ELdSFE+2SI6b+bmb8h56NbgLWDKZFNxWn5ytcACsg77mt6ZPPXbSCwELhJr7/8lU3I1ZtfgAAAAYlBmkU8IZMphCv//jhAAAADAG79SMEup0IAFHxuIH1Nb8ARkdyVpBBNeMLXBQ29U93I0eQDxgdkrM//DDMdVUpmC1HNl6Hy2KrhpL8hrJcqAb3KEBEkp6Jc4a+Z8nCORnKWwscD3gj5BPlYH2cL7ob//ZZOVpY7eJU6IRLWbIX7hhfkTB2NhfKMn7J4u9n3+4LPDO9EdxYtgu/wGStaJl1fZtk2H6wORI0X5zrJzUmKGv68Vi81cZd8EbA9yVfSwRhj/irYf/8w/7qh1OVwQBUSn7r6jqHyw92t9/4JzQVZanSv02AOG3iWOX0fSdB/1FJl9oqO6hENEwwTfddddFYlZMdPUgsAKv7SuJhO53Jb7QVhsOUUTYEIzft1Xs6DbznnLCF1U0WQBqpMV4uhggwGGAQCwopH/zoq412PXH7aCDrMa0f3cxp08Ms1rdgX4r37Eb5bXJ/IOL6WAruGJBFbVpM11O7KVGbCLrJXSyJkouzIiW9EfVbEKC3wAjIk4tymbLc9CsnDGUEAAACdQZ5jalPDPwAAAwADN/GfP8SCibDuiPkmI+mJdZ2awArjjlRqqc+Krw3C1A/lrLdos6zJf8vrVf3XY8EgKi320iAS41DUAjN0T9UOSNaeMoOkSYGCcUfqdob71SZYZg50XzOVZ726JsRTMkS1i6fcJ8190PQUUtv2mMr5jJwvKhIBcp2y4BXw+5hL5seKiyKWCskLvlfcksn6gAH8gQAAAJwBnoJ0Qr8AAAMABff7BCbK/OadxMQAhOfGaKtM9M1hNlKaYd4vIWfMiWlDFto95RDGUFDPBdvRku9uZElzI9hcJ0bRMSbrWWwgeqX6Sex4iXs7LIYgwUgttzCTyM85h2hnPI75pbkDasU1CVsnfKjdVzgOBtiOtbGTpnBsEfBNgkN3J87ftPUwQpnnNGOm87DX+SoGjq/++SMf3MgAAABqAZ6EakK/AAADAAKgy0z64osqoKgBIflJv3JsHXrjY7bLJ8LBiZqnAR7KJkF+K9qwZqeOuLP1N4cwYgzjpHEf2Y5C9nLNXNWfukcAQ5i7iv+WxhMeN1VuWQ869OddGhqewQcKqznhoOwwcAAAAONBmoZJqEFomUwIX//+jLAAAAMABXeZUzfC4wv15kk5c4ANd53YPwaDlKrUi7xAO/w3mLpFtM9fOICkfOS5aP1ThVYqwQck4cvq6bSOT1ooPPoz9lolVCgpiqGkF7VLDmr6y99lCQUE5k+Kp8Tjuw5yK8pOi6GKjJAb44vMQd2YnMRyQd9mnHmf6cvMFJfbT8n7iCGn4Vz0v7Yfevlyp1ERowtQkYeo9cDktDYxjW9lFQ53i3FIQE6v6A2z85i6Qn9QduZB0xkC6fJmnFsDlQoHnXPcBCy1o2vH0yuWjYynUuRYCwAAATRBmqlJ4QpSZTAhX/44QAAAAwAJN70+Z2iby9M+tOt2wAsZJjGn3RXv3KT37JI3E2aDszyyIEt6MdLD0BluKLskexcskIQfy1AKi4xbVfK2bHsFi2c9St9zOpBTX1xzwGNjegekFhECD/BuBrrAtUo4e8Gx0pyJ4pXVg3sVkIaJ3gcV9H/vXYHDuI68Zv/pr+dwe1wrRfkiK0snW3a4Xu9e4sc07oRA3/g+yNctJFjZH9dgmM1o0ZMmzh5DSaZdL3wRtNbAE8rWUmcqQmNXOiIMSAte5a1kHcgwUKtZiEH2t1/UPDTS5bmJntqwgiGGSoTukcCkQANJCOsF8VMGxpBW2XVPIE+saBO5gFS8ysjWjs0beT0DgDh5BkTs5bDi46B4ZIVCLtxXQp5Rm5O3Pc2CWnhckgAAAHRBnsdFNEwv/wAAAwAAXSU707ol4qlDJSExwdTv3nL78iAC2Fvw9CBh+mdtWhKMiFyUeJCAJAWtRT926Pr2FX79Jltd2eGQzbYsIB+r3FtAAH6S3bi6ffnicv6yJmg3pibN/K+on4F7OUpVFC8YqSlyHFwecQAAAIMBnuhqQr8AAAMAAHxAdh7Vwe1J6Iha4ARBDPlbOwZJxY8M1fuiW5BwyRRIb1dY/vbaEf+pU34oVTBRDOu94CAY2/cLQQS6PF+JsQ9kHYPO5yd32Fm1jkkyhsofBDE0c9y9igBXB48MppNrFdqEV/ul3Vq3Hy8LrgNtsZrwsq2ljID2MAAAAOpBmupJqEFomUwIV//+OEAAAAMAA+W/814xgyJsYgY4va1ABM7yVnR/xavOfpjOvfH84DYeH71RdzZeuzTo+TtK+iHz3Yx47jelvIrhiiVc0VJYua9veLEwWpEJiPP6vV/DbqJXv5JUWBvy4Pik9CH5bg8OJDNUSxeQPFa6KDW1gGndAGfVXz9GcCmSt1C0Rb19DYx7YAOS6ZZXuZFh+srKbfXgpYwsatTiOMuS3OKljXBXh7jpebHrSVphynWmVnOq+190VvJtKSNSRjspTHk5AI6NroplBNC44h080vqTjwVYb0aqsY3O8tUAAACbQZsLSeEKUmUwIV/+OEAAAAMAA8qlAu2+wBBjqxgS/QAkYVVgc3shcuYzjxgy5O7ceATSTfUDCaQGQ/6AGJyHzcU1LAlF3+heoi4YvaHu/OpSql87DE5bPWieoBgmLsEO/z7r/rMY6xuQmI6mqqdq57NY02omgsZUfhnEPYgAvRSSznQE2x2VT//Kn3Ao6m1jA6Nry7+FVuqsx0EAAADlQZssSeEOiZTAhf/+jLAAAAMAAG+4Tnupn9B/4AQnqKeG/q/5reQTRCtMTCS8o0pAuiwk0SOIXA3EDbgjE1eviSA+0z3LDnOPZYqcMhRresHg+pRg8aE2Hn6yBoxR/huTOrk8fO+xVzskgzVIDJp4n1yZUTx7u3I0otBSsf/9gN9uqUa1cQ6YY+WiojJ+kl2rsyplemwRoM3xrpwlH5dw+RYAJxDcK9ehcYn/PEfU8CkUUaoiYv8w5pRD8Oskk9JhZCTUKuugkc1KeUHlkWaA6Vw34rKssxBIyFxfpIwEvar6rj/s3QAAAMFBm05J4Q8mUwURPCv//jhAAAADAAGn3/BQ3kX81aVmGItIKod4QAlqZlsLL35tX+3XfQ5HFXodBxPbLVsgRiaIt1XyJvqbFG7anNPXNhY5tYZ/Oft9xuaQ+N1I85zGm4eq0FpGHllrGfCtEoqWgCvPsmMdjUC6psQf1Tc7/2PDnDTKLvPWLOnNBudnzhYrA/BJx8HF3qQw++PreCqo7v4zYDvcw7Mv2H6XrORVmIR2Wmtop3SXHw6cnbWwc+Xy5cJhAAAAcQGfbWpCvwAAAwAAFrpMA+IEkCe16cc3cmH7jGzdHMs2VV955gRG3Z3xgBuaoibGECJrffAoe7KYqg9OqAihOia+eutA6EqB2wJN362gdATMDVhFDn+XlhpyruBW92lOKXTF3RtSjq1hl4qsf8NzyprwAAAAuEGbb0nhDyZTAhX//jhAAAADAAGd3/pZWmzkrYgBJrf9t1E1cHbxg/d+Ak8c3ZnDkhIbnH9Ub7GMG87xPAyCmmSth8vw3yHwIaxX8CKnV+Cj2O9Yo554M07jOK8p//PAxLn1rh8RUSTR2ykDE3HNv/PKXEji7dM9GsPfOPNAKCeSIci4X+VTKnI7r3CVGPmKYP8n73Q+O4is9fZHPo4pvTdctTcUafnkoIyEUZon9uaOQC5HH7HbgfgAAACiQZuQSeEPJlMCG//+p4QAAAMAAEO+RsFMb/39vOWageiACg8jUFuXLNBBo8hCfpWI1rLdSSPUwZsMEv6+p7xnpr/aiSmLBkQuLiLbwRGGFZ+/goL4UcwY/g+wDYsEbLXEcXu3KyrllDOELzYFX+0iU4X7fkZX3bJzt1L+OEEnfGWoeHzKII3jbFSM0dYuR7tFgB1YGsDUbZ6Rd1gLy79zbzmxAAAAtkGbsUnhDyZTAhv//qeEAAADAAALoHa5Bv9hJvz9oAE7IuMWDf22GBJO6QBE2Ke5jog/LDZFvFP179h5v5pBfWRuyR1bPkB7yFsNOKRhPPdY6ivcBH6mHGuaDJ3cyAjE3TezMV/A9I5BlR/A5Qz5qaxsvE+3T15DYws42CyunzVcPFikisozISvHjT8zqwIAjDv/oTysnlCRJP8ZJsvCYKs8XkP7z2JCaMBP88e8BuBlJWEczuqzAAAAwkGb00nhDyZTBRE8N//+p4QAAAMAAAuvvAO0FN0PQAnr0ExngodV0Y5lI+zi0pKxO8/9CJqFam5b0zWk1TS7WiB/obNkgn7nTwCf63YcHwv7wgkr/9VeLmbcEF9ZYlLRMzSZKHSrbHoS0SnRizwW5hsAm0DoEJpRAm4J2y3XEaXBEnmdBRjfNgQdeaHCjgxGvN3O+HxNlqIX+IHMxbXl0ZA7t0DckglR99kKU6Uoc8TqWBbL1JLJRaS2+hRjHv479OKAAAAAiwGf8mpCvwAAAwAACWyD/27R8zQsCvUCV6canhwQAQMh7geo2YdfOF5iFm9iOHuOHBL3mbYmm5V7p4KDNUz75KoEmozB664T2Uv4mi8aq05G96xSqsptEGBtldvlVawJS6kVvzQu1KyjkA2JfRto2vAc4wLAa98bJyb1WV4Rjftu+kjxDtTIQnn2AS8AAADSQZv0SeEPJlMCG//+p4QAAAMAAAtnvAbIAD/4egs2rSfST7Awze7+44dsAF519Z8Y0g3+saChbtQ/qG4KV4EjL05WPjm+GFroWJ62qpZAz86so0tWNv9mg/rikHLMb9HRd0CGHV4GdQQfII70unjLIOpFQapR1mRfnLWoNG5zAYGQae8OPiGi+a8FwH8EVD4gt2C9BzCF0gSZ4mKRlUzcOh5YwdVmtob0NJGbI7U9xE76VUDeRH+Mwg6B4hMJJmKby3ju8rnWhH4+8rFXvvUJyUvvAAAArUGaFUnhDyZTAhv//qeEAAADAAAJqPWwYTXADdkIwCaaYjuSO89Jr95tWh2JqVgXK19E8tMQ6gc1y1yjIRDHGHmPR1UqR38WMDtN2R057qw98VBYqGvdvWBmTAlGNS6CBAVLOrY/yBo9R/j6cADzZKJ7UupSlzJhCikbgbnhPFTgdscotyF77uj8BdBVg8pj2iypDsJeHxolGvcDpQnQEFEVl1NgAevbv6v42o0JAAAAsEGaNknhDyZTAhv//qeEAAADAAAJrhOXcLzIAreoJ1fiqvhCG5Tq/4Ns5S5+OUrkJ4YySiUdlY3hN9Si8+3igl4iNH4vwpbijvvsFS3N6Ai7SVd8NLSH1mxO9Qu1LE8Rf8KN2klGtPbVtqYojGrADipVSXOPSnoEOLVM6//Rdf5L3IaS9xz8ZpVwgZeXZ3fWKtWmFFwq3DWl47XcEbtvScjZ/72Hnh1dNUSXw3sxJsPgAAAAokGaV0nhDyZTAhv//qeEAAADAAAJqO20OA+7KiO7IEAx15PVwABwApx+r9kaJjlajykf3c0l+/PUvrL45a5b/wklmLj7S3Bt2xFiVA4khl0vTXeFkGCZ3DM9ZQfcv2jVUew9GeSSlP9V1oPwtHp60+r6J2AAJmc7r0L3clr1WfnmRyFZWsA2GtZCFA+2rr31/EUg2UTgdP+9hiKFtASO6GVu+AAAANtBmnlJ4Q8mUwURPDf//qeEAAADAAAVrf3wQdKAA6KAzlfstxVbZ9cTLmZKqn4jYC6uszpdfnxf9Cep5KUh3ZbdN6pJ/REiJhg0UzzV4fIGILljGZO6muK+M1FMJp7yHTZim6NUr1SNymn4Ng+0SOml4KRYjKa7B1ayOMEgi4xR3gh7aB307wNmMenDAWloM1ptSOGwDT3adcw8janiHj5sgBPOjPbqiFUGHOrgN/Jez0eIx0088x/z4r9z8b/3hfKmiC6fAewp5CotTu2sP4KGNHPXzsmo5qAMbLUAAABtAZ6YakK/AAADAAARXXbOAeJ2kBw1GnE/bb4cyJm0AITnEzwP3jAURfNlsQ6u+Dfn7iJ809+V5cR7v3z3L/7+z9ISA23iJ8JHhrewgF7Ly2pws91Vs3R/ukxY3AZqnHY998KBq7Vxrt2UH6algAAAAWJBmptJ4Q8mUwU8N//+p4QAAAMAABWMUEgt0EQZMiAAiD0FziAaQaZIZ1ArgTQKdZsQiZNpLyuMCC2oHFPKs0kpUYlSumE0/L5WUoIeDlzZUV5iglDY3zgw8rXj1gEJPbttGZbpdtM0Qvzv/n+0DR9gf8ktZmv14SYAYIU0c1ATv3oOL18Jj5Vs/tg4XTm9/AuIHXxvYlPfbl/x9Z9hURHvYuanw53WUcc1lOq3K6RHX0O96Ta5hOfji72cqzLkhqaWyVPM6WfiKfiDPtBb16/6+iCv/V+nMDzGadsRJUmgcBQVCffIVLVS7/kKFkHVIgCM5dSvl2c/nYjOMW2JTwuf3PUMurD7vuFcFvJCzYmSg9vyDtGZqPlckXShfpBDn3oAMn3G2zzkM7XG85etoXgV+vkDgIHb46Qgw2VAY6SR2SwBM6xiHxgq7AuewOoVrgPFpjLFUuiCf23VrztDcmu8V5gAAAB3AZ66akK/AAADAAARV3iKsaIATT+5PUWDf1HzNeMB33pwTPJw/zNUvHRtHqhND5GuhuuaRlzFeTMl3Icu7VjlnfEqH4pKzjzMS9+nPKbNHyn4V8xR9B03E0qbos2GntwueV5O0GN3EgxMhxdiIxLYV4s7T6stJkcAAAB9QZq8SeEPJlMCG//+p4QAAAMAABWuZdhiOFvp3GvOACowXUh+rLN2JVfQbUWGKglW4Rx2lVeoUoICdqrzz80uUGH5O2KDx4JMcphVad7Ebe5T4GPqCdPxHaaofnTAHMAca7KHj92Ya7c+9h505T4M0PjNYzDBjnULKTyVhtoAAADuQZrdSeEPJlMCG//+p4QAAAMAAC+uhDphsgCtwd70qw+eBAfMVu6JH4VTZBLIhRLqsCi78K3pdETyi4TDlOSbfqNivkTJ2GgERiWL+shf6e6eKQiZLVWLnvPgtpPObLDTYgguocZ6r4TkJ1iKNmWSXfqquSRvwdEei4C4fxKcqLYk+4s5q+nVJntrOX7mwX0iYJ6GeP695jokOI9Hpve+n3YhE8v7WGLP96f++zmbKjugDfTjTOC3PFHPBBwF2pDy8VLKhpItqvCvaIQcW48EGR5PYu+iSvh/RMtiMl89GY0NiHnBfVRuu1fPuOjD3wAAAORBmv5J4Q8mUwIb//6nhAAAAwAAZukQU7PjH/0aKt/s2XTLJpQAbSSTlBcNs8Vt0Pp7urZdTZMh3u8q2e/Yf/NHtrvenirS4Kh9wT8lZuMLvQ4oE/qlZQRP7s31aFv98KuqOpWWd3SK+ZEA71UmvnIZEBJP+SFVldPRw5Bq8igZB3nO5r1Sl8F5irxgxim09thWDaIdle45F07+pvnWsv8gkEFjfGefT2sLUqZ0odHxVXy23ntEHQeuAqCLGpXPsDyE/w1bSt/iqTwQU++fi4rBGAFqTSjf0V9dMTF8iMC/FByV3FEAAADGQZsfSeEPJlMCG//+p4QAAAMAAOfwaRVEiG+rhi7ynVupNKvrsxAAOobtRP1Oy9ef1mz5PrwlmCxOfrqOJ3aYGEvuqujPmA1+BVNp4N+Gu9431BPChv7OuBSHzxd9bBe+hB2sYk10e4xOtlKTJ95BoUpBxmkN2B8fVJ5eikSEo7V7aL6TYwsdy60J8JAMJV5Al+bsOqgd/RIa0kTeR3eVdEDj2zYNTOOERLcQE7V5UHnr/IcNESb89W36f5yooEffwgi+FeZ6AAAA9UGbIEnhDyZTAhv//qeEAAADAAIKRZ4KhxogzjKxOl5ughIwAbUbkrx1uXXfBtTE5GYRzcBVUCupLZJLMzvJnwd4x+mUYu4W9LuLc5v0pWF7KoL7iXy7l3KuPEnyAzjDVjFbLE7GeerDsCFGQbTANInMtYOAI/KairvW6+bT5n4AW/WcIt4D3h6Bbd1bdVVdFlwU9D7XfHZlaq639bjNCROLtQ49pSLhj1LNEN2ZnBonGPnj6rttypH2g86e8ZOJ19hvu79jBeTzNKqu+j4UMV1l3ow8dvSGr0oVsNxZszFd2O+jD1dGetJHbE/vhdn4Sik1kmRxAAAAnUGbQUnhDyZTAhv//qeEAAADAAIJzHx0/iFewLxK9gRuWG9kjkzJ9dJa/RF8WsV+HY8oYADRt+pAtlFcXP/npMsDZ3rQyWT82mKnYuCzV2vUgW6bxOx7BsvxDrK1xbv+GapthOICsp6aL32SiI1dUKwU5FrtK/SrIF2t699og75FlGMQybJ+h959pwAbvRl35gIVjWg3I6Iq7BKxT5cAAACaQZtiSeEPJlMCG//+p4QAAAMABLUAK4VLsdiN+Ac23kJLPHjxxAjW2nECuAI4ZtaPuniDaHRorw11ORw0hQddK5wyDOVebNHkNfnDqO5BX6vBZL+GKk9ipjvGhUnZultmKBBdtL9rZbq5pA7H8g3zzDRaMvTUXcXarcHu+aUL0+38FTA8y8a/ZZJJWtMwTiCnPeKOQEaIuMyEhQAAAHRBm4NJ4Q8mUwIb//6nhAAAAwAKx6Hjdnob7JPgHp8ppCV1aNWCAICwqsr9GUXkdVbJ4xn/zfg9PeP/21naxcc+AYlBjSiWnlez1LmXK87TgVm/AZJrJ96QlTathDYnpH5nc61KI5p+L5IrZn/359sORqBdgQAAAKRBm6RJ4Q8mUwIb//6nhAAAAwAYekPHDgawRVHPnQz4QP6msSvBb2qAZEiJ4MAAG0nSIv9rXfikJgVFKTL3e2eH1HVU2mef1po+lyS19bvma+WBkXa+nNU1bH/WbU1NgZgZBNmSNjIjgO62uaX3kAvW86rkpa+710xF69gGxmHmifG924T/8HmQBeBNOEPNbMjkqkJbrAhxlx4M0BgZP6Bmu1UwwAAAAJRBm8VJ4Q8mUwIb//6nhAAAAwAYd5bPG6CyilgAFtvN/0JFtZS+XdSaa/xUAdOcYrnfJgDBEOq7yTwp11fl2RUABwChf48rAlmc5p4otDEcWBQh8fIoKOQ5Drp3DvAMBOiwdhP+aTJQV2oA44VSXl16EbuGLIbcTpS+bXpP38NpGLl+z6lH/CejWr9lQwjmPg/n1CoQAAAAg0Gb5knhDyZTAhv//qeEAAADADc0h43Z6G+yT4BxKw6GJ4yyxMa1OBXpcPpoAOcfWvk1rW1Knv657dC7Jh2YgHVh19xMjv3Y9Sy40kP655Hy9gRAbqvexK4amkHAlJM6mogsr78C4GxX61dx49/UFO2OxKG/bPGnjPcZRIv8yIhgfxaBAAAA9EGaB0nhDyZTAhv//qeEAAADAHwOLxuz0N9knwDiVhu2as8bEBDVNwA2+RnK/JENY/S3lVZJ6KJz2ZlNmRhDK3wZm5OEabMPpeSMoQHt1A50Ps0HKaAi5JX+JM0+eNhdZuVavde7v5he4PFZNUjC5D75nB54GEfjoKzRK3Y9gbNZVsyfPSgLtu62+QI8NiuIgeqysDZZrGfZjvY8LMDnXlzEXAPUea/0XRZQ3bw/bGLuoBwOO8NhNN2WbaYhdwQfG0cZnEh7kB7P6JXDkN73xWN61SZYW9fmuTs5znUg9PDILCiPRcoMP+W6I4GOP9qtc5ERVQQAAAChQZooSeEPJlMCG//+p4QAAAMBHUADMsRgBFUc+cz87R/5GUjBtF2SwoUwAlTDyrRi18aLY93rJZkPgy2Alt2jnlYUrEZd1bLTnuNUcs2+aT8cq1FWQPQSaaLLhRzC7fST9oxO/iBBdFwke05hzhDxVsfo178OooESFTaa1p54Lz4F+ScY5Q6OS+r/h/2BMD9jiKa22xz/a39Ww6ZSsJDbfJEAAACHQZpJSeEPJlMCG//+p4QAAAMBHUAHCVK/9iN+AcSsN220RkqmtJ1+mAEEp9s22lifewisvpx0cGnRryAsAv2ejB9qsa0A15/5gzy9BwUosFO2eOmThhSfNVeyQs7sbt3HtEdNjnk15OarJ9jhx5DbBN6s/sMtPHZNy9mz1/C0XlRBwJiXLcLAAAAAhUGaaknhDyZTAhv//qeEAAADAo3oeNyZ2hvslk/0LGRvAnTbsGXb4UylNvAlkgBb1oRXLwZYPB8qSxDg/TXiP+tptPECyk8f288PlYvLV4RkjEx1uqWnEUODYDOzl47Ulj1J712K+ysZPl/FPQcmNw/5f3KG3PhiV56ip6iQXqt83gDADQcAAACRQZqLSeEPJlMCG//+p4QAAAXPJbN5CRhed7lmgBJte5BcH310zvYTTPoX5KeCNchKR5lALh1CBa1PxVs8FBJU9UnjJBBwP5CzXnf8dqdsoWD1wqPcRCNW7SzVzSeD7wHv9Tj+yzG3RGV9xHOVMZOOkpKqL4TA9EVPZaPh2JWBzeXBkENDadZPohZDJrs5ItENMQAAAJBBmqxJ4Q8mUwIb//6nhAAABc/Q3js76fZJ8A4lYbtlKwZR36b2/VWyZe4AP5j2TJdL6DYpfCy8CBtEU8R92n3zOKy2E4VpXjiMdD1MfuEGfJYWH1xUw5C184bluv2ABeOAbv/H++wv3DFyaxSDAK2+lQSdZCbncjzdaH/jZ//sif5ENsmrdNB2Lb+Hcw2U2XEAAACPQZrNSeEPJlMCG//+p4QAAA0tIeN2ehvsk+AcSsN2ykdjCH8lIKHw4oJkYYnsB5SUAJmRM5R2BcDgp/JwAYEBCpIZzA8VpjN2ALRn0vj+HDvgO7aU9+r4JPd93/y4+LGanLkcw70ZCeQYAUk//xF6KX8TMdnfPKQ+GRhuctIqzZur1/mM1j/+hNyPAg7Fq1MAAACWQZruSeEPJlMCGf/+nhAAAHPKa+NMUNiJ9tmnwq5xk8FM83+pAwAtnrwWESIRIhIp8zOE0iBslQnhmYNknzkCaoX16qbSQwXaGaiYlntxvYXAFTbhnRhtdKOLOvIQIyZVtDPOH/1WJl7xDFXF7ltqU4f8Z3glbqRBA7ZQ6izIfNPbggTNxohZ66WDzMPQYaKwOTIKs7kYAAAAYkGbD0nhDyZTAhn//p4QAAEFOC+NMUNiJ9tmnwq5xk8GRW8qCmOvTN5XgAf0Yf8H6I+TVIVOwC1kAgA8OQixlzQVc6vOx3+37gng65xnhmMaz2Au9BirT7IO/yCjF36fTDUgAAAAYUGbMEnhDyZTAhn//p4QAAEFFH6+KK/YMQlJwKvB9BEV7s7QZwSL4gFPytcAFqmToR36gksn8724dkq/WZ7I0RN7YMqN3pvBIGY2YQuPsW2lWTiKvLZntEC3xPfEMS0zcgkAAAB6QZtRSeEPJlMCFf/+OEAACSlHfJz6QhYFFxYa+8TkYYoqBBCPYexvABDemXLKt3nz18nBfC7WeADx5N+EAxra0k8Q8i7ryhM68dL5b6SsXZqz4nFGe0+sJedcolOxcCAVU8b7G0WEy95FoVnu91zwRelS9/ixuuJDZ3AAAA0ubW9vdgAAAGxtdmhkAAAAAAAAAAAAAAAAAAAD6AAAOpgAAQAAAQAAAAAAAAAAAAAAAAEAAAAAAAAAAAAAAAAAAAABAAAAAAAAAAAAAAAAAABAAAAAAAAAAAAAAAAAAAAAAAAAAAAAAAAAAAAAAAAAAgAADFh0cmFrAAAAXHRraGQAAAADAAAAAAAAAAAAAAABAAAAAAAAOpgAAAAAAAAAAAAAAAAAAAAAAAEAAAAAAAAAAAAAAAAAAAABAAAAAAAAAAAAAAAAAABAAAAAAgAAAAIAAAAAAAAkZWR0cwAAABxlbHN0AAAAAAAAAAEAADqYAAAEAAABAAAAAAvQbWRpYQAAACBtZGhkAAAAAAAAAAAAAAAAAAAoAAACWABVxAAAAAAALWhkbHIAAAAAAAAAAHZpZGUAAAAAAAAAAAAAAABWaWRlb0hhbmRsZXIAAAALe21pbmYAAAAUdm1oZAAAAAEAAAAAAAAAAAAAACRkaW5mAAAAHGRyZWYAAAAAAAAAAQAAAAx1cmwgAAAAAQAACztzdGJsAAAAl3N0c2QAAAAAAAAAAQAAAIdhdmMxAAAAAAAAAAEAAAAAAAAAAAAAAAAAAAAAAgACAABIAAAASAAAAAAAAAABAAAAAAAAAAAAAAAAAAAAAAAAAAAAAAAAAAAAAAAAAAAAGP//AAAAMWF2Y0MBZAAe/+EAGGdkAB6s2UCAEGhAAAADAEAAAAoDxYtlgAEABmjr48siwAAAABhzdHRzAAAAAAAAAAEAAAEsAAACAAAAABhzdHNzAAAAAAAAAAIAAAABAAAA+wAABXhjdHRzAAAAAAAAAK0AAAABAAAEAAAAAAEAAAoAAAAAAQAABAAAAAABAAAAAAAAAAEAAAIAAAAAAQAACAAAAAACAAACAAAAAAEAAAgAAAAAAgAAAgAAAAABAAAGAAAAAAEAAAIAAAAAAgAABAAAAAABAAAGAAAAAAEAAAIAAAAAAQAABAAAAAABAAAGAAAAAAEAAAIAAAAADwAABAAAAAABAAAKAAAAAAEAAAQAAAAAAQAAAAAAAAABAAACAAAAAAIAAAQAAAAAAQAABgAAAAABAAACAAAAAAEAAAYAAAAAAQAAAgAAAAABAAAGAAAAAAEAAAIAAAAAAQAABgAAAAABAAACAAAAAAEAAAYAAAAAAQAAAgAAAAABAAAGAAAAAAEAAAIAAAAACwAABAAAAAABAAAGAAAAAAEAAAIAAAAABgAABAAAAAABAAAGAAAAAAEAAAIAAAAABgAABAAAAAABAAAKAAAAAAEAAAQAAAAAAQAAAAAAAAABAAACAAAAAAQAAAQAAAAAAQAACAAAAAACAAACAAAAAAIAAAQAAAAAAQAACgAAAAABAAAEAAAAAAEAAAAAAAAAAQAAAgAAAAABAAAKAAAAAAEAAAQAAAAAAQAAAAAAAAABAAACAAAAAAEAAAoAAAAAAQAABAAAAAABAAAAAAAAAAEAAAIAAAAAAQAACgAAAAABAAAEAAAAAAEAAAAAAAAAAQAAAgAAAAABAAAGAAAAAAEAAAIAAAAAAQAABgAAAAABAAACAAAAAAEAAAQAAAAAAQAABgAAAAABAAACAAAAAAEAAAQAAAAAAQAACAAAAAACAAACAAAAAAEAAAYAAAAAAQAAAgAAAAABAAAEAAAAAAEAAAYAAAAAAQAAAgAAAAACAAAEAAAAAAEAAAYAAAAAAQAAAgAAAAABAAAGAAAAAAEAAAIAAAAAAQAABgAAAAABAAACAAAAAAEAAAYAAAAAAQAAAgAAAAABAAAGAAAAAAEAAAIAAAAABAAABAAAAAABAAAGAAAAAAEAAAIAAAAAAQAABgAAAAABAAACAAAAAAYAAAQAAAAAAQAABgAAAAABAAACAAAAAA4AAAQAAAAAAQAABgAAAAABAAACAAAAAAEAAAoAAAAAAQAABAAAAAABAAAAAAAAAAEAAAIAAAAAAQAABgAAAAABAAACAAAAAAIAAAQAAAAAAQAABgAAAAABAAACAAAAAAEAAAYAAAAAAQAAAgAAAAABAAAGAAAAAAEAAAIAAAAAAQAABgAAAAABAAACAAAAAAEAAAQAAAAAAQAABgAAAAABAAACAAAAAAEAAAQAAAAAAQAABgAAAAABAAACAAAAAAEAAAQAAAAAAQAABgAAAAABAAACAAAAAAkAAAQAAAAAAQAABgAAAAABAAACAAAAAAMAAAQAAAAAAQAABgAAAAABAAACAAAAAAEAAAYAAAAAAQAAAgAAAAADAAAEAAAAAAEAAAYAAAAAAQAAAgAAAAABAAAGAAAAAAEAAAIAAAAABAAABAAAAAABAAAGAAAAAAEAAAIAAAAAAQAABgAAAAABAAACAAAAAAEAAAQAAAAAAQAABgAAAAABAAACAAAAAAEAAAYAAAAAAQAAAgAAAAACAAAEAAAAAAEAAAYAAAAAAQAAAgAAAAAQAAAEAAAAAAEAAAoAAAAAAQAABAAAAAABAAAAAAAAAAEAAAIAAAAAAQAABAAAAAABAAAIAAAAAAIAAAIAAAAAAwAABAAAAAABAAAGAAAAAAEAAAIAAAAAAwAABAAAAAABAAAGAAAAAAEAAAIAAAAABAAABAAAAAABAAAGAAAAAAEAAAIAAAAAAQAABgAAAAABAAACAAAAABYAAAQAAAAAHHN0c2MAAAAAAAAAAQAAAAEAAAEsAAAAAQAABMRzdHN6AAAAAAAAAAAAAAEsAAAGbgAAAMoAAAApAAAARQAAAEEAAAB0AAAAOwAAAFgAAAB8AAAAYAAAAGIAAACJAAAAXAAAAJIAAAB8AAAAlAAAAGAAAABvAAAAcAAAAEwAAABwAAAAkwAAAG0AAACKAAAAkAAAAJcAAACIAAAAdAAAAH0AAACRAAAAXwAAAHYAAACOAAAAYgAAAHkAAAEOAAAAkAAAAKgAAACoAAAA9QAAALIAAAC9AAAAeAAAANcAAABkAAAA6wAAAG8AAADvAAAAWQAAAMIAAABkAAAAwgAAAIAAAACnAAAAzAAAAJ0AAADQAAAAtQAAANwAAADTAAAA5AAAALQAAADAAAAAmQAAALIAAABqAAAApQAAAKcAAACtAAAAwAAAAK0AAAC/AAAAqQAAAF4AAAClAAAAhAAAAJ0AAAC7AAAAtwAAAPQAAAGXAAAA1QAAAJAAAAClAAAA+AAAAPMAAADOAAAA4AAAAV8AAACOAAAAWgAAAJ4AAADUAAABZQAAAKwAAABXAAAAbAAAAPYAAACWAAAAUwAAAEAAAAD0AAAAXgAAAGEAAABbAAABNgAAAKwAAABtAAAAcQAAAKwAAABXAAAA2QAAAFQAAACuAAAA3gAAAFAAAACrAAAA1QAAAGoAAABkAAAAkQAAAGoAAACqAAAAsAAAAEEAAADSAAAAgAAAAMEAAABUAAAAqQAAAGgAAAC/AAAAXAAAAMkAAAB3AAAAogAAAFgAAADRAAAA2AAAAL0AAADTAAAAwgAAAI8AAADiAAAAcAAAANkAAACTAAAAyAAAANcAAACzAAAArQAAASwAAACEAAAAqgAAAK8AAADUAAAA2wAAAN8AAADoAAAA2AAAAP8AAAELAAABEgAAAQsAAAD4AAAA5wAAAMIAAADzAAAAnwAAATUAAACTAAAAhgAAAG8AAADXAAAAgwAAAMUAAADEAAAAqgAAAF8AAADcAAAAYgAAARYAAAB+AAAAxQAAAHMAAACuAAAA/wAAAHYAAAC0AAAA2AAAAGEAAAELAAABHgAAAJkAAAEFAAAA5gAAAPYAAADCAAAAuwAAALMAAACaAAAA3AAAAIMAAADoAAAAWwAAALAAAACjAAAAhwAAAKUAAABrAAAAlAAAAIcAAACjAAAAswAAAJAAAACtAAAAeQAAAKIAAABxAAAAnQAAAMkAAADMAAAApwAAAJQAAAByAAAAdgAAAIEAAACLAAAA2QAAAF8AAACHAAAAawAAAIYAAACpAAAA1QAAAH8AAAC7AAAAmwAAAPQAAADPAAAA0QAAANUAAADXAAAAzwAAAL8AAACUAAAA7wAAAKsAAADVAAAAwgAAA4AAAADMAAABjQAAAKEAAACgAAAAbgAAAOcAAAE4AAAAeAAAAIcAAADuAAAAnwAAAOkAAADFAAAAdQAAALwAAACmAAAAugAAAMYAAACPAAAA1gAAALEAAAC0AAAApgAAAN8AAABxAAABZgAAAHsAAACBAAAA8gAAAOgAAADKAAAA+QAAAKEAAACeAAAAeAAAAKgAAACYAAAAhwAAAPgAAAClAAAAiwAAAIkAAACVAAAAlAAAAJMAAACaAAAAZgAAAGUAAAB+AAAAFHN0Y28AAAAAAAAAAQAAADAAAABidWR0YQAAAFptZXRhAAAAAAAAACFoZGxyAAAAAAAAAABtZGlyYXBwbAAAAAAAAAAAAAAAAC1pbHN0AAAAJal0b28AAAAdZGF0YQAAAAEAAAAATGF2ZjU4LjI5LjEwMA==' controls>Sorry, seems like your browser doesn't support HTML5 audio/video</video></div>"
            ],
            "text/plain": [
              "<moviepy.video.io.html_tools.HTML2 object>"
            ]
          },
          "execution_count": 19,
          "metadata": {},
          "output_type": "execute_result"
        }
      ],
      "source": [
        "import moviepy.editor\n",
        "moviepy.editor.ipython_display(\"my_video.mp4\")"
      ]
    }
  ],
  "metadata": {
    "accelerator": "GPU",
    "colab": {
      "gpuType": "T4",
      "provenance": [],
      "machine_shape": "hm"
    },
    "kernelspec": {
      "display_name": "Python 3",
      "name": "python3"
    },
    "language_info": {
      "name": "python"
    }
  },
  "nbformat": 4,
  "nbformat_minor": 0
}